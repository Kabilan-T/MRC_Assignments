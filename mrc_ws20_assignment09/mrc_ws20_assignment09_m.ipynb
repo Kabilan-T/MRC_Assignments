{
 "cells": [
  {
   "cell_type": "markdown",
   "metadata": {
    "deletable": false,
    "editable": false,
    "nbgrader": {
     "cell_type": "markdown",
     "checksum": "a214b023de58bd665ff63a319db699b9",
     "grade": false,
     "grade_id": "header",
     "locked": true,
     "schema_version": 3,
     "solution": false
    }
   },
   "source": [
    "# Hochschule Bonn-Rhein-Sieg\n",
    "\n",
    "# Mathematics for Robotics and Control\n",
    "\n",
    "# Assignment 09 - Recursive Bayesian Filtering"
   ]
  },
  {
   "cell_type": "markdown",
   "metadata": {
    "deletable": false,
    "nbgrader": {
     "cell_type": "markdown",
     "checksum": "2f32b393c741284c6981c8cc5e552a64",
     "grade": true,
     "grade_id": "cell-764fdce7bfab8f8d",
     "locked": false,
     "points": 0,
     "schema_version": 3,
     "solution": true,
     "task": false
    }
   },
   "source": [
    "Author(s)/team members:\n",
    "* \n",
    "*\n",
    "*\n",
    "\n",
    "YOUR ANSWER HERE"
   ]
  },
  {
   "cell_type": "code",
   "execution_count": 2,
   "metadata": {
    "deletable": false,
    "editable": false,
    "nbgrader": {
     "cell_type": "code",
     "checksum": "120b34ec36bb46189bd904b7b057cecf",
     "grade": false,
     "grade_id": "imports",
     "locked": true,
     "schema_version": 3,
     "solution": false
    }
   },
   "outputs": [],
   "source": [
    "import numpy as np\n",
    "import IPython\n",
    "import matplotlib.pyplot as plt"
   ]
  },
  {
   "cell_type": "markdown",
   "metadata": {
    "deletable": false,
    "editable": false,
    "nbgrader": {
     "cell_type": "markdown",
     "checksum": "e913ea09f27e4d301f39831382ea4696",
     "grade": false,
     "grade_id": "temperature_q1",
     "locked": true,
     "schema_version": 3,
     "solution": false
    }
   },
   "source": [
    "### Exercise 1: Is it hot or cold outside? [30 points]\n",
    "\n",
    "Your first exercise for today is to once again solve the problem we looked at during the lab class (with very minor modifications). The problem setup is as follows: Let's suppose that we have a smart home with a temperature sensor in it, such that we want to predict whether it's hot or cold outside. Our temperature sensor measures the temperature unreliably: if the temperature is high, the sensor will report that it is high in $95\\%$ of the cases; similarly, if the temperature is low, the sensor will report a high temperature in $10\\%$ of the cases. Based on some old statistics, we know that if the temperature is high on day $t$, it will be high on day $t+1$ in $70\\%$ of the cases; similarly, if the temperature is low on day $t$, there is a $20\\%$ chance that it will be high on day $t+1$.\n",
    "\n",
    "a) [2 points] Model the problem mathematically and, using your notation, write down the equation for the Bayes filter that will allow us to estimate the outside temperature at time $t+1$ based on the estimates up to time $t$ and measurements up to time $t+1$."
   ]
  },
  {
   "cell_type": "markdown",
   "metadata": {
    "deletable": false,
    "nbgrader": {
     "cell_type": "markdown",
     "checksum": "2daaa5e310be6a85865c0a6cb76caaf0",
     "grade": true,
     "grade_id": "temperature_a1",
     "locked": false,
     "points": 2,
     "schema_version": 3,
     "solution": true
    }
   },
   "source": [
    "Let us take,\n",
    "\\begin{align*}\n",
    "    T &\\implies Temperature \\\\\n",
    "    S &\\implies SensorReport\n",
    "\\end{align*}\n",
    "From the problem description,we know that,\n",
    "\\begin{align*}\n",
    "    P(S = high | T = high) &= 0.95 &\\ P(S = low | T = high) &= 0.05 \\\\\n",
    "    P(S = high | T = low) &= 0.1 & P(S = low | T = low) &= 0.9 \\\\\n",
    "    P(T_{t+1} = high | T_t = high) &= 0.7 & P(T_{t+1} = low | T_t = high) &= 0.3 \\\\\n",
    "    P(T_{t+1} = high | T_t = low) &= 0.2 & P(T_{t+1} = low | T_t = low) &= 0.8\n",
    "\\end{align*}\n",
    "\n",
    "Equation for the Bayes filter \n",
    "\\begin{equation*}\n",
    "    P(T_{t+1} = high|S_{t+1} = high) = \\alpha P(S_{t+1} = high|T_{t+1} = high) \\sum_{t}{P(T_{t+1} = high|t) P(t)}\n",
    "\\end{equation*}\n",
    "\n"
   ]
  },
  {
   "cell_type": "markdown",
   "metadata": {
    "deletable": false,
    "editable": false,
    "nbgrader": {
     "cell_type": "markdown",
     "checksum": "a32aac65884cb58ff174d19e4aa804e8",
     "grade": false,
     "grade_id": "temperature_q2",
     "locked": true,
     "schema_version": 3,
     "solution": false
    }
   },
   "source": [
    "b) [5 points] Suppose that the sensor reports a low temperature on day $t = 1$. Calculate the probability (the actual probability, not just up to a normalising constant) that the outside temperature on day $t = 1$ is high. Assume that we are fully ignorant about the outside temperature on day $t = 0$ (i.e. assume that every possible outside temperature is equally likely)."
   ]
  },
  {
   "cell_type": "markdown",
   "metadata": {
    "deletable": false,
    "nbgrader": {
     "cell_type": "markdown",
     "checksum": "f002aa466e42ed88daccd72b7930710b",
     "grade": true,
     "grade_id": "temperature_a2",
     "locked": false,
     "points": 5,
     "schema_version": 3,
     "solution": true
    }
   },
   "source": [
    "To calculate the probability that the outside temperature on day $t = 1$ is high:\n",
    "\\begin{align*}\n",
    "   P(T_{1} = high|S_{1} = low) &= \\alpha P(S_{1} = low|T_{1} = high) \\sum_{t_0}{P(T_{1} = high|t_0) P(t_0)} \\\\\n",
    "    &= \\alpha \\cdot 0.05 \\cdot (0.7 \\cdot 0.5 +0.2 \\cdot 0.5) \\\\\n",
    "    &= \\alpha \\cdot (0.0225) \\\\\n",
    "    P(T_1 = low|S_1 = low) &= \\alpha P(S_1 = low|T_1 = low) \\sum_{t_0}{P(T_1 = low|t_0) P(t_0)} \\\\\n",
    "    &= \\alpha \\cdot 0.9 \\cdot (0.3 \\cdot 0.5 +0.8 \\cdot 0.5) \\\\\n",
    "    &= \\alpha \\cdot (0.495)\n",
    "\\end{align*}\n",
    "By normalizing, \n",
    "\\begin{align*}\n",
    "    P(T_1 = high|S_1 = low) &= \\alpha \\cdot (0.0225) =0.04348 \\\\\n",
    "    P(T_1 = low|S_1 = low) &= \\alpha \\cdot (0.495) = 0.9565\n",
    "\\end{align*}"
   ]
  },
  {
   "cell_type": "markdown",
   "metadata": {
    "deletable": false,
    "editable": false,
    "nbgrader": {
     "cell_type": "markdown",
     "checksum": "b02cee1bb7b987154ac3f27368873349",
     "grade": false,
     "grade_id": "temperature_q3",
     "locked": true,
     "schema_version": 3,
     "solution": false
    }
   },
   "source": [
    "c) [3 points] If the sensor reports a high temperature on day $t = 2$, what is the probability that the outside temperature is indeed high?"
   ]
  },
  {
   "cell_type": "markdown",
   "metadata": {
    "deletable": false,
    "nbgrader": {
     "cell_type": "markdown",
     "checksum": "5a3e08dc9e0ad41577f81b1ca3ce717c",
     "grade": true,
     "grade_id": "temperature_a3",
     "locked": false,
     "points": 3,
     "schema_version": 3,
     "solution": true
    }
   },
   "source": [
    "at day $ t =1$\n",
    "\\begin{equation*}\n",
    "    P(T_{2} = high|S_{2} = high) = \\alpha P(S_{2} = high|T_{2} = high) \\sum_{t_1}{P(T_{2} = high|t_1) P(t_1)}\n",
    "\\end{equation*}\n",
    "\n",
    "to calculate the probability that the outside temperature on day $t = 2$ is high:\n",
    "\\begin{align*}\n",
    "    P(T_{2} = high|S_{2} = high) &= \\alpha P(S_{2} = high|T_{2} = high) \\sum_{t_1}{P(T_{2} = high|t_1) P(t_1)} \\\\\n",
    "                                &= \\alpha \\cdot 0.95 \\cdot (0.7 \\cdot 0.04348 + 0.2 \\cdot 0.9565) \\\\\n",
    "                                &= \\alpha \\cdot (0.2106) \\\\\n",
    "    P(T_{2} = low|S_{2} = high) &= \\alpha P(S_{2} = high|T_{2} = low) \\sum_{t_1}{P(T_{2} = high|t_1) P(t_1)}\\\\\n",
    "                                &= \\alpha \\cdot 0.1 \\cdot (0.3 \\cdot 0.04348 +0.8 \\cdot 0.9565) \\\\\n",
    "                                 &= \\alpha \\cdot (0.07782)\n",
    "\\end{align*}\n",
    "By normalizing, \n",
    "\\begin{align*}\n",
    "    P(T_2 = high|S_2 = high) &= \\alpha \\cdot (0.2106) = 0.7302 \\\\\n",
    "    P(T_2 = low|S_2 = high) &= \\alpha \\cdot (0.07782) = 0.2697\n",
    "\\end{align*}"
   ]
  },
  {
   "cell_type": "markdown",
   "metadata": {
    "deletable": false,
    "editable": false,
    "nbgrader": {
     "cell_type": "markdown",
     "checksum": "dd9095e6d496ab2cb551a2f4596d4884",
     "grade": false,
     "grade_id": "temperature_q4",
     "locked": true,
     "schema_version": 3,
     "solution": false
    }
   },
   "source": [
    "d) [20 points] In the cell below, write a function $measurement\\_update$ that can be used for updating the belief about the outside temperature given a new measurement. Use this implementation to find the belief about the outside temperature at time $t = 10$ given the sequence of measurements\n",
    "\n",
    "low, high, low, high, high, high, high, low, high, low\n",
    "\n",
    "from $t = 1$ up to $t = 10$. Once again, assume that we are fully ignorant about the outside temperature on day $t = 0$. Note that the first two measurements are the same as in problems b) and c), so you can use the estimates at times $t=1$ and $t=2$ to cross-check your previous results."
   ]
  },
  {
   "cell_type": "code",
   "execution_count": 38,
   "metadata": {
    "deletable": false,
    "nbgrader": {
     "cell_type": "code",
     "checksum": "05782e67d25b89fc9c11d7b005c7e1c1",
     "grade": true,
     "grade_id": "temperature_a4",
     "locked": false,
     "points": 20,
     "schema_version": 3,
     "solution": true
    }
   },
   "outputs": [
    {
     "name": "stdout",
     "output_type": "stream",
     "text": [
      "At the day  1  measurement from the sensor is  low  and the outside temperature is believe to be  low\n",
      "At the day  2  measurement from the sensor is  high  and the outside temperature is believe to be  high\n",
      "At the day  3  measurement from the sensor is  low  and the outside temperature is believe to be  low\n",
      "At the day  4  measurement from the sensor is  high  and the outside temperature is believe to be  high\n",
      "At the day  5  measurement from the sensor is  high  and the outside temperature is believe to be  high\n",
      "At the day  6  measurement from the sensor is  high  and the outside temperature is believe to be  high\n",
      "At the day  7  measurement from the sensor is  high  and the outside temperature is believe to be  high\n",
      "At the day  8  measurement from the sensor is  low  and the outside temperature is believe to be  low\n",
      "At the day  9  measurement from the sensor is  high  and the outside temperature is believe to be  high\n",
      "At the day  10  measurement from the sensor is  low  and the outside temperature is believe to be  low\n"
     ]
    }
   ],
   "source": [
    "# YOUR CODE HERE\n",
    "events = [\"high\",\"low\"]\n",
    "measurements_seq = ['low', 'high', 'low', 'high', 'high', 'high', 'high', 'low', 'high', 'low']\n",
    "P_S_T = {\"high\":{\"high\":0.95,\"low\":0.1}, \"low\":{\"high\":(1-0.95),\"low\":(1-0.1)}}\n",
    "P_Tcurr_Tprev = {\"high\":{\"high\":0.7,\"low\":0.2}, \"low\":{\"high\":(1-0.7),\"low\":(1-0.2)}}\n",
    "P_t = [{\"high\": 0.5, \"low\": 0.5}]\n",
    "\n",
    "def measurement_update(S,t):\n",
    "    probability = dict()\n",
    "    for Tcurr in events:\n",
    "        prior = 0\n",
    "        for Tprev in events:\n",
    "            # Prior - Control update\n",
    "            prior += P_Tcurr_Tprev[Tcurr][Tprev]*P_t[t-1][Tprev]\n",
    "        # sensor model* prior\n",
    "        probability[Tcurr] = P_S_T[S][Tcurr]*prior\n",
    "    return get_normalize(probability)\n",
    "\n",
    "def get_normalize(P):\n",
    "    '''To normalize the probabilities'''\n",
    "    normaliser = 0\n",
    "    for val in P.values(): normaliser += val\n",
    "    for event in P : P[event] = P[event]/normaliser\n",
    "    return P\n",
    "\n",
    "def get_belief(curr_belief):\n",
    "    '''compare the probalities and returns belief '''\n",
    "    probabilities = list(curr_belief.values()) \n",
    "    events = list(curr_belief.keys()) \n",
    "    # event with maximum probability\n",
    "    belief = events[probabilities.index(max(probabilities))]\n",
    "    return belief\n",
    "    \n",
    "for measurement,t in zip(measurements_seq,range(1,len(measurements_seq)+1)):\n",
    "    P_t.append(measurement_update(measurement,t))\n",
    "    print(\"At the day \",t,\" measurement from the sensor is \",measurement,\" and the outside temperature is believe to be \",get_belief(P_t[t]))\n",
    "\n",
    "# for i in P_t : print(i)"
   ]
  },
  {
   "cell_type": "markdown",
   "metadata": {
    "deletable": false,
    "editable": false,
    "nbgrader": {
     "cell_type": "markdown",
     "checksum": "430ac82da343290d70e6d51799329bba",
     "grade": false,
     "grade_id": "emotion_recognition_q1",
     "locked": true,
     "schema_version": 3,
     "solution": false
    }
   },
   "source": [
    "### Exercise 2: Lucy, tell me a joke [50 points]\n",
    "\n",
    "Our robot Lucy has a trained model that it can use for recognising human emotions; the actual model is able to recognise seven emotions in total, but for the sake of this problem, let us assume that it can only recognise three - sad, angry, and happy - which we will denote by $R_S$, $R_A$, and $R_H$ respectively. Unfortunately, the model is not entirely reliable and often recognises incorrect emotions; in particular, let us assume that we are given the following observation probabilities:\n",
    "\n",
    "\\begin{align*}\n",
    "    &P(R_{S,t}|E_{S,t}) = 0.8 \\hspace{2.1cm} P(R_{A,t}|E_{S,t}) = 0.15 \\hspace{2cm} P(R_{H,t}|E_{S,t}) = 0.05 \\\\\n",
    "    &P(R_{S,t}|E_{A,t}) = 0.2 \\hspace{2cm} P(R_{A,t}|E_{A,t}) = 0.7 \\hspace{2.2cm} P(R_{H,t}|E_{A,t}) = 0.1 \\\\\n",
    "    &P(R_{S,t}|E_{H,t}) = 0.02 \\hspace{1.75cm} P(R_{A,t}|E_{H,t}) = 0.03 \\hspace{1.95cm} P(R_{H,t}|E_{H,t}) = 0.95 \\\\\n",
    "\\end{align*}\n",
    "\n",
    "where $E$ denotes the actual emotion and $t$ denotes time. Now, our robot wants to be a useful companion to its owner and can communicate with them, namely it can tell a joke, show a calming picture on its screen, and laugh lightly, events that we will denote by $C_J$, $C_P$, and $C_L$ respectively. For a particular owner (as in one of the previous assignments, let's assume it's Alex), the following transition probabilities are known:\n",
    "\n",
    "\\begin{align*}\n",
    "    &P(E_{S,t}|C_{J,t}, E_{S,t-1}) = 0.1 \\hspace{2.1cm} P(E_{A,t}|C_{J,t}, E_{S,t-1}) = 0.01 \\hspace{2cm} P(E_{H,t}|C_{J,t}, E_{S,t-1}) = 0.89 \\\\\n",
    "    &P(E_{S,t}|C_{J,t}, E_{A,t-1}) = 0.02 \\hspace{1.82cm} P(E_{A,t}|C_{J,t}, E_{A,t-1}) = 0.1 \\hspace{2.2cm} P(E_{H,t}|C_{J,t}, E_{A,t-1}) = 0.88 \\\\\n",
    "    &P(E_{S,t}|C_{J,t}, E_{H,t-1}) = 0.01 \\hspace{1.78cm} P(E_{A,t}|C_{J,t}, E_{H,t-1}) = 0 \\hspace{2.5cm} P(E_{H,t}|C_{J,t}, E_{H,t-1}) = 0.99 \\\\~\\\\\n",
    "    &P(E_{S,t}|C_{P,t}, E_{S,t-1}) = 0.45 \\hspace{1.75cm} P(E_{A,t}|C_{P,t}, E_{S,t-1}) = 0 \\hspace{2.6cm} P(E_{H,t}|C_{P,t}, E_{S,t-1}) = 0.55 \\\\\n",
    "    &P(E_{S,t}|C_{P,t}, E_{A,t-1}) = 0.55 \\hspace{1.73cm} P(E_{A,t}|C_{P,t}, E_{A,t-1}) = 0.1 \\hspace{2.22cm} P(E_{H,t}|C_{P,t}, E_{A,t-1}) = 0.35 \\\\\n",
    "    &P(E_{S,t}|C_{P,t}, E_{H,t-1}) = 0.01 \\hspace{1.7cm} P(E_{A,t}|C_{P,t}, E_{H,t-1}) = 0.01 \\hspace{1.92cm} P(E_{H,t}|C_{P,t}, E_{H,t-1}) = 0.98 \\\\~\\\\\n",
    "    &P(E_{S,t}|C_{L,t}, E_{S,t-1}) = 0.2 \\hspace{1.92cm} P(E_{A,t}|C_{L,t}, E_{S,t-1}) = 0.1 \\hspace{2.41cm} P(E_{H,t}|C_{L,t}, E_{S,t-1}) = 0.7 \\\\\n",
    "    &P(E_{S,t}|C_{L,t}, E_{A,t-1}) = 0.1 \\hspace{1.92cm} P(E_{A,t}|C_{L,t}, E_{A,t-1}) = 0.4 \\hspace{2.4cm} P(E_{H,t}|C_{L,t}, E_{A,t-1}) = 0.5 \\\\\n",
    "    &P(E_{S,t}|C_{L,t}, E_{H,t-1}) = 0 \\hspace{2.22cm} P(E_{A,t}|C_{L,t}, E_{H,t-1}) = 0 \\hspace{2.65cm} P(E_{H,t}|C_{L,t}, E_{H,t-1}) = 1\n",
    "\\end{align*}\n",
    "\n",
    "a) [10 points] Write down the equation for the Bayes filter that will allow us to estimate Alex's emotion at time $t+1$ based on the estimates up to time $t$, the measurements up to time $t+1$, and Lucy's communication actions up to time $t + 1$. Then, use the Bayes filter to manually calculate the probabilities of the different emotions at time $t = 1$ given that Lucy has told a joke and then seen Alex being happy. Assume that Alex is angry at time $t = 0$.\n",
    "</div>"
   ]
  },
  {
   "cell_type": "markdown",
   "metadata": {
    "deletable": false,
    "nbgrader": {
     "cell_type": "markdown",
     "checksum": "58c4a5b8ddbfe6a96d73b933a81801e4",
     "grade": true,
     "grade_id": "emotion_recognition_a1",
     "locked": false,
     "points": 10,
     "schema_version": 3,
     "solution": true
    }
   },
   "source": [
    "To calculate the probability that the outside temperature on day $t = 1$ is high:\n",
    "\\begin{align*}\n",
    "   P(T_{1} = high|S_{1} = low) &= \\alpha P(S_{1} = low|T_{1} = high) \\sum_{t_0}{P(T_{1} = high|t_0) P(t_0)} \\\\\n",
    "    &= \\alpha \\cdot 0.05 \\cdot (0.7 \\cdot 0.5 +0.2 \\cdot 0.5) \\\\\n",
    "    &= \\alpha \\cdot (0.0225) \\\\\n",
    "    P(T_1 = low|S_1 = low) &= \\alpha P(S_1 = low|T_1 = low) \\sum_{t_0}{P(T_1 = low|t_0) P(t_0)} \\\\\n",
    "    &= \\alpha \\cdot 0.9 \\cdot (0.3 \\cdot 0.5 +0.8 \\cdot 0.5) \\\\\n",
    "    &= \\alpha \\cdot (0.495)\n",
    "\\end{align*}\n",
    "By normalizing, \n",
    "\\begin{align*}\n",
    "    P(T_1 = high|S_1 = low) &= \\alpha \\cdot (0.0225) =0.04348 \\\\\n",
    "    P(T_1 = low|S_1 = low) &= \\alpha \\cdot (0.495) = 0.9565\n",
    "\\end{align*}"
   ]
  },
  {
   "cell_type": "markdown",
   "metadata": {
    "deletable": false,
    "editable": false,
    "nbgrader": {
     "cell_type": "markdown",
     "checksum": "f848b2725b5598dff5f18661c9dcd09f",
     "grade": false,
     "grade_id": "emotion_recognition_q2",
     "locked": true,
     "schema_version": 3,
     "solution": false
    }
   },
   "source": [
    "b) [30 points] In the cell below, implement two functions - $measurement\\_update$ and $control\\_update$ - which can be used for recursively updating the belief about Alex's emotion based on all previous estimates, measurements, and robot actions. Use your implementation to estimate the beliefs about Alex's emotions if we assume the following sequence of actions and emotion observations:\n",
    "\n",
    "*tell a joke*, happy, *show a picture*, sad, *tell a joke*, angry, *laugh*, happy, *show a picture*, sad, *tell a joke*, happy, *show a picture*, happy\n",
    "\n",
    "Once again, assume that Alex is angry at time $t = 0$. Note that the first action-measurement pair is the same as in a), so you can use the estimate to cross-check your previous result."
   ]
  },
  {
   "cell_type": "code",
   "execution_count": 37,
   "metadata": {
    "deletable": false,
    "nbgrader": {
     "cell_type": "code",
     "checksum": "17ca5848ac0458d83135d0c99b091126",
     "grade": true,
     "grade_id": "emotion_recognition_a2",
     "locked": false,
     "points": 30,
     "schema_version": 3,
     "solution": true
    }
   },
   "outputs": [
    {
     "name": "stdout",
     "output_type": "stream",
     "text": [
      " At t = 0 Belief = A , Sad = 0.0 , Angry = 1.0 , Happy = 0.0\n",
      " At t = 1 Belief = H , Sad = 0.001180637544273908 , Angry = 0.011806375442739082 , Happy = 0.987012987012987\n",
      " At t = 2 Belief = H , Sad = 0.38433389510719584 , Angry = 0.06284705203010749 , Happy = 0.5528190528626965\n",
      " At t = 3 Belief = H , Sad = 0.16068360219035507 , Angry = 0.16795292507990123 , Happy = 0.6713634727297437\n",
      " At t = 4 Belief = H , Sad = 0.00292936221258385 , Angry = 0.009967627058443108 , Happy = 0.987103010728973\n",
      " At t = 5 Belief = H , Sad = 0.38149826242112367 , Angry = 0.06217286232702101 , Happy = 0.5563288752518554\n",
      " At t = 6 Belief = H , Sad = 0.002494783054087943 , Angry = 0.0011134449576812087 , Happy = 0.9963917719882308\n",
      " At t = 7 Belief = H , Sad = 0.0006283638075015416 , Angry = 0.0010823060372089047 , Happy = 0.9982893301552895\n"
     ]
    }
   ],
   "source": [
    "# YOUR CODE HERE\n",
    "\n",
    "emotions = ['S','A','H']\n",
    "communications = ['J','P','L']\n",
    "sequence = ['J','H','P','S','J','A','L','H','P','S','J','H','P','H']\n",
    "\n",
    "P_R_E = {'S':{'S': 0.8  ,'A':0.2 ,'H':0.02},\n",
    "         'A':{'S': 0.15 ,'A':0.7 ,'H':0.03},\n",
    "         'H':{'S': 0.05 ,'A':0.1 ,'H':0.95}}\n",
    "\n",
    "P_E_C_E = {'S':{'J':{'S': 0.10 ,'A':0.02 ,'H':0.01} ,\n",
    "                'P':{'S': 0.45 ,'A':0.55 ,'H':0.01} ,\n",
    "                'L':{'S': 0.20 ,'A':0.10 ,'H':0.00}},\n",
    "           'A':{'J':{'S': 0.01 ,'A':0.10 ,'H':0.00} ,\n",
    "                'P':{'S': 0.00 ,'A':0.10 ,'H':0.01} ,\n",
    "                'L':{'S': 0.10 ,'A':0.40 ,'H':0.00}},\n",
    "           'H':{'J':{'S': 0.89 ,'A':0.88 ,'H':0.99} ,\n",
    "                'P':{'S': 0.55 ,'A':0.35 ,'H':0.98} ,\n",
    "                'L':{'S': 0.70 ,'A':0.50 ,'H':1.00}}}\n",
    "\n",
    "P_t = [{'S': 0.0, 'A': 1.0, 'H': 0.0}]\n",
    "\n",
    "def measurement_update(curr_belief,Reaction):\n",
    "    probability = dict()\n",
    "    for E in emotions:\n",
    "        probability[E] = P_R_E[Reaction][E]*curr_belief[E]\n",
    "    return get_normalize(probability)\n",
    "\n",
    "def control_update(Action,t):\n",
    "    updated_belief = dict()\n",
    "    for E in emotions:\n",
    "        prior = 0\n",
    "        for e in emotions:\n",
    "            # Prior\n",
    "            prior += P_E_C_E[E][Action][e]*P_t[t-1][e]\n",
    "        updated_belief[E] = prior\n",
    "    return get_normalize(updated_belief)\n",
    "\n",
    "t = 1\n",
    "for element in sequence:\n",
    "    if element in communications:\n",
    "        curr_belief = control_update(element,t)\n",
    "    elif element in emotions:\n",
    "        P_t.append(measurement_update(curr_belief,element))\n",
    "        t += 1\n",
    "        \n",
    "for t,i in enumerate(P_t): print(\" At t =\",t,\"Belief =\",get_belief(i),\", Sad =\",i['S'],\", Angry =\",i['A'],\", Happy =\",i['H'])  \n"
   ]
  },
  {
   "cell_type": "markdown",
   "metadata": {
    "deletable": false,
    "editable": false,
    "nbgrader": {
     "cell_type": "markdown",
     "checksum": "ff7744db600baefcd7b4f2806f754952",
     "grade": false,
     "grade_id": "emotion_recognition_q3",
     "locked": true,
     "schema_version": 3,
     "solution": false
    }
   },
   "source": [
    "b) [10 points] If Lucy keeps acting without observing Alex's emotions, what do you think will happen to the emotion estimates in the long run? Note that acting without observations is the same as only performing a control update, i.e. equivalent to only performing a prediction step in the Bayes filter, but without a measurement correction.\n",
    "\n",
    "Verify your hypothesis in the cell below by generating random sequences of actions and updating the emotion estimates only based on the control updates."
   ]
  },
  {
   "cell_type": "code",
   "execution_count": 31,
   "metadata": {
    "deletable": false,
    "nbgrader": {
     "cell_type": "code",
     "checksum": "1fa9e7d9f42e4e6f853552a9efe266c2",
     "grade": true,
     "grade_id": "emotion_recognition_a3",
     "locked": false,
     "points": 5,
     "schema_version": 3,
     "solution": true
    }
   },
   "outputs": [
    {
     "name": "stdout",
     "output_type": "stream",
     "text": [
      "Randomly generated sequence :  ['L', 'P', 'J', 'L', 'P', 'J', 'L', 'P', 'L', 'J']\n",
      " At t = 0 Belief = A , Sad = 0.0 , Angry = 1.0 , Happy = 0.0\n",
      " At t = 1 Belief = H , Sad = 0.1 , Angry = 0.4 , Happy = 0.5\n",
      " At t = 2 Belief = H , Sad = 0.27 , Angry = 0.045000000000000005 , Happy = 0.685\n",
      " At t = 3 Belief = H , Sad = 0.03475 , Angry = 0.007200000000000001 , Happy = 0.9580500000000001\n",
      " At t = 4 Belief = H , Sad = 0.0076700000000000015 , Angry = 0.006355000000000001 , Happy = 0.985975\n",
      " At t = 5 Belief = H , Sad = 0.016806500000000002 , Angry = 0.010495250000000001 , Happy = 0.9726982500000001\n",
      " At t = 6 Belief = H , Sad = 0.011617537500000002 , Angry = 0.0012175900000000002 , Happy = 0.9871648725000001\n",
      " At t = 7 Belief = H , Sad = 0.0024452665000000004 , Angry = 0.0016487897500000004 , Happy = 0.9959059437500001\n",
      " At t = 8 Belief = H , Sad = 0.011966263725000002 , Angry = 0.0101239384125 , Happy = 0.9779097978625\n",
      " At t = 9 Belief = H , Sad = 0.003405646586250001 , Angry = 0.005246201737500001 , Happy = 0.99134815167625\n",
      " At t = 10 Belief = H , Sad = 0.010358970210137501 , Angry = 0.0005586766396125001 , Happy = 0.98908235315025\n"
     ]
    }
   ],
   "source": [
    "# YOUR CODE HERE\n",
    "P_t = [{'S': 0.0, 'A': 1.0, 'H': 0.0}]\n",
    "\n",
    "# Random sequence \n",
    "sequence = [np.random.choice(communications) for i in range(10)]\n",
    "\n",
    "t = 1\n",
    "for element in sequence:\n",
    "    if element in communications:\n",
    "        curr_belief = control_update(element,t)\n",
    "        P_t.append(curr_belief)\n",
    "        t += 1\n",
    "        \n",
    "print(\"Randomly generated sequence : \",sequence)\n",
    "for t,i in enumerate(P_t): print(\" At t =\",t,\"Belief =\",get_belief(i),\", Sad =\",i['S'],\", Angry =\",i['A'],\", Happy =\",i['H']) "
   ]
  },
  {
   "cell_type": "markdown",
   "metadata": {
    "deletable": false,
    "nbgrader": {
     "cell_type": "markdown",
     "checksum": "6f8a421e3f2c0c081fab5b0dbc126622",
     "grade": true,
     "grade_id": "emotion_recognition_a3_interpretation",
     "locked": false,
     "points": 5,
     "schema_version": 3,
     "solution": true
    }
   },
   "source": [
    "YOUR ANSWER HERE"
   ]
  }
 ],
 "metadata": {
  "kernelspec": {
   "display_name": "Python 3",
   "language": "python",
   "name": "python3"
  },
  "language_info": {
   "codemirror_mode": {
    "name": "ipython",
    "version": 3
   },
   "file_extension": ".py",
   "mimetype": "text/x-python",
   "name": "python",
   "nbconvert_exporter": "python",
   "pygments_lexer": "ipython3",
   "version": "3.6.9"
  },
  "nbTranslate": {
   "displayLangs": [
    "*"
   ],
   "hotkey": "alt-t",
   "langInMainMenu": true,
   "sourceLang": "en",
   "targetLang": "fr",
   "useGoogleTranslate": true
  }
 },
 "nbformat": 4,
 "nbformat_minor": 2
}
