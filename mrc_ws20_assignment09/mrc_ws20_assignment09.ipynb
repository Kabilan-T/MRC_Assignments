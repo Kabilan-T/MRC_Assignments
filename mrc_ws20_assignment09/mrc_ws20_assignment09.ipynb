{
 "cells": [
  {
   "cell_type": "markdown",
   "metadata": {
    "deletable": false,
    "editable": false,
    "nbgrader": {
     "cell_type": "markdown",
     "checksum": "a214b023de58bd665ff63a319db699b9",
     "grade": false,
     "grade_id": "header",
     "locked": true,
     "schema_version": 3,
     "solution": false
    }
   },
   "source": [
    "# Hochschule Bonn-Rhein-Sieg\n",
    "\n",
    "# Mathematics for Robotics and Control\n",
    "\n",
    "# Assignment 09 - Recursive Bayesian Filtering"
   ]
  },
  {
   "cell_type": "markdown",
   "metadata": {
    "deletable": false,
    "nbgrader": {
     "cell_type": "markdown",
     "checksum": "2f32b393c741284c6981c8cc5e552a64",
     "grade": true,
     "grade_id": "cell-764fdce7bfab8f8d",
     "locked": false,
     "points": 0,
     "schema_version": 3,
     "solution": true,
     "task": false
    }
   },
   "source": [
    "Author(s)/team members:\n",
    "\n",
    "* Kabilan Tamilmani  (ktamil2s)\n",
    "* Karthik Sundararaj (ksunda2s)"
   ]
  },
  {
   "cell_type": "code",
   "execution_count": 2,
   "metadata": {
    "deletable": false,
    "editable": false,
    "nbgrader": {
     "cell_type": "code",
     "checksum": "120b34ec36bb46189bd904b7b057cecf",
     "grade": false,
     "grade_id": "imports",
     "locked": true,
     "schema_version": 3,
     "solution": false
    }
   },
   "outputs": [],
   "source": [
    "import numpy as np\n",
    "import IPython\n",
    "import matplotlib.pyplot as plt"
   ]
  },
  {
   "cell_type": "markdown",
   "metadata": {
    "deletable": false,
    "editable": false,
    "nbgrader": {
     "cell_type": "markdown",
     "checksum": "e913ea09f27e4d301f39831382ea4696",
     "grade": false,
     "grade_id": "temperature_q1",
     "locked": true,
     "schema_version": 3,
     "solution": false
    }
   },
   "source": [
    "### Exercise 1: Is it hot or cold outside? [30 points]\n",
    "\n",
    "Your first exercise for today is to once again solve the problem we looked at during the lab class (with very minor modifications). The problem setup is as follows: Let's suppose that we have a smart home with a temperature sensor in it, such that we want to predict whether it's hot or cold outside. Our temperature sensor measures the temperature unreliably: if the temperature is high, the sensor will report that it is high in $95\\%$ of the cases; similarly, if the temperature is low, the sensor will report a high temperature in $10\\%$ of the cases. Based on some old statistics, we know that if the temperature is high on day $t$, it will be high on day $t+1$ in $70\\%$ of the cases; similarly, if the temperature is low on day $t$, there is a $20\\%$ chance that it will be high on day $t+1$.\n",
    "\n",
    "a) [2 points] Model the problem mathematically and, using your notation, write down the equation for the Bayes filter that will allow us to estimate the outside temperature at time $t+1$ based on the estimates up to time $t$ and measurements up to time $t+1$."
   ]
  },
  {
   "cell_type": "markdown",
   "metadata": {
    "deletable": false,
    "nbgrader": {
     "cell_type": "markdown",
     "checksum": "2daaa5e310be6a85865c0a6cb76caaf0",
     "grade": true,
     "grade_id": "temperature_a1",
     "locked": false,
     "points": 2,
     "schema_version": 3,
     "solution": true
    }
   },
   "source": [
    "\n",
    "Considering $ t $ represent the time of measurement\n",
    "\n",
    "$ T_{t} $ = Represents the high temperature at time 't' and,<br/>\n",
    "$ \\bar T_{t} $ = represents low temperature at time 't'\n",
    "\n",
    "$S_{t}$ = represents high sensor temperature at time 't' and, <br/>\n",
    "$ \\bar S_{t} $ = represents low Sensor temperature at time 't'\n",
    "\n",
    "We make assumption that sensor and transition model doesn't change over a time.<br/>\n",
    "So here we are asked to estimate the temperature for which we need to find probability of $T_{t+1}$ given the previous data which is $T_{1:t}$ and the sensors measurement $S_{1:t+1}$.\n",
    "\n",
    "The equation can be modelled as \n",
    "\n",
    "$$ P(T_{t+1}|T_{1:t},S_{1:t+1}) = \\alpha P(S_{t+1}|T_{t+1}) \\Sigma_{T_{i}} P(T_{t+1}|T_{t}) P(T_{t}| T_{1:t-1}, S_{1:t})$$\n",
    "\n",
    "more formally it can be written as, <br/>\n",
    "$P(T_{t+1}|S_{t+1}) = \\alpha \\cdot P(S_{t+1}|T_{t+1}) \\sum_{T_t}P(T_{t+1}|T_t)P(T_t)$<br/>\n",
    "$P(\\bar T_{t+1}|S_{t+1}) = \\alpha \\cdot P(S_{t+1}|\\bar T_{t+1}) \\sum_{T_t}P(\\bar T_{t+1}|T_t)P(\\bar T_t)$"
   ]
  },
  {
   "cell_type": "markdown",
   "metadata": {
    "deletable": false,
    "editable": false,
    "nbgrader": {
     "cell_type": "markdown",
     "checksum": "a32aac65884cb58ff174d19e4aa804e8",
     "grade": false,
     "grade_id": "temperature_q2",
     "locked": true,
     "schema_version": 3,
     "solution": false
    }
   },
   "source": [
    "b) [5 points] Suppose that the sensor reports a low temperature on day $t = 1$. Calculate the probability (the actual probability, not just up to a normalising constant) that the outside temperature on day $t = 1$ is high. Assume that we are fully ignorant about the outside temperature on day $t = 0$ (i.e. assume that every possible outside temperature is equally likely)."
   ]
  },
  {
   "cell_type": "markdown",
   "metadata": {
    "deletable": false,
    "nbgrader": {
     "cell_type": "markdown",
     "checksum": "f002aa466e42ed88daccd72b7930710b",
     "grade": true,
     "grade_id": "temperature_a2",
     "locked": false,
     "points": 5,
     "schema_version": 3,
     "solution": true
    }
   },
   "source": [
    "Given probabilities are \n",
    "\n",
    "$P(S|T) = 0.95$,<br/> \n",
    "$P(S | \\bar T) = 0.10$, <br/>\n",
    "$P(T_{t+1}|T_{t}) = 0.7$, <br/>\n",
    "$ P(T_{t+1}| \\bar T_{t})$ = 0.2 <br/> \n",
    "\n",
    "As the every possible outside temperature is equally likely \n",
    "\n",
    "$ P(T_{t=0}) = 0.5 $ and $ P( \\bar T_{t=0}) = 0.5 $\n",
    "\n",
    "From the above given information we can derive following probabilities\n",
    "\n",
    "$P( \\bar S| T)  = 1 - P(S|T) = 1 - 0.95 = 0.05$ <br/>\n",
    "$ P( \\bar S | \\bar T)  = 1 - P(S | \\bar T) = 0.9$ <br/>\n",
    "$P(\\bar T_{t+1}|T_{t}) = 1- P(T_{t+1}|T_{t}) = 0.3$, <br/>\n",
    "$ P(\\bar T_{t+1}| \\bar T_{t}) = 1- P(T_{t+1}| \\bar T_{t}) =0.8$ <br/> \n",
    "\n",
    "We are asked to find $P(T_{1} | T_{0} , \\bar S_{1})$\n",
    "\n",
    "$$ P(T_{1} | T_{0} , \\bar S_{1}) = \\alpha * P( \\bar S_{1}|T_{1},T_{0}) * P (T_{1}|T_{0})$$\n",
    "\n",
    "Because measurement of the sensor doesn't depend on previous days temperature => Conditional independence  we can  consider $ P( \\bar S_{1}|T_{1},T_{0})$ = $ P( \\bar S_{1}|T_{1}) * P(T_{0}) $\n",
    "\n",
    "$$ P(T_{1} | T_{0} , \\bar S_{1}) = \\alpha * P( \\bar S_{1}|T_{1}) * P (T_{1}|T_{0}) * P(T_{0})$$\n",
    "\n",
    "Applying total probability rule\n",
    "\n",
    "$$ P(T_{1} | T_{0} , \\bar S_{1}) = \\alpha * P( \\bar S_{1}|T_{1}) * \\Sigma_{T_{0}}P (T_{1}|T_{0}) * P(T_{0})$$\n",
    "\n",
    "Substituting the above information \n",
    "\n",
    "$$ P(T_{1} | T_{0} , \\bar S_{1}) = \\alpha * 0.05 * (0.7 * 0.5 + 0.2*0.5) =  0.0225\\alpha  $$\n",
    "\n",
    "Also $$ P(\\bar T_{1} | T_{0} , \\bar S_{1}) = \\alpha * P( \\bar S_{1}| \\bar T_{1}) * P ( \\bar T_{1}|T_{0}) * P(T_{0})$$\n",
    "\n",
    "$$ P(\\bar T_{1} | T_{0} , \\bar S_{1}) = \\alpha * 0.9 * (0.3*0.5 + 0.8*0.5) = \\alpha*0.9*0.55 = 0.495\\alpha $$\n",
    "\n",
    "$$ \\alpha = \\frac{1}{0.0225 + 0.495} = 1.93237 $$ \n",
    "\n",
    "so$$  P(T_{1} | T_{0} , \\bar S_{1}) = 1.93237 * 0.0225 = 0.04347 = bel(T_{1})$$ \n",
    "\n",
    "$$ P(\\bar T_{1} | T_{0} , \\bar S_{1}) = 1.93237 * 0.495 = 0.9565 = bel(\\bar T_{1})$$"
   ]
  },
  {
   "cell_type": "markdown",
   "metadata": {
    "deletable": false,
    "editable": false,
    "nbgrader": {
     "cell_type": "markdown",
     "checksum": "b02cee1bb7b987154ac3f27368873349",
     "grade": false,
     "grade_id": "temperature_q3",
     "locked": true,
     "schema_version": 3,
     "solution": false
    }
   },
   "source": [
    "c) [3 points] If the sensor reports a high temperature on day $t = 2$, what is the probability that the outside temperature is indeed high?"
   ]
  },
  {
   "cell_type": "markdown",
   "metadata": {
    "deletable": false,
    "nbgrader": {
     "cell_type": "markdown",
     "checksum": "5a3e08dc9e0ad41577f81b1ca3ce717c",
     "grade": true,
     "grade_id": "temperature_a3",
     "locked": false,
     "points": 3,
     "schema_version": 3,
     "solution": true
    }
   },
   "source": [
    "We are asked to find    $ P(T_{2}|S_{2}) = \\alpha P(S_{2}|T_{2}) \\Sigma_{T_{1}} P(T_{2}|T_{1}) * bel(T_{1}) $\n",
    "\n",
    "$$ P(T_{2}|S_{2}) = \\alpha 0.95 * (0.7*0.04347 + 0.2*0.9565) = 0.2106 \\alpha $$\n",
    "\n",
    "similarly $ P(\\bar T_{2}|S_{2}) = \\alpha P(S_{2}|\\bar T_{2}) \\Sigma_{T_{1}} P(\\bar T_{2}|T_{1}) * bel(T_{1}) $\n",
    "\n",
    "$$ P(\\bar T_{2}|S_{2}) = \\alpha 0.1 * (0.3*0.04347 + 0.8*0.9565) = 0.07782 \\alpha $$\n",
    "\n",
    "$$ \\alpha = \\frac{1}{0.2106 + 0.07782} = 3.4672 $$\n",
    "\n",
    "$$ P(T_{2}|S_{2}) = 3.4672 * 0.2106 = 0.73 $$\n",
    "\n",
    "$$ P(\\bar T_{2}/S_{2}) = 3.4672 * 0.07782 = 0.27 $$"
   ]
  },
  {
   "cell_type": "markdown",
   "metadata": {
    "deletable": false,
    "editable": false,
    "nbgrader": {
     "cell_type": "markdown",
     "checksum": "dd9095e6d496ab2cb551a2f4596d4884",
     "grade": false,
     "grade_id": "temperature_q4",
     "locked": true,
     "schema_version": 3,
     "solution": false
    }
   },
   "source": [
    "d) [20 points] In the cell below, write a function $measurement\\_update$ that can be used for updating the belief about the outside temperature given a new measurement. Use this implementation to find the belief about the outside temperature at time $t = 10$ given the sequence of measurements\n",
    "\n",
    "low, high, low, high, high, high, high, low, high, low\n",
    "\n",
    "from $t = 1$ up to $t = 10$. Once again, assume that we are fully ignorant about the outside temperature on day $t = 0$. Note that the first two measurements are the same as in problems b) and c), so you can use the estimates at times $t=1$ and $t=2$ to cross-check your previous results."
   ]
  },
  {
   "cell_type": "code",
   "execution_count": 3,
   "metadata": {
    "deletable": false,
    "nbgrader": {
     "cell_type": "code",
     "checksum": "05782e67d25b89fc9c11d7b005c7e1c1",
     "grade": true,
     "grade_id": "temperature_a4",
     "locked": false,
     "points": 20,
     "schema_version": 3,
     "solution": true
    }
   },
   "outputs": [
    {
     "name": "stdout",
     "output_type": "stream",
     "text": [
      "at time t1, measurement 'low' Belief is [0.04347826086956521, 0.9565217391304347] \n",
      "at time t2, measurement 'high' Belief is [0.7302185380557648, 0.26978146194423513] \n",
      "at time t3, measurement 'low' Belief is [0.06732987959812169, 0.9326701204018784] \n",
      "at time t4, measurement 'high' Belief is [0.7433703765898204, 0.25662962341017953] \n",
      "at time t5, measurement 'high' Belief is [0.9269003037964656, 0.07309969620353439] \n",
      "at time t6, measurement 'high' Belief is [0.9493096387579056, 0.05069036124209446] \n",
      "at time t7, measurement 'high' Belief is [0.9516902525975153, 0.04830974740248475] \n",
      "at time t8, measurement 'low' Belief is [0.10380636438369072, 0.8961936356163093] \n",
      "at time t9, measurement 'high' Belief is [0.7618418808534628, 0.23815811914653712] \n",
      "at time t10, measurement 'low' Belief is [0.07150373488805692, 0.928496265111943] \n"
     ]
    }
   ],
   "source": [
    "# YOUR CODE HERE\n",
    "measurements = ['low','high','low','high','high','high','high','low', 'high','low']\n",
    "Belief = [0.5,0.5]\n",
    "\n",
    "def measurement_update(Belief, Sensor_reading):\n",
    "    belief = [0,0]\n",
    "    P_S_T = np.array(([0.05,0.95],[0.9,0.1]))\n",
    "    P_T_1_T_0 = np.array(([0.7,0.3],[0.2,0.8]))\n",
    "    belief[0] = P_S_T[0][Sensor_reading]*(P_T_1_T_0[0][0] * Belief[0] + P_T_1_T_0[1][0] * Belief[1])\n",
    "    belief[1] = P_S_T[1][Sensor_reading]*(P_T_1_T_0[0][1] * Belief[0] + P_T_1_T_0[1][1] * Belief[1])\n",
    "    alpha = 1/(belief[0]+belief[1])\n",
    "    belief[1] = belief[1] * alpha\n",
    "    belief[0] = belief[0] * alpha\n",
    "    return belief\n",
    "\n",
    "for i,data in enumerate(measurements):\n",
    "    if data=='low':\n",
    "        Belief = measurement_update(Belief,0)\n",
    "    else:\n",
    "        Belief = measurement_update(Belief,1)\n",
    "    print (\"at time t{}, measurement '{}' Belief is {} \".format(i+1,data,Belief))"
   ]
  },
  {
   "cell_type": "markdown",
   "metadata": {
    "deletable": false,
    "editable": false,
    "nbgrader": {
     "cell_type": "markdown",
     "checksum": "430ac82da343290d70e6d51799329bba",
     "grade": false,
     "grade_id": "emotion_recognition_q1",
     "locked": true,
     "schema_version": 3,
     "solution": false
    }
   },
   "source": [
    "### Exercise 2: Lucy, tell me a joke [50 points]\n",
    "\n",
    "Our robot Lucy has a trained model that it can use for recognising human emotions; the actual model is able to recognise seven emotions in total, but for the sake of this problem, let us assume that it can only recognise three - sad, angry, and happy - which we will denote by $R_S$, $R_A$, and $R_H$ respectively. Unfortunately, the model is not entirely reliable and often recognises incorrect emotions; in particular, let us assume that we are given the following observation probabilities:\n",
    "\n",
    "\\begin{align*}\n",
    "    &P(R_{S,t}|E_{S,t}) = 0.8 \\hspace{2.1cm} P(R_{A,t}|E_{S,t}) = 0.15 \\hspace{2cm} P(R_{H,t}|E_{S,t}) = 0.05 \\\\\n",
    "    &P(R_{S,t}|E_{A,t}) = 0.2 \\hspace{2cm} P(R_{A,t}|E_{A,t}) = 0.7 \\hspace{2.2cm} P(R_{H,t}|E_{A,t}) = 0.1 \\\\\n",
    "    &P(R_{S,t}|E_{H,t}) = 0.02 \\hspace{1.75cm} P(R_{A,t}|E_{H,t}) = 0.03 \\hspace{1.95cm} P(R_{H,t}|E_{H,t}) = 0.95 \\\\\n",
    "\\end{align*}\n",
    "\n",
    "where $E$ denotes the actual emotion and $t$ denotes time. Now, our robot wants to be a useful companion to its owner and can communicate with them, namely it can tell a joke, show a calming picture on its screen, and laugh lightly, events that we will denote by $C_J$, $C_P$, and $C_L$ respectively. For a particular owner (as in one of the previous assignments, let's assume it's Alex), the following transition probabilities are known:\n",
    "\n",
    "\\begin{align*}\n",
    "    &P(E_{S,t}|C_{J,t}, E_{S,t-1}) = 0.1 \\hspace{2.1cm} P(E_{A,t}|C_{J,t}, E_{S,t-1}) = 0.01 \\hspace{2cm} P(E_{H,t}|C_{J,t}, E_{S,t-1}) = 0.89 \\\\\n",
    "    &P(E_{S,t}|C_{J,t}, E_{A,t-1}) = 0.02 \\hspace{1.82cm} P(E_{A,t}|C_{J,t}, E_{A,t-1}) = 0.1 \\hspace{2.2cm} P(E_{H,t}|C_{J,t}, E_{A,t-1}) = 0.88 \\\\\n",
    "    &P(E_{S,t}|C_{J,t}, E_{H,t-1}) = 0.01 \\hspace{1.78cm} P(E_{A,t}|C_{J,t}, E_{H,t-1}) = 0 \\hspace{2.5cm} P(E_{H,t}|C_{J,t}, E_{H,t-1}) = 0.99 \\\\~\\\\\n",
    "    &P(E_{S,t}|C_{P,t}, E_{S,t-1}) = 0.45 \\hspace{1.75cm} P(E_{A,t}|C_{P,t}, E_{S,t-1}) = 0 \\hspace{2.6cm} P(E_{H,t}|C_{P,t}, E_{S,t-1}) = 0.55 \\\\\n",
    "    &P(E_{S,t}|C_{P,t}, E_{A,t-1}) = 0.55 \\hspace{1.73cm} P(E_{A,t}|C_{P,t}, E_{A,t-1}) = 0.1 \\hspace{2.22cm} P(E_{H,t}|C_{P,t}, E_{A,t-1}) = 0.35 \\\\\n",
    "    &P(E_{S,t}|C_{P,t}, E_{H,t-1}) = 0.01 \\hspace{1.7cm} P(E_{A,t}|C_{P,t}, E_{H,t-1}) = 0.01 \\hspace{1.92cm} P(E_{H,t}|C_{P,t}, E_{H,t-1}) = 0.98 \\\\~\\\\\n",
    "    &P(E_{S,t}|C_{L,t}, E_{S,t-1}) = 0.2 \\hspace{1.92cm} P(E_{A,t}|C_{L,t}, E_{S,t-1}) = 0.1 \\hspace{2.41cm} P(E_{H,t}|C_{L,t}, E_{S,t-1}) = 0.7 \\\\\n",
    "    &P(E_{S,t}|C_{L,t}, E_{A,t-1}) = 0.1 \\hspace{1.92cm} P(E_{A,t}|C_{L,t}, E_{A,t-1}) = 0.4 \\hspace{2.4cm} P(E_{H,t}|C_{L,t}, E_{A,t-1}) = 0.5 \\\\\n",
    "    &P(E_{S,t}|C_{L,t}, E_{H,t-1}) = 0 \\hspace{2.22cm} P(E_{A,t}|C_{L,t}, E_{H,t-1}) = 0 \\hspace{2.65cm} P(E_{H,t}|C_{L,t}, E_{H,t-1}) = 1\n",
    "\\end{align*}\n",
    "\n",
    "a) [10 points] Write down the equation for the Bayes filter that will allow us to estimate Alex's emotion at time $t+1$ based on the estimates up to time $t$, the measurements up to time $t+1$, and Lucy's communication actions up to time $t + 1$. Then, use the Bayes filter to manually calculate the probabilities of the different emotions at time $t = 1$ given that Lucy has told a joke and then seen Alex being happy. Assume that Alex is angry at time $t = 0$.\n",
    "</div>"
   ]
  },
  {
   "cell_type": "markdown",
   "metadata": {
    "deletable": false,
    "nbgrader": {
     "cell_type": "markdown",
     "checksum": "58c4a5b8ddbfe6a96d73b933a81801e4",
     "grade": true,
     "grade_id": "emotion_recognition_a1",
     "locked": false,
     "points": 10,
     "schema_version": 3,
     "solution": true
    }
   },
   "source": [
    "The equation to estimate Alex's emotion at time t+1 based on the estimates, measurement and communications, which is \n",
    "\n",
    "$ P(E_{t}|E_{0:t-1},C_{1:t},R_{1:t}) = \\alpha P(R_{t}|E_{t}) \\Sigma_{E_{i}} P(E_{t}|C_{t},E_{t-1}) P(E_{t-1}|E_{1:t-2},C_{1:t},R_{1:t})$\n",
    "\n",
    "Given Alex is angry at t = 0 => $ P(E_{A_{0}}) = 1 , P(E_{S_{0}}) = 0 , P(E_{H_{0}}) = 0 ,$\n",
    "\n",
    "In the problem it's asked to find different emotions in Alex's face when Lucy told a joke ($C_{j}$) and having seen Alex being happy ($R_{H}$) at t = 1.\n",
    "\n",
    "$ P(E_{S_{1}}|E_{H_0},C_{J_{1}},R_{H_{1}}) = \\alpha P(R_{H_{1}}|E_{S_{1}}) \\Sigma_{E_{0}} P(E_{S_{1}}|C_{J_{1}},E_{0}) P(E_{0}) = \\alpha 0.05(0.02*1) = 0.001\\alpha $\n",
    "\n",
    "$ P(E_{A_{1}}|E_{A_0},C_{J_{1}},R_{H_{1}}) = \\alpha P(R_{H_{1}}|E_{A_{1}}) \\Sigma_{E_{0}} P(E_{A_{1}}|C_{J_{1}},E_{0}) P(E_{0}) = \\alpha 0.1(0.1*1) = 0.01\\alpha $\n",
    "\n",
    "$ P(E_{H_{1}}|E_{H_0},C_{J_{1}},R_{H_{1}}) = \\alpha P(R_{H_{1}}|E_{H_{1}}) \\Sigma_{E_{0}} P(E_{H_{1}}|C_{J_{1}},E_{0}) P(E_{0}) = \\alpha 0.95(0.88*1) = 0.836\\alpha $\n",
    "\n",
    "$ \\alpha = \\frac{1}{0.001+0.01+0.836} = 1.181 $\n",
    "\n",
    "$ P(E_{S_{1}}|E_{s_0},C_{J_{1}},R_{H_{1}}) = 0.001 * 1.181 = 0.0012 $\n",
    "\n",
    "$ P(E_{A_{1}}|E_{A_0},C_{J_{1}},R_{H_{1}}) = 0.01 * 1.181 = 0.0181 $\n",
    "\n",
    "$ P(E_{H_{1}}|E_{H_0},C_{J_{1}},R_{H_{1}}) = 0.836 * 1.181 = 0.987316 $"
   ]
  },
  {
   "cell_type": "markdown",
   "metadata": {
    "deletable": false,
    "editable": false,
    "nbgrader": {
     "cell_type": "markdown",
     "checksum": "f848b2725b5598dff5f18661c9dcd09f",
     "grade": false,
     "grade_id": "emotion_recognition_q2",
     "locked": true,
     "schema_version": 3,
     "solution": false
    }
   },
   "source": [
    "b) [30 points] In the cell below, implement two functions - $measurement\\_update$ and $control\\_update$ - which can be used for recursively updating the belief about Alex's emotion based on all previous estimates, measurements, and robot actions. Use your implementation to estimate the beliefs about Alex's emotions if we assume the following sequence of actions and emotion observations:\n",
    "\n",
    "*tell a joke*, happy, *show a picture*, sad, *tell a joke*, angry, *laugh*, happy, *show a picture*, sad, *tell a joke*, happy, *show a picture*, happy\n",
    "\n",
    "Once again, assume that Alex is angry at time $t = 0$. Note that the first action-measurement pair is the same as in a), so you can use the estimate to cross-check your previous result."
   ]
  },
  {
   "cell_type": "code",
   "execution_count": 4,
   "metadata": {
    "deletable": false,
    "nbgrader": {
     "cell_type": "code",
     "checksum": "17ca5848ac0458d83135d0c99b091126",
     "grade": true,
     "grade_id": "emotion_recognition_a2",
     "locked": false,
     "points": 30,
     "schema_version": 3,
     "solution": true
    }
   },
   "outputs": [
    {
     "name": "stdout",
     "output_type": "stream",
     "text": [
      "observation:'happy' and taken action:'tell a joke', then below is the result \n",
      "Belief that Alex is sad: 0.0011806375442739079\n",
      "Belief that Alex is angry: 0.01180637544273908\n",
      "Belief that Alex is happy: 0.9870129870129869\n",
      "\n",
      "observation:'sad' and taken action:'show a picture', then below is the result \n",
      "Belief that Alex is sad: 0.3843338951071959\n",
      "Belief that Alex is angry: 0.06284705203010749\n",
      "Belief that Alex is happy: 0.5528190528626965\n",
      "\n",
      "observation:'angry' and taken action:'tell a joke', then below is the result \n",
      "Belief that Alex is sad: 0.16068360219035507\n",
      "Belief that Alex is angry: 0.16795292507990123\n",
      "Belief that Alex is happy: 0.6713634727297437\n",
      "\n",
      "observation:'happy' and taken action:'laugh', then below is the result \n",
      "Belief that Alex is sad: 0.0029293622125838494\n",
      "Belief that Alex is angry: 0.009967627058443106\n",
      "Belief that Alex is happy: 0.987103010728973\n",
      "\n",
      "observation:'sad' and taken action:'show a picture', then below is the result \n",
      "Belief that Alex is sad: 0.38149826242112356\n",
      "Belief that Alex is angry: 0.06217286232702101\n",
      "Belief that Alex is happy: 0.5563288752518554\n",
      "\n",
      "observation:'happy' and taken action:'tell a joke', then below is the result \n",
      "Belief that Alex is sad: 0.002494783054087943\n",
      "Belief that Alex is angry: 0.0011134449576812087\n",
      "Belief that Alex is happy: 0.9963917719882308\n",
      "\n",
      "observation:'happy' and taken action:'show a picture', then below is the result \n",
      "Belief that Alex is sad: 0.0006283638075015416\n",
      "Belief that Alex is angry: 0.001082306037208905\n",
      "Belief that Alex is happy: 0.9982893301552895\n",
      "\n"
     ]
    }
   ],
   "source": [
    "# YOUR CODE HERE\n",
    "Belief = [0,1,0]  #initialy he is angry\n",
    "control_belif = [0,0,0]\n",
    "actions = ['tell a joke', 'show a picture', 'tell a joke', 'laugh', 'show a picture', 'tell a joke', 'show a picture']\n",
    "observations = ['happy', 'sad', 'angry', 'happy', 'sad', 'happy', 'happy']\n",
    "dict_actions = {'tell a joke': 0, 'show a picture': 1, 'laugh':2}\n",
    "dict_observations = {'sad':0, 'angry':1, 'happy':2}\n",
    "P_R_E = np.array([[0.8, 0.15, 0.05],\n",
    "                  [0.2, 0.7, 0.1],\n",
    "                  [0.02, 0.03, 0.95]])\n",
    "\n",
    "P_E1_E0 = np.array([[[0.1, 0.01, 0.89],\n",
    "                    [0.02, 0.1, 0.88],\n",
    "                    [0.01, 0, 0.99]],\n",
    "                    [[0.45, 0, 0.55],\n",
    "                    [0.55, 0.1, 0.35],\n",
    "                    [0.01, 0.01, 0.98]],\n",
    "                    [[0.2, 0.1, 0.7],\n",
    "                    [0.1, 0.4, 0.5],\n",
    "                    [0, 0, 1.0]]])\n",
    "#measurement correction\n",
    "def measurement_update(control_belif, observation):\n",
    "    tempSad = P_R_E[0][observation] * control_belif[0]\n",
    "    tempAngry = P_R_E[1][observation] * control_belif[1]\n",
    "    tempHappy = P_R_E[2][observation] * control_belif[2]\n",
    "    alpha = 1/(tempSad+tempAngry+tempHappy)\n",
    "    Belief[0] = tempSad * alpha\n",
    "    Belief[1] = tempAngry * alpha\n",
    "    Belief[2] = tempHappy * alpha\n",
    "    return Belief\n",
    "\n",
    "# calculating control_update i,e, prediction\n",
    "def control_update(Belief, act):\n",
    "    control_belif[0] = P_E1_E0[act][0][0]*Belief[0] + P_E1_E0[act][1][0]*Belief[1] + P_E1_E0[act][2][0]*Belief[2]\n",
    "    control_belif[1] = P_E1_E0[act][0][1]*Belief[0] + P_E1_E0[act][1][1]*Belief[1] + P_E1_E0[act][2][1]*Belief[2]\n",
    "    control_belif[2] = P_E1_E0[act][0][2]*Belief[0] + P_E1_E0[act][1][2]*Belief[1] + P_E1_E0[act][2][2]*Belief[2]\n",
    "    return control_belif\n",
    "\n",
    "for u,x in zip(actions,observations):\n",
    "    act = dict_actions[u]\n",
    "    obs = dict_observations[x]\n",
    "    control_belif = control_update(Belief, act)\n",
    "    Belief = measurement_update(control_belif, obs)\n",
    "    print(\"observation:'{}' and taken action:'{}', then below is the result \".format(x,u))\n",
    "    print(\"Belief that Alex is sad: {}\".format(Belief[0]))\n",
    "    print(\"Belief that Alex is angry: {}\".format(Belief[1]))\n",
    "    print(\"Belief that Alex is happy: {}\\n\".format(Belief[2]))\n",
    "    \n"
   ]
  },
  {
   "cell_type": "markdown",
   "metadata": {
    "deletable": false,
    "editable": false,
    "nbgrader": {
     "cell_type": "markdown",
     "checksum": "ff7744db600baefcd7b4f2806f754952",
     "grade": false,
     "grade_id": "emotion_recognition_q3",
     "locked": true,
     "schema_version": 3,
     "solution": false
    }
   },
   "source": [
    "b) [10 points] If Lucy keeps acting without observing Alex's emotions, what do you think will happen to the emotion estimates in the long run? Note that acting without observations is the same as only performing a control update, i.e. equivalent to only performing a prediction step in the Bayes filter, but without a measurement correction.\n",
    "\n",
    "Verify your hypothesis in the cell below by generating random sequences of actions and updating the emotion estimates only based on the control updates."
   ]
  },
  {
   "cell_type": "code",
   "execution_count": 5,
   "metadata": {
    "deletable": false,
    "nbgrader": {
     "cell_type": "code",
     "checksum": "1fa9e7d9f42e4e6f853552a9efe266c2",
     "grade": true,
     "grade_id": "emotion_recognition_a3",
     "locked": false,
     "points": 5,
     "schema_version": 3,
     "solution": true
    }
   },
   "outputs": [
    {
     "name": "stdout",
     "output_type": "stream",
     "text": [
      "previous belief:[0, 1, 0] \n",
      "taken action:'show a picture' below is the result \n",
      "Belief that Alex is sad: 0.5569620253164557\n",
      "Belief that Alex is angry: 0.10126582278481011\n",
      "Belief that Alex is happy: 0.34177215189873417\n",
      "\n",
      "previous belief:[0.5569620253164557, 0.10126582278481011, 0.34177215189873417] \n",
      "taken action:'laugh' below is the result \n",
      "Belief that Alex is sad: 0.19370460048426152\n",
      "Belief that Alex is angry: 0.08393866020984665\n",
      "Belief that Alex is happy: 0.722356739305892\n",
      "\n",
      "previous belief:[0.19370460048426152, 0.08393866020984665, 0.722356739305892] \n",
      "taken action:'tell a joke' below is the result \n",
      "Belief that Alex is sad: 0.03602177810686695\n",
      "Belief that Alex is angry: 0.01105466517791184\n",
      "Belief that Alex is happy: 0.9529235567152212\n",
      "\n",
      "previous belief:[0.03602177810686695, 0.01105466517791184, 0.9529235567152212] \n",
      "taken action:'show a picture' below is the result \n",
      "Belief that Alex is sad: 0.031897520314782456\n",
      "Belief that Alex is angry: 0.010660911500706687\n",
      "Belief that Alex is happy: 0.9574415681845109\n",
      "\n",
      "previous belief:[0.031897520314782456, 0.010660911500706687, 0.9574415681845109] \n",
      "taken action:'show a picture' below is the result \n",
      "Belief that Alex is sad: 0.02982655765400405\n",
      "Belief that Alex is angry: 0.010652920543604944\n",
      "Belief that Alex is happy: 0.9595205218023911\n",
      "\n",
      "previous belief:[0.02982655765400405, 0.010652920543604944, 0.9595205218023911] \n",
      "taken action:'laugh' below is the result \n",
      "Belief that Alex is sad: 0.007182008286401603\n",
      "Belief that Alex is angry: 0.00507113369944108\n",
      "Belief that Alex is happy: 0.9877468580141573\n",
      "\n",
      "previous belief:[0.007182008286401603, 0.00507113369944108, 0.9877468580141573] \n",
      "taken action:'laugh' below is the result \n",
      "Belief that Alex is sad: 0.001954489405032804\n",
      "Belief that Alex is angry: 0.002235356417054603\n",
      "Belief that Alex is happy: 0.9958101541779125\n",
      "\n",
      "previous belief:[0.001954489405032804, 0.002235356417054603, 0.9958101541779125] \n",
      "taken action:'show a picture' below is the result \n",
      "Belief that Alex is sad: 0.011967223861910343\n",
      "Belief that Alex is angry: 0.010097393454683141\n",
      "Belief that Alex is happy: 0.9779353826834065\n",
      "\n",
      "previous belief:[0.011967223861910343, 0.010097393454683141, 0.9779353826834065] \n",
      "taken action:'laugh' below is the result \n",
      "Belief that Alex is sad: 0.003436554056490037\n",
      "Belief that Alex is angry: 0.0044222168040356025\n",
      "Belief that Alex is happy: 0.9921412291394743\n",
      "\n",
      "previous belief:[0.003436554056490037, 0.0044222168040356025, 0.9921412291394743] \n",
      "taken action:'show a picture' below is the result \n",
      "Belief that Alex is sad: 0.013792028101013648\n",
      "Belief that Alex is angry: 0.010283071905639742\n",
      "Belief that Alex is happy: 0.9759248999933466\n",
      "\n",
      "previous belief:[0.013792028101013648, 0.010283071905639742, 0.9759248999933466] \n",
      "taken action:'tell a joke' below is the result \n",
      "Belief that Alex is sad: 0.011461565504494543\n",
      "Belief that Alex is angry: 0.0011535695129250467\n",
      "Belief that Alex is happy: 0.9873848649825805\n",
      "\n",
      "previous belief:[0.011461565504494543, 0.0011535695129250467, 0.9873848649825805] \n",
      "taken action:'show a picture' below is the result \n",
      "Belief that Alex is sad: 0.015581797978067618\n",
      "Belief that Alex is angry: 0.00993550498554238\n",
      "Belief that Alex is happy: 0.9744826970363899\n",
      "\n",
      "previous belief:[0.015581797978067618, 0.00993550498554238, 0.9744826970363899] \n",
      "taken action:'laugh' below is the result \n",
      "Belief that Alex is sad: 0.00415962874852273\n",
      "Belief that Alex is angry: 0.004438241827143732\n",
      "Belief that Alex is happy: 0.9914021294243335\n",
      "\n",
      "previous belief:[0.00415962874852273, 0.004438241827143732, 0.9914021294243335] \n",
      "taken action:'laugh' below is the result \n",
      "Belief that Alex is sad: 0.0012803268295389057\n",
      "Belief that Alex is angry: 0.001909698491549978\n",
      "Belief that Alex is happy: 0.9968099746789111\n",
      "\n",
      "previous belief:[0.0012803268295389057, 0.001909698491549978, 0.9968099746789111] \n",
      "taken action:'show a picture' below is the result \n",
      "Belief that Alex is sad: 0.011496172379064537\n",
      "Belief that Alex is angry: 0.010072844838657192\n",
      "Belief that Alex is happy: 0.9784309827822782\n",
      "\n",
      "previous belief:[0.011496172379064537, 0.010072844838657192, 0.9784309827822782] \n",
      "taken action:'show a picture' below is the result \n",
      "Belief that Alex is sad: 0.020391567455676902\n",
      "Belief that Alex is angry: 0.010735742938779798\n",
      "Belief that Alex is happy: 0.9688726896055432\n",
      "\n",
      "previous belief:[0.020391567455676902, 0.010735742938779798, 0.9688726896055432] \n",
      "taken action:'show a picture' below is the result \n",
      "Belief that Alex is sad: 0.02470986198483767\n",
      "Belief that Alex is angry: 0.010736349197923\n",
      "Belief that Alex is happy: 0.9645537888172394\n",
      "\n",
      "previous belief:[0.02470986198483767, 0.010736349197923, 0.9645537888172394] \n",
      "taken action:'show a picture' below is the result \n",
      "Belief that Alex is sad: 0.026641407013490232\n",
      "Belief that Alex is angry: 0.010707693662622277\n",
      "Belief that Alex is happy: 0.9626508993238876\n",
      "\n"
     ]
    }
   ],
   "source": [
    "# YOUR CODE HERE\n",
    "# YOUR CODE HERE\n",
    "Belief = [0,1,0]  #initialy he is angry\n",
    "\n",
    "actions = ['show a picture','laugh','tell a joke', 'show a picture','show a picture', 'laugh', 'laugh','show a picture', 'laugh', 'show a picture',\n",
    "           'tell a joke', 'show a picture', 'laugh', 'laugh', 'show a picture','show a picture','show a picture','show a picture',]\n",
    "dict_actions = {'tell a joke': 0, 'show a picture': 1, 'laugh': 2}\n",
    "\n",
    "def control_update(control_belief, act):\n",
    "    control_belief[0] = P_E1_E0[act][0][0]*Belief[0] + P_E1_E0[act][1][0]*Belief[1] + P_E1_E0[act][2][0]*Belief[2]\n",
    "    control_belief[1] = P_E1_E0[act][0][1]*Belief[0] + P_E1_E0[act][1][1]*Belief[1] + P_E1_E0[act][2][1]*Belief[2]\n",
    "    control_belief[2] = P_E1_E0[act][0][2]*Belief[0] + P_E1_E0[act][1][2]*Belief[1] + P_E1_E0[act][2][2]*Belief[2]\n",
    "    \n",
    "    #just normalizing our result to have proper observation\n",
    "    alpha = 1/(control_belief[0]+control_belief[1]+control_belief[2])\n",
    "    control_belief[0] *= alpha\n",
    "    control_belief[1] *= alpha\n",
    "    control_belief[2] *= alpha\n",
    "    return control_belief\n",
    "\n",
    "for u in actions:\n",
    "    act = dict_actions[u]\n",
    "    print (\"previous belief:{} \".format(Belief))\n",
    "    Belief = control_update(Belief, act)\n",
    "    print(\"taken action:'{}' below is the result \".format(u))\n",
    "    print(\"Belief that Alex is sad: {}\".format(Belief[0]))\n",
    "    print(\"Belief that Alex is angry: {}\".format(Belief[1]))\n",
    "    print(\"Belief that Alex is happy: {}\\n\".format(Belief[2]))"
   ]
  },
  {
   "cell_type": "markdown",
   "metadata": {
    "deletable": false,
    "nbgrader": {
     "cell_type": "markdown",
     "checksum": "6f8a421e3f2c0c081fab5b0dbc126622",
     "grade": true,
     "grade_id": "emotion_recognition_a3_interpretation",
     "locked": false,
     "points": 5,
     "schema_version": 3,
     "solution": true
    }
   },
   "source": [
    "When only control update is done, The system will have uncertainity in it and will get effected by the initial belief output by making the updated belief to be near the previous belief. So the probability function becomes smooth and becomes a uniform distribution function.\n",
    "\n",
    "In the above example we can see that first two control update expecting alex being happy had affected the whole system and even at places where he's supposed to be sad or angry were being dominated by the belief of the robot that Alex is happy.\n",
    "\n",
    "Hence, When a measurement update is not done there is a possibility of system being stuck to a belief which is dominant in the initial updates. R ANSWER HERE"
   ]
  },
  {
   "cell_type": "code",
   "execution_count": null,
   "metadata": {},
   "outputs": [],
   "source": []
  }
 ],
 "metadata": {
  "kernelspec": {
   "display_name": "Python 3",
   "language": "python",
   "name": "python3"
  },
  "language_info": {
   "codemirror_mode": {
    "name": "ipython",
    "version": 3
   },
   "file_extension": ".py",
   "mimetype": "text/x-python",
   "name": "python",
   "nbconvert_exporter": "python",
   "pygments_lexer": "ipython3",
   "version": "3.7.6"
  },
  "nbTranslate": {
   "displayLangs": [
    "*"
   ],
   "hotkey": "alt-t",
   "langInMainMenu": true,
   "sourceLang": "en",
   "targetLang": "fr",
   "useGoogleTranslate": true
  }
 },
 "nbformat": 4,
 "nbformat_minor": 2
}
