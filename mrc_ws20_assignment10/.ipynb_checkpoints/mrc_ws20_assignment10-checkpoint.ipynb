{
 "cells": [
  {
   "cell_type": "markdown",
   "metadata": {
    "deletable": false,
    "editable": false,
    "nbgrader": {
     "cell_type": "markdown",
     "checksum": "32ea224b436665162aeef0bce5e406f4",
     "grade": false,
     "grade_id": "header",
     "locked": true,
     "schema_version": 3,
     "solution": false
    }
   },
   "source": [
    "# Hochschule Bonn-Rhein-Sieg\n",
    "\n",
    "# Mathematics for Robotics and Control\n",
    "\n",
    "# Assignment 10 - Random Variables"
   ]
  },
  {
   "cell_type": "markdown",
   "metadata": {
    "deletable": false,
    "nbgrader": {
     "cell_type": "markdown",
     "checksum": "79b8191d97e9fe4774c8877066b94c39",
     "grade": true,
     "grade_id": "cell-8843e7a917115267",
     "locked": false,
     "points": 0,
     "schema_version": 3,
     "solution": true,
     "task": false
    }
   },
   "source": [
    "Author(s)/team members:\n",
    "\n",
    "* Kabilan Tamilmani  (ktamil2s)\n",
    "* Karthik Sundararaj (ksunda2s)"
   ]
  },
  {
   "cell_type": "code",
   "execution_count": 1,
   "metadata": {
    "deletable": false,
    "editable": false,
    "nbgrader": {
     "cell_type": "code",
     "checksum": "809ec9ba2cc336e0b9bcbf20e36e1210",
     "grade": false,
     "grade_id": "imports",
     "locked": true,
     "schema_version": 3,
     "solution": false
    }
   },
   "outputs": [],
   "source": [
    "import numpy as np\n",
    "import IPython\n",
    "import matplotlib.pyplot as plt\n",
    "import typing"
   ]
  },
  {
   "cell_type": "markdown",
   "metadata": {
    "deletable": false,
    "editable": false,
    "nbgrader": {
     "cell_type": "markdown",
     "checksum": "9aed75b221a2c343d67aa23d59e366f7",
     "grade": false,
     "grade_id": "cell-a065ef2776ca56c6",
     "locked": true,
     "schema_version": 3,
     "solution": false
    }
   },
   "source": [
    "## Exercise 1: Expected Value Properties [5 points]\n",
    "\n",
    "Given a discrete random variable $X$ and its probability mass function $P(X)$, the expected value of $X$ can be calculated using the formula\n",
    "\n",
    "\\begin{equation*}\n",
    "    E[X] = \\sum_{x}{xP(x)}\n",
    "\\end{equation*}\n",
    "\n",
    "The expected value has some interesting properties that can often simplify seemingly complicated calculations. In this exercise, we'll investigate some of those properties."
   ]
  },
  {
   "cell_type": "markdown",
   "metadata": {
    "deletable": false,
    "editable": false,
    "nbgrader": {
     "cell_type": "markdown",
     "checksum": "5a1b9092e5599eeea4ea34568045f72f",
     "grade": false,
     "grade_id": "cell-32391c77f01e5957",
     "locked": true,
     "schema_version": 3,
     "solution": false
    }
   },
   "source": [
    "a) [2 points] Show that the expected value of $Y = aX + b$, where $a$ and $b$ are constants, is equal to $aE[X] + b$. (*Hint*: Use the fact that the expected value of a function $g(X)$ is equal to $E[g(X)] = \\sum_{x}{g(x)P(x)}$)"
   ]
  },
  {
   "cell_type": "markdown",
   "metadata": {
    "deletable": false,
    "nbgrader": {
     "cell_type": "markdown",
     "checksum": "adc8853551bf2eb81f0476283dfc0fca",
     "grade": true,
     "grade_id": "cell-92cbb90bb30d228f",
     "locked": false,
     "points": 2,
     "schema_version": 3,
     "solution": true
    }
   },
   "source": [
    "let say our function g(X) = Y = aX+b <br/>\n",
    "then $E[g(X)] = \\sum_{x} g(x) P(x)$<br/>\n",
    "$E[Y] = \\sum_{x} (ax+b) P(x)$<br/>\n",
    "a and b are constant and above equation can be rewritten as,<br/>\n",
    "$E[Y] = a\\sum_{x} x P(x)+\\sum_{x}bP(x)$<br/>\n",
    "for the second term, sum over all the probability of x is 1, so<br/>\n",
    "$E[Y] = a\\sum_{x} x P(x)+b\\cdot 1$<br/>\n",
    "$E[Y] = aE[X]+b$<br/>"
   ]
  },
  {
   "cell_type": "markdown",
   "metadata": {
    "deletable": false,
    "editable": false,
    "nbgrader": {
     "cell_type": "markdown",
     "checksum": "674e9c40a54e0bc84ca692eecd96aee1",
     "grade": false,
     "grade_id": "cell-c79adc303bfe3844",
     "locked": true,
     "schema_version": 3,
     "solution": false
    }
   },
   "source": [
    "b) [2 points] The variance of $X$ is defined as\n",
    "\n",
    "\\begin{equation*}\n",
    "    Var(X) = E[(X - E[X])^2]\n",
    "\\end{equation*}\n",
    "\n",
    "Show that $Var(X) = E[X^2] - (E[X])^2$."
   ]
  },
  {
   "cell_type": "markdown",
   "metadata": {
    "deletable": false,
    "nbgrader": {
     "cell_type": "markdown",
     "checksum": "d97bbdef9ad432dd937dd8a0f6729539",
     "grade": true,
     "grade_id": "cell-441b1624a428c05d",
     "locked": false,
     "points": 2,
     "schema_version": 3,
     "solution": true
    }
   },
   "source": [
    "\\begin{equation*}\n",
    "    Var(X) = E[(X - E[X])^2]\\\\\n",
    "\\end{equation*}\n",
    "we know that, \n",
    "\\begin{equation*}\n",
    "    E[X] = \\sum_{x}{xP(x)}\\\\\n",
    "    Var(X) = \\sum_{x}{(x^2 - 2xE[X] + E[X]^2)}P(x)\\\\\n",
    "    Var(X) = \\sum_{x}{x^2P(x)} - 2E[X]\\sum_{x}{xP(x)} + E[X]^2\\sum_{x}{P(x)}\\\\\n",
    "    Var(X) = E[X^2] - 2E[X]E[X] + E[X]^2\\\\\n",
    "    Var(X) = E[X^2] - 2E[X]^2 + E[X]^2\\\\\n",
    "    Var(X) = E[X^2] - E[X]^2\\\\\n",
    "\\end{equation*}"
   ]
  },
  {
   "cell_type": "markdown",
   "metadata": {
    "deletable": false,
    "editable": false,
    "nbgrader": {
     "cell_type": "markdown",
     "checksum": "2dcc30c72cbeb5fab58f4c3741ddf75a",
     "grade": false,
     "grade_id": "cell-ba116ea2f2deacd2",
     "locked": true,
     "schema_version": 3,
     "solution": false
    }
   },
   "source": [
    "c) [1 point] Given two random variables $X$ and $Y$, show that $E[X + Y] = E[X] + E[Y]$."
   ]
  },
  {
   "cell_type": "markdown",
   "metadata": {
    "deletable": false,
    "nbgrader": {
     "cell_type": "markdown",
     "checksum": "a893960560584c20337a9f1c22542325",
     "grade": true,
     "grade_id": "cell-9aaa5cef97eb6d96",
     "locked": false,
     "points": 1,
     "schema_version": 3,
     "solution": true
    }
   },
   "source": [
    "let say $g(X,Y)=X+Y$ then expectation of g(X,Y) can be given as,<br/>\n",
    "$E[g(X,Y)] = \\sum_{x}\\sum_{y}{g(x,y)P(x)P(y)}$<br/>\n",
    "$E[X+Y] = \\sum_{x}\\sum_{y}{(x+y)P(x)P(y)}$<br/>\n",
    "$E[X+Y] = \\sum_{x}\\sum_{y}{xP(x)P(y)} + \\sum_{x}\\sum_{y}{yP(x)P(y)}$<br/>\n",
    "$E[X+Y] = \\sum_{x}{xP(x)}\\sum_{y}{P(y)} + \\sum_{x}{P(x)}\\sum_{y}{yP(y)}$<br/>\n",
    "The sum of the probability of x or y is equal to 1, <br/>\n",
    "$E[X+Y] = \\sum_{x}{xP(x)} + \\sum_{y}{yP(y)}$<br/>\n",
    "$E[X+Y] = E[X] + E[Y]$"
   ]
  },
  {
   "cell_type": "markdown",
   "metadata": {
    "deletable": false,
    "editable": false,
    "nbgrader": {
     "cell_type": "markdown",
     "checksum": "c1f68e8bc74e590712af4501a802a82c",
     "grade": false,
     "grade_id": "cell-e9e77895ff6f6c8a",
     "locked": true,
     "schema_version": 3,
     "solution": false
    }
   },
   "source": [
    "## Exercise 2: Random Variables and Conditional Probabilities [15 points]\n",
    "\n",
    "Let's suppose that we have a very simple speech synthesis system that can only generate sequences of the letters \\{ a, b, c, d \\}. Based on the data we have used for training the system, we know that the prior probabilities of generating the letters are $P(a) = 0.1$, $P(b) = 0.4$, $P(c) = 0.2$, and $P(d) = 0.3$. This particular system works by generating letters one at a time; as only some letter combinations are considered valid words, generating letter $n$ affects the probabilities of generating letter $n+1$. In particular, we know that\n",
    "\n",
    "\\begin{align*}\n",
    "    &P(a|a) = 0.2 \\hspace{2cm} P(b|a) = 0.1 \\hspace{2cm} P(c|a) = 0.6 \\hspace{2cm} P(d|a) = 0.1\\\\\n",
    "    &P(a|b) = 0.4 \\hspace{2cm} P(b|b) = 0.2 \\hspace{2cm} P(c|b) = 0.1 \\hspace{2cm} P(d|b) = 0.3\\\\\n",
    "    &P(a|c) = 0.1 \\hspace{2cm} P(b|c) = 0.2 \\hspace{2cm} P(c|c) = 0.4 \\hspace{2cm} P(d|c) = 0.3\\\\\n",
    "    &P(a|d) = 0.4 \\hspace{2cm} P(b|d) = 0.4 \\hspace{2cm} P(c|d) = 0.2 \\hspace{2cm} P(d|d) = 0.0\n",
    "\\end{align*}\n",
    "\n",
    "Given that the letters from $1$ to $n-1$ don't affect the probabilities of generating the subsequent letters, we say that letter $n+1$ is conditionally independent of letters $1$ to $n-1$ given letter $n$. For instance, if the system has generated the sequence *bc*, the probability of generating *d* next, namely $P(d|b,c)$, will be equal to $P(d|c)$. The probabilities given above are thus all we need for investigating how this particular speech synthesis system works.\n",
    "\n",
    "a) [2 points] How many four-letter sequences of $\\{ a, b, c, d \\}$ are there in total? How many of these are valid for this particular speech synthesis system?"
   ]
  },
  {
   "cell_type": "markdown",
   "metadata": {
    "deletable": false,
    "nbgrader": {
     "cell_type": "markdown",
     "checksum": "e533ebac1b09e3177518b4665c497f81",
     "grade": true,
     "grade_id": "cell-68cfc035470ed28b",
     "locked": false,
     "points": 2,
     "schema_version": 3,
     "solution": true
    }
   },
   "source": [
    "Without repetation there are  4! = 24 four-letter sequences. <br/>\n",
    "With repetation there are $4^4$ = 256 four-letter sequences. <br/>"
   ]
  },
  {
   "cell_type": "markdown",
   "metadata": {
    "deletable": false,
    "editable": false,
    "nbgrader": {
     "cell_type": "markdown",
     "checksum": "f5d5ae27e5da2cde817691dabe5fc706",
     "grade": false,
     "grade_id": "cell-ed32b6460957a16e",
     "locked": true,
     "schema_version": 3,
     "solution": false
    }
   },
   "source": [
    "b) [3 points] What is the probability of generating the sequence $dacb$?"
   ]
  },
  {
   "cell_type": "code",
   "execution_count": null,
   "metadata": {
    "deletable": false,
    "nbgrader": {
     "cell_type": "code",
     "checksum": "2a31c4ad0390cc542bfc12399ffa1a48",
     "grade": false,
     "grade_id": "abcd_sequence",
     "locked": false,
     "schema_version": 3,
     "solution": true
    }
   },
   "outputs": [],
   "source": [
    "# YOUR CODE HERE\n",
    "#P(d)=0.3\n",
    "p_d = 0.3\n",
    "\n",
    "#P(a|d)=0.4\n",
    "p_ad = 0.4\n",
    "\n",
    "#P(c|d,a)=P(c|a)=0.6\n",
    "p_ca = 0.6\n",
    "\n",
    "#P(b|d,a,c) = P(b|c) = 0.2\n",
    "p_bc = 0.2\n",
    "\n",
    "#### please assign p_dacb to the probability\n",
    "\n",
    "#P(dacb) = P(d)*P(a|d)*P(c|a)*P(b|c)\n",
    "p_dacb = p_d*p_ad*p_ca*p_bc\n",
    "print(p_dacb)"
   ]
  },
  {
   "cell_type": "code",
   "execution_count": null,
   "metadata": {
    "deletable": false,
    "editable": false,
    "nbgrader": {
     "cell_type": "code",
     "checksum": "b2f18e65aa4470a0f28f5607dbecdb81",
     "grade": true,
     "grade_id": "test_abcd_sequence",
     "locked": true,
     "points": 3,
     "schema_version": 3,
     "solution": false
    }
   },
   "outputs": [],
   "source": [
    "### THIS CELL CONTAINS AUTOMATED TESTS OF YOUR SOLUTION; DO NOT DELETE IT!\n"
   ]
  },
  {
   "cell_type": "markdown",
   "metadata": {
    "deletable": false,
    "editable": false,
    "nbgrader": {
     "cell_type": "markdown",
     "checksum": "4573021fbeb1d501d029cc426131dd69",
     "grade": false,
     "grade_id": "cell-e8a7f026b6062dcd",
     "locked": true,
     "schema_version": 3,
     "solution": false
    }
   },
   "source": [
    "c) [10 points] Let us now define a random variable $X$ that counts the occurrences of a given letter in a two-letter sequence. Write the function $f$ defined below, which calculates $P(X)$, the probability mass function of $X$. Verify the results of your function by assuming that $X$ counts the number of *a*s in a two-letter sequence; for this case, calculate $P(X)$ by hand and make sure that your function returns the correct values.\n",
    "\n",
    "*Hint 1*: Feel free to define any additional helper functions that might simplify your calculations.\n",
    "\n",
    "*Hint 2*: A test case for your function is given in the cell below. You should obtain the probabilities $P(X=0) = 0.6$, $P(X=1) = 0.38$, and $P(X=2) = 0.02$ for that test case."
   ]
  },
  {
   "cell_type": "code",
   "execution_count": 2,
   "metadata": {
    "deletable": false,
    "nbgrader": {
     "cell_type": "code",
     "checksum": "7232eab3804fa81d244c0ed662c41f70",
     "grade": false,
     "grade_id": "two_letter_sequences",
     "locked": false,
     "schema_version": 3,
     "solution": true
    }
   },
   "outputs": [],
   "source": [
    "def f(priors: np.array,\n",
    "      conditionals: np.array,\n",
    "      letter_idx: int) -> float:\n",
    "    p_x = np.array([0., 0., 0.])\n",
    "\n",
    "    ### Write your code here ###\n",
    "    # YOUR CODE HERE\n",
    "    #we know that for the two-letter sequence with repetition, it has 2^4 i.e. 16 possible combinations\n",
    "    #so we are iterating over all the rows and colums of the given probability table\n",
    "    for row,data in enumerate(conditionals):\n",
    "        for column,element in enumerate(data):\n",
    "            #let say P(X=a) is the probability of variable is 'a' in generated sequence then\n",
    "            #this condition will identify the probability of both the letter in generated sequence is X.\n",
    "            #and our result be P(X=2)= P(X=a)*P(X=a|X=a) \n",
    "            if(row==letter_idx and column==letter_idx):\n",
    "                p_x[2]+=priors[letter_idx]*element\n",
    "            #next two condition will identify that either one of the letter in generated sequence is X.\n",
    "            #it will count all the probability where P(X=1) = P(X)*P(b, c, d|X) or P(X=1) = P(X)*P(X|b, c, d)\n",
    "            elif(row==letter_idx):\n",
    "                p_x[1]+=priors[letter_idx]*element\n",
    "            elif(column==letter_idx):\n",
    "                p_x[1]+=priors[row]*element\n",
    "            #if there is no X in generated sequence, then sum up all those probability which gives us \n",
    "            #P(X=0) = P(X)*P(b,c,d|b,c,d)\n",
    "            else:\n",
    "                p_x[0]+=priors[row]*element\n",
    "\n",
    "    return p_x\n",
    "\n",
    "letters = ['a', 'b', 'c', 'd']\n",
    "priors = np.array([0.1, 0.4, 0.2, 0.3])\n",
    "conditionals = np.array([[0.2, 0.1, 0.6, 0.1], [0.4, 0.2, 0.1, 0.3], \\\n",
    "                         [0.1, 0.2, 0.4, 0.3], [0.4, 0.4, 0.2, 0.]])\n",
    "\n",
    "pmf = f(priors, conditionals, letters.index('a'))\n",
    "assert np.allclose(pmf, np.array([0.6, 0.38, 0.02]))"
   ]
  },
  {
   "cell_type": "code",
   "execution_count": null,
   "metadata": {
    "deletable": false,
    "editable": false,
    "nbgrader": {
     "cell_type": "code",
     "checksum": "6ff5afa1309d3ba7fabda3b7ad03c9af",
     "grade": true,
     "grade_id": "test_two_letter_sequences",
     "locked": true,
     "points": 10,
     "schema_version": 3,
     "solution": false
    }
   },
   "outputs": [],
   "source": [
    "### THIS CELL CONTAINS AUTOMATED TESTS OF YOUR SOLUTION; DO NOT DELETE IT!\n"
   ]
  },
  {
   "cell_type": "markdown",
   "metadata": {
    "deletable": false,
    "editable": false,
    "nbgrader": {
     "cell_type": "markdown",
     "checksum": "c0c3da78e83055095f011eb94cc038e2",
     "grade": false,
     "grade_id": "cell-cb7e1e27cb2f3e5a",
     "locked": true,
     "schema_version": 3,
     "solution": false
    }
   },
   "source": [
    "## Exercise 3: Random Variables [20 points]\n",
    "\n",
    "In this exercise, you'll create a very simple Python library for discrete random variables. In particular, given a random variable $X$ whose probability mass function $P(X)$ is known, your library will be able to:\n",
    "\n",
    "* [2 points] *Calculate the expected value of $X$*\n",
    "* [2 points] *Calculate the variance of $X$*\n",
    "* [3 points] *Calculate the expected value of a function of $X$*\n",
    "* [5 points] *Calculate the **conditional expectation** of $X$ given an event $Y = y$*: Given an event $Y = y$, the PMF of $X$ changes to the conditional PMF $P_{X|Y=y}(x|y)$; the conditional expectation is thus defined as\n",
    "    \\begin{equation*}\n",
    "        E[X|Y=y] = \\sum_{x}{xP_{X|Y=y}(x|y)}\n",
    "    \\end{equation*}\n",
    "* [3 points] *Create the **cumulative distribution function (CDF)** of $X$*: The cumulative distribution function $F(X)$ returns the probability that $X$ is less than or equal to a given value $x$, i.e.\n",
    "    \\begin{equation*}\n",
    "        F(X) = P(X \\leq x)\n",
    "    \\end{equation*}\n",
    "* [5 points] *Generate samples from the PMF*: Sampling from the PMF is best explained by an example. Let's say that we have a discrete random variable $X$ that takes the values $1$, $2$, and $3$, whose probabilities are $P(X=1) = 0.2$, $P(X=2) = 0.5$, and $P(X=3) = 0.3$. If we generate a lot of samples from this distribution (say a thousand), we would expect that roughly $200$ of those are equal to $1$, $500$ are equal to $2$, and $300$ are equal to $3$. *Hint*: You may **not** use existing library functions (e.g. in numpy) when implementing the sampling function.\n",
    "\n",
    "Define your library functions in the class *DiscreteRandomVariable*, whose interface is given below. Verify that your functions are working correctly by running the test cases below and making sure that none of the assertions fail."
   ]
  },
  {
   "cell_type": "code",
   "execution_count": null,
   "metadata": {
    "deletable": false,
    "nbgrader": {
     "cell_type": "code",
     "checksum": "2c57308695c17a5d46755ea3e938a575",
     "grade": false,
     "grade_id": "random_variable_library",
     "locked": false,
     "schema_version": 3,
     "solution": true
    }
   },
   "outputs": [],
   "source": [
    "class DiscreteRandomVariable(object):\n",
    "    def __init__(self, values: np.ndarray, pmf: np.ndarray):\n",
    "        '''Keyword arguments:\n",
    "        values: np.ndarray -- allowed values for the random variable\n",
    "        pmf: np.ndarray -- probabiility mass function of the random variable\n",
    "\n",
    "        '''\n",
    "        self.values = np.array(values)\n",
    "        self.pmf = np.array(pmf)\n",
    "\n",
    "    def expectation(self) -> float:\n",
    "        '''Calculates the expected value of the random variable.\n",
    "        '''\n",
    "        e_x = 0.\n",
    "\n",
    "        ### Write your code here ###\n",
    "        # YOUR CODE HERE\n",
    "        for i,value in enumerate(self.values):\n",
    "            e_x += value*self.pmf[i]\n",
    "\n",
    "        return e_x\n",
    "\n",
    "    def variance(self) -> float:\n",
    "        '''Calculates the variance of the random variable.\n",
    "        '''\n",
    "        var_x = 0.\n",
    "\n",
    "        ### Write your code here ###\n",
    "        # YOUR CODE HERE\n",
    "        ex_x = self.expectation()\n",
    "        for i,value in enumerate(self.values):\n",
    "            var_x += ((value-ex_x)**2 * self.pmf[i])\n",
    "\n",
    "        return var_x\n",
    "\n",
    "    def function_expectation(self, g: typing.Callable) -> float:\n",
    "        '''Calculates the expectation of a function of the random variable.\n",
    "\n",
    "        Keyword arguments:\n",
    "        g: typing.Callable -- function for transforming the values\n",
    "                              of the random variable\n",
    "\n",
    "        '''\n",
    "        e_g_x = 0.\n",
    "\n",
    "        ### Write your code here ###\n",
    "        # YOUR CODE HERE\n",
    "        for i,value in enumerate(self.values):\n",
    "            e_g_x += g(value)*self.pmf[i]\n",
    "\n",
    "        return e_g_x\n",
    "\n",
    "    def conditional_expectation(self, y_values: np.ndarray,\n",
    "                                conditional_pmfs: np.ndarray,\n",
    "                                observed_y: int) -> float:\n",
    "        '''Calculates the conditional expectation of the random variable\n",
    "        given a particular value of another random variable.\n",
    "\n",
    "        Keyword arguments:\n",
    "        y_values: np.array -- a list of possible y values\n",
    "        conditional_pmfs: np.ndarray -- a 2D array with as many rows as\n",
    "                                        there are values in y_values,\n",
    "                                        such that each row represents\n",
    "                                        the conditional pmf of x given y\n",
    "        observed_y: the observed value of y\n",
    "\n",
    "        '''\n",
    "        conditional_e_x = 0.\n",
    "\n",
    "        ### Write your code here ###\n",
    "        # YOUR CODE HERE\n",
    "        index = np.where(y_values==observed_y)\n",
    "        for i,value in enumerate(self.values):\n",
    "            conditional_e_x +=value*conditional_pmfs[index,i]\n",
    "\n",
    "        return conditional_e_x\n",
    "\n",
    "    def cdf(self) -> np.ndarray:\n",
    "        '''Returns a numpy array representing the cumulative\n",
    "        distribution function of the random variable.\n",
    "        '''\n",
    "        cdf = np.zeros(len(self.pmf) + 1)\n",
    "\n",
    "        ### Write your code here ###\n",
    "        # YOUR CODE HERE\n",
    "        cdf_sum = 0\n",
    "        for i in range(len(self.values)+1):\n",
    "            if i==0:\n",
    "                cdf[i] = 0\n",
    "            else:\n",
    "                cdf_sum+=self.pmf[i-1]\n",
    "                cdf[i] = cdf_sum\n",
    "\n",
    "        return cdf\n",
    "\n",
    "    def sample(self, number_of_samples: int) -> np.ndarray:\n",
    "        '''Samples values from the random variable.\n",
    "        Returns a numpy array with the generated samples.\n",
    "\n",
    "        Keyword arguments:\n",
    "        number_of_samples: int -- number of samples to generate\n",
    "\n",
    "        '''\n",
    "        samples = list()\n",
    "\n",
    "        ### Write your code here ###\n",
    "        # YOUR CODE HERE\n",
    "        samples = np.zeros(number_of_samples)\n",
    "        #generating 10000 random samples\n",
    "        numbers = np.random.random(number_of_samples)\n",
    "        sum_probability = 0\n",
    "        #iterating to our values and checking pmf\n",
    "        for i,value in enumerate(self.values):\n",
    "            #checking all generated random which is less than pmf[0] i.e. less than 0.4\n",
    "            #replacing all those numbers with our first value i.e. -2\n",
    "            if (i==0):\n",
    "                data = np.where(numbers<=self.pmf[i])\n",
    "                samples[data] = value\n",
    "                sum_probability += self.pmf[i]\n",
    "            #now we will sum up the probability and will check random number in range of sum_probability \n",
    "            # and pmf[i] i.e. probability of our next value\n",
    "            else:\n",
    "                data = np.where((numbers>sum_probability) & (numbers<(sum_probability+self.pmf[i])))\n",
    "                samples[data] = value\n",
    "                sum_probability += self.pmf[i]\n",
    "\n",
    "        return np.array(samples)\n",
    "\n",
    "X = DiscreteRandomVariable(np.array([-2, -1, 0, 1, 2]),\n",
    "                           np.array([0.4, 0.1, 0.2, 0.2, 0.1]))\n",
    "\n",
    "# expected value test case\n",
    "e_x = X.expectation()\n",
    "assert abs(e_x-(-0.5)) < 1e-5\n",
    "\n",
    "# variance test case\n",
    "var_x = X.variance()\n",
    "assert abs(var_x-2.05) < 1e-5\n",
    "\n",
    "# expected value of a function test case\n",
    "g = lambda x: x**2\n",
    "e_g_x = X.function_expectation(g)\n",
    "assert abs(e_g_x-2.3) < 1e-5\n",
    "\n",
    "# conditional expectation test case\n",
    "y_values = np.array([-2, 1, 4])\n",
    "conditional_pmfs = np.array([[0.3, 0., 0.3, 0.1, 0.3], \\\n",
    "                             [0.2, 0.1, 0., 0.6, 0.1], [0., 0.3, 0.5, 0.2, 0.]])\n",
    "observed_y = 4\n",
    "conditional_e_x = X.conditional_expectation(y_values, conditional_pmfs, observed_y)\n",
    "assert abs(conditional_e_x-(-0.1)) < 1e-5\n",
    "\n",
    "# CDF test case\n",
    "cdf = X.cdf()\n",
    "assert np.all(np.abs(cdf - np.array([0., 0.4, 0.5, 0.7, 0.9, 1.])) < 1e-5)\n",
    "\n",
    "# sampling test case\n",
    "samples = np.array(X.sample(10000))\n",
    "counts = np.zeros(5)\n",
    "counts[0] = len(np.where(samples==-2)[0])\n",
    "counts[1] = len(np.where(samples==-1)[0])\n",
    "counts[2] = len(np.where(samples==0)[0])\n",
    "counts[3] = len(np.where(samples==1)[0])\n",
    "counts[4] = len(np.where(samples==2)[0])\n",
    "assert counts[0] > 3750 and counts[0] < 4250\n",
    "assert counts[1] > 750 and counts[1] < 1250\n",
    "assert counts[2] > 1750 and counts[2] < 2250\n",
    "assert counts[3] > 1750 and counts[3] < 2250\n",
    "assert counts[4] > 750 and counts[4] < 1250"
   ]
  },
  {
   "cell_type": "markdown",
   "metadata": {},
   "source": [
    "### THE FOLLOWING CELLS CONTAIN AUTOMATED TESTS OF YOUR SOLUTION; DO NOT DELETE THEM!"
   ]
  },
  {
   "cell_type": "code",
   "execution_count": null,
   "metadata": {
    "deletable": false,
    "editable": false,
    "nbgrader": {
     "cell_type": "code",
     "checksum": "f7f9a888e99b45082f6a1db76e11222a",
     "grade": true,
     "grade_id": "test_random_variable_library_expectation",
     "locked": true,
     "points": 2,
     "schema_version": 3,
     "solution": false
    }
   },
   "outputs": [],
   "source": []
  },
  {
   "cell_type": "code",
   "execution_count": null,
   "metadata": {
    "deletable": false,
    "editable": false,
    "nbgrader": {
     "cell_type": "code",
     "checksum": "934ad8b5166339bab119f707bddd4144",
     "grade": true,
     "grade_id": "test_random_variable_library_variance",
     "locked": true,
     "points": 2,
     "schema_version": 3,
     "solution": false
    }
   },
   "outputs": [],
   "source": []
  },
  {
   "cell_type": "code",
   "execution_count": null,
   "metadata": {
    "deletable": false,
    "editable": false,
    "nbgrader": {
     "cell_type": "code",
     "checksum": "2b6413308c106b251e72fe27a8b1352e",
     "grade": true,
     "grade_id": "test_random_variable_library_function_expectation",
     "locked": true,
     "points": 3,
     "schema_version": 3,
     "solution": false
    }
   },
   "outputs": [],
   "source": []
  },
  {
   "cell_type": "code",
   "execution_count": null,
   "metadata": {
    "deletable": false,
    "editable": false,
    "nbgrader": {
     "cell_type": "code",
     "checksum": "cb6530bc24cbd479901509027481ca9b",
     "grade": true,
     "grade_id": "test_random_variable_library_function_conditional_pmf",
     "locked": true,
     "points": 5,
     "schema_version": 3,
     "solution": false
    }
   },
   "outputs": [],
   "source": []
  },
  {
   "cell_type": "code",
   "execution_count": null,
   "metadata": {
    "deletable": false,
    "editable": false,
    "nbgrader": {
     "cell_type": "code",
     "checksum": "07aaba22326bbdba8093ea79cd71f1f2",
     "grade": true,
     "grade_id": "test_random_variable_library_function_cdf",
     "locked": true,
     "points": 3,
     "schema_version": 3,
     "solution": false
    }
   },
   "outputs": [],
   "source": []
  },
  {
   "cell_type": "code",
   "execution_count": null,
   "metadata": {
    "deletable": false,
    "editable": false,
    "nbgrader": {
     "cell_type": "code",
     "checksum": "ff8eede1fd07c2a70198bdde82eea5b5",
     "grade": true,
     "grade_id": "test_random_variable_library_function_sampling",
     "locked": true,
     "points": 5,
     "schema_version": 3,
     "solution": false
    }
   },
   "outputs": [],
   "source": []
  },
  {
   "cell_type": "markdown",
   "metadata": {
    "deletable": false,
    "editable": false,
    "nbgrader": {
     "cell_type": "markdown",
     "checksum": "73bdbc801f0999be8141d9f22e186340",
     "grade": false,
     "grade_id": "cell-515c0dcb61371271",
     "locked": true,
     "schema_version": 3,
     "solution": false
    }
   },
   "source": [
    "## Exercise 4: Common Discrete Random Variables [30 points]\n",
    "\n",
    "In this exercise, you will investigate some properties of a few common discrete random variables (please look at the lab class material for an introduction to these).\n",
    "\n",
    "a) [5 points] Find the mean and variance of a Bernoulli random variable."
   ]
  },
  {
   "cell_type": "markdown",
   "metadata": {
    "deletable": false,
    "nbgrader": {
     "cell_type": "markdown",
     "checksum": "2d3c6b63a0029ae2970056799cb0cd56",
     "grade": true,
     "grade_id": "cell-7374678a9466b48f",
     "locked": false,
     "points": 5,
     "schema_version": 3,
     "solution": true
    }
   },
   "source": [
    "If a random variable X has the following distribution\n",
    "\n",
    "$ p(X==1) = p $ and $ p(X==0) = 1-p$ then X is called Bernoulli random variable\n",
    "\n",
    "mean of the Bernoulli random variable X can be given by $E(X)=\\sum_xxP(x)$, <br/>\n",
    "$ E(X) = 1* p + 0 * (1-p) $ <br/>\n",
    "$ E(X) = p$ \n",
    "\n",
    "Variance of X can be given as, <br/>\n",
    "$Variance(X) = E(X^{2}) - E(X)^{2}$<br/>\n",
    "$ E(X^{2}) = 1^{2} * p + 0^{2} * (1-p) = p $ <br/>\n",
    "$ E(X)^2 = p^2$ <br/>\n",
    "$ Variance(X) = p - p^{2} = p(1-p) $"
   ]
  },
  {
   "cell_type": "markdown",
   "metadata": {
    "deletable": false,
    "editable": false,
    "nbgrader": {
     "cell_type": "markdown",
     "checksum": "75049da5d3f0d72b6779c4e693bd0f84",
     "grade": false,
     "grade_id": "cell-cbfe8ca671b3189f",
     "locked": true,
     "schema_version": 3,
     "solution": false
    }
   },
   "source": [
    "b) [5 points] Find the mean of a geometric random variable."
   ]
  },
  {
   "cell_type": "markdown",
   "metadata": {
    "deletable": false,
    "nbgrader": {
     "cell_type": "markdown",
     "checksum": "b9e86d12ee2a26256c52c23164037a89",
     "grade": true,
     "grade_id": "cell-4a7403aac1edc6dc",
     "locked": false,
     "points": 5,
     "schema_version": 3,
     "solution": true
    }
   },
   "source": [
    "For a Geometric distribution $P(X=x) = (1 - p)^{x} * p$\n",
    "\n",
    "Mean is nothing but expectance of random variable X\n",
    "\n",
    "$ E(X) = \\Sigma^{\\infty}_{0} x * P(X=x)  = \\Sigma^{\\infty}_{0} x * (1 - p)^{x} * p = p(1-p) + 2 * p(1-p)^{2} + ..... $ \n",
    "\n",
    "let 1-p = q\n",
    "\n",
    "$ E(X) = pq + 2pq^{2}+ 3pq^{3}...... $\n",
    "\n",
    "$ qE(X) = pq^{2} + 2pq^{3}+ 3pq^{4}...... $\n",
    "\n",
    "$ E(X) - qE(X) = (pq + 2pq^{2}+ 3pq^{3}......) - (pq^{2} + 2pq^{3}+ 3pq^{4}......) $\n",
    "\n",
    "$ E(X) (1 - q)  = pq + pq^{2} + pq^{3}..... = p(q + q^{2} + q^{3} + .... )$\n",
    "\n",
    "$ E(X) (1 - q)  = \\frac{pq}{1-q} $\n",
    "\n",
    "we know that, p = 1 - q\n",
    "\n",
    "$ E(X)p = \\frac{pq}{1-q} $\n",
    "\n",
    "$ E(X) = \\frac{q}{1-q} = \\frac{1-p}{p} $\n",
    "\n",
    "Variance : \n",
    "\n",
    "$ E(X^{2}) = \\Sigma^{\\infty}_{0} x^{2} * P(X=x^{2})  = \\Sigma^{\\infty}_{0} x^{2} * (1 - p)^{x} * p = p(1-p) + 4 * p(1-p)^{4} + ..... $ \n",
    "\n",
    "$ E(X^{2}) = p(1-p) + 4 * p(1-p)^{4} + 9 * p (1-p)^{9} .....  = pq + 4pq^{4} + 9pq^{9} + ..... = \\frac{2 - 3p + p^{2}}{p^{2}}$\n",
    "\n",
    "variance = $ E(X^{2}) - [E(X)]^{2} = \\frac{2 - 3p + p^{2}}{p^{2}} - (\\frac{1-p}{p})^{2} = \\frac{1-p}{p^{2}}$\n",
    "\n",
    "\n"
   ]
  },
  {
   "cell_type": "markdown",
   "metadata": {
    "deletable": false,
    "editable": false,
    "nbgrader": {
     "cell_type": "markdown",
     "checksum": "78f5a80d916b5f0291bb09dc8cea9ff2",
     "grade": false,
     "grade_id": "cell-2d0bf93edae15dc0",
     "locked": true,
     "schema_version": 3,
     "solution": false
    }
   },
   "source": [
    "c) [10 points] Let's suppose that we have a robot throwing darts at a dartboard. A dartboard is divided into 20 regions for points from 1 to 20 (for the sake of this problem, we will ignore the bullseye and the regions for doubles and triples). Our robot is not very proficient at playing the game: we know that each throw will finish within the dartboard, but hitting any of the regions is equally likely.\n",
    "\n",
    "Calculate the expected number of throws for the robot to hit a 20."
   ]
  },
  {
   "cell_type": "markdown",
   "metadata": {
    "deletable": false,
    "nbgrader": {
     "cell_type": "markdown",
     "checksum": "e865eecab80c66e5cd1124e96ccbc807",
     "grade": true,
     "grade_id": "cell-84819c9625045cd9",
     "locked": false,
     "points": 10,
     "schema_version": 3,
     "solution": true
    }
   },
   "source": [
    "Probability of the throw hitting 20 $p=1/20$ \\\n",
    "Probability of the throw hitting 20 $1-p=19/20$ \\\n",
    "let $q =1-p$, \\\n",
    "Probability Function $P(X) = q^{x-1} \\cdot p$ \\\n",
    "Expected number, \\\n",
    "$ E(X) = \\Sigma^{\\infty}_{x=1} x * P(X)$\\\n",
    "$ E(X) = \\Sigma^{\\infty}_{x=1} x * q^{x-1} \\cdot p$\\\n",
    "$ E(X) = p \\cdot \\Sigma^{\\infty}_{x=1} x * q^{x-1}$\\\n",
    "$ E(X) = p \\cdot (1+2q+3q^2+ \\cdots)$\\\n",
    "$ E(X) = p \\frac{1}{(1-q)^2}$\\\n",
    "Substituting the values of $p$ and $q$,\\\n",
    "$ E(X) = 0.05 \\frac{1}{(1- 0.95)^2}$\\\n",
    "$ E(X) = 20$"
   ]
  },
  {
   "cell_type": "markdown",
   "metadata": {
    "deletable": false,
    "editable": false,
    "nbgrader": {
     "cell_type": "markdown",
     "checksum": "8ae7a54cd3e72fe53e77a74379829b69",
     "grade": false,
     "grade_id": "cell-8679a314b8c038df",
     "locked": true,
     "schema_version": 3,
     "solution": false
    }
   },
   "source": [
    "c) [10 points] In the analysis of randomised algorithms, we often talk about *indicator random variables*. For a certain event of interest $A$, an indicator random variable $I$ is one that takes the values $1$ and $0$ with probabilities $P(A)$ and $1 - P(A)$ respectively; indicator random variables are thus Bernoulli random variables. Indicator random variables can often simplify the calculation of what could otherwise be a relatively complicated problem.\n",
    "\n",
    "Let's suppose that we have a fleet of $n$ mobile robots and we command them all to move from the same starting location to the same destination. Each one of these robots is known to have motion problems, so it only reaches the goal with a probability $p = 0.8$. Find the expected number of robots that will reach the destination successfully. *Hint*: Model the problem using indicator random variables."
   ]
  },
  {
   "cell_type": "markdown",
   "metadata": {
    "deletable": false,
    "nbgrader": {
     "cell_type": "markdown",
     "checksum": "c317c70b90483a54db79de448a2d7a95",
     "grade": true,
     "grade_id": "cell-52e2189c210ffcab",
     "locked": false,
     "points": 10,
     "schema_version": 3,
     "solution": true
    }
   },
   "source": [
    "Let the event of robot reaching the destination successfully be 'A'\n",
    "\n",
    "For a single robot $ E(A) = 0.8 $\n",
    "\n",
    "Let N be the number of Robots reach the goal, \n",
    "\n",
    "Expectancy of n robot reaching the destination is written as \n",
    "\n",
    "$ E(A_{n}) = E[\\Sigma^{n}_{0}A_{i}] = \\Sigma^{n}_{0}E[A_{i}]$\n",
    "\n",
    "So $ E(A_{n}) =  \\Sigma^{n}_{0}0.8 $\n",
    "\n",
    "$ E(A_{n}) = 0.8 + 0.8 + 0.8 + ..... n-times = 0.8*n $\n",
    "\n",
    "$ E(A_{n}) = 0.8*n $"
   ]
  },
  {
   "cell_type": "markdown",
   "metadata": {
    "deletable": false,
    "editable": false,
    "nbgrader": {
     "cell_type": "markdown",
     "checksum": "447864dc5faca764fd1fb71d284e939b",
     "grade": false,
     "grade_id": "bayesian_hypothesis_testing",
     "locked": true,
     "schema_version": 3,
     "solution": false
    }
   },
   "source": [
    "## Exercise 5: Bayesian Hypothesis Testing [10 points]\n",
    "\n",
    "Consider a case in which Lucy is picking chocolates from one of two bowls, both of which have 30 chocolates each.\n",
    "\n",
    "The first bowl has the following distribution of chocolates:\n",
    "* 12 Bounty bars\n",
    "* 7 Mars bars\n",
    "* 6 Snickers bars\n",
    "* 5 KitKat bar\n",
    "\n",
    "The second bowl has the following distribution of chocolates:\n",
    "* 8 Bounty bars\n",
    "* 8 Mars Bars\n",
    "* 10 Snickers bar\n",
    "* 4 KitKat bars\n",
    "\n",
    "The robot now selects one of the bowls at random and then picks 10 chocolates from it, such that we want to know which of the bowls is more likely to have been selected. The following chocolates were picked from the bowl:\n",
    "\n",
    "    Bounty, Bounty, Mars, Bounty, Snickers, Snickers, Snickers, Mars, Snickers, Bounty\n",
    "\n",
    "Which bowl did the robot select - bowl 1 or bowl 2? Test both hypotheses and find out which one is more likely."
   ]
  },
  {
   "cell_type": "code",
   "execution_count": 4,
   "metadata": {
    "deletable": false,
    "nbgrader": {
     "cell_type": "code",
     "checksum": "48c934f09795f5a1050ebc16b65cace4",
     "grade": false,
     "grade_id": "a_bayesian_hypothesis_testing",
     "locked": false,
     "schema_version": 3,
     "solution": true
    }
   },
   "outputs": [
    {
     "name": "stdout",
     "output_type": "stream",
     "text": [
      "probability of the chocolates picked from the bowl 1 0.274745605920444\n",
      "probability of the chocolates picked from the bowl 2 0.725254394079556\n",
      "Bowl 2 is more likely to be selected by the robot\n"
     ]
    }
   ],
   "source": [
    "# YOUR CODE HERE\n",
    "# Distribution of chocolates\n",
    "bowl1= {\"Bounty\": 12, \"Mars\": 7,\"Snickers\": 6 , \"Kitkat\":5}\n",
    "bowl2= {\"Bounty\": 8 , \"Mars\": 8,\"Snickers\": 10, \"Kitkat\":4}\n",
    "#  Robot selection\n",
    "selected_chocolates = ['Bounty','Bounty','Mars','Bounty','Snickers',\n",
    "                       'Snickers','Snickers','Mars','Snickers','Bounty']\n",
    "# probability of picking both the bowls are equal\n",
    "P_bowl1 = 0.5\n",
    "P_bowl2 = 0.5\n",
    "for chocolate in selected_chocolates:\n",
    "    \n",
    "    quantity_bowl1 = bowl1[chocolate] # number of desired chocolate\n",
    "    total_chocolate_bowl1 = sum(bowl1.values()) # Total chocolates\n",
    "    # probability of desired chocolate intersection bowl1\n",
    "    P_chocolate_bowl1 = (quantity_bowl1/total_chocolate_bowl1) * P_bowl1 \n",
    "    bowl1[chocolate] -=1 # subtracting picked chocolate from the distribution\n",
    "    \n",
    "    quantity_bowl2 = bowl2[chocolate] # number of desired chocolate\n",
    "    total_chocolate_bowl2 = sum(bowl2.values()) # Total chocolates\n",
    "    # probability of desired chocolate intersection bowl2\n",
    "    P_chocolate_bowl2 = (quantity_bowl2/total_chocolate_bowl2) * P_bowl2 \n",
    "    bowl2[chocolate] -=1 # subtracting picked chocolate from the distribution\n",
    "    \n",
    "    # probability of chocolate picked from the bowl\n",
    "    P_bowl1 = P_chocolate_bowl1/ (P_chocolate_bowl1 + P_chocolate_bowl2)\n",
    "    P_bowl2 = P_chocolate_bowl2/ (P_chocolate_bowl1 + P_chocolate_bowl2)\n",
    "# please assign likelier_hypothesis to 1 or 2 depending on\n",
    "# which hypothesis you find to be more likely\n",
    "if P_bowl1 > P_bowl2 : \n",
    "    likelier_hypothesis = 1\n",
    "elif P_bowl2 > P_bowl1 :\n",
    "    likelier_hypothesis = 2\n",
    "print(\"probability of the chocolates picked from the bowl 1\", P_bowl1)\n",
    "print(\"probability of the chocolates picked from the bowl 2\", P_bowl2)\n",
    "print(\"Bowl\",likelier_hypothesis,\"is more likely to be selected by the robot\")"
   ]
  },
  {
   "cell_type": "code",
   "execution_count": null,
   "metadata": {
    "deletable": false,
    "editable": false,
    "nbgrader": {
     "cell_type": "code",
     "checksum": "b091b180df3bbcb2345882fc94e54e27",
     "grade": true,
     "grade_id": "test_a_bayesian_hypothesis_testing",
     "locked": true,
     "points": 10,
     "schema_version": 3,
     "solution": false
    }
   },
   "outputs": [],
   "source": [
    "### THIS CELL CONTAINS AUTOMATED TESTS OF YOUR SOLUTION; DO NOT DELETE IT!\n"
   ]
  }
 ],
 "metadata": {
  "kernelspec": {
   "display_name": "Python 3",
   "language": "python",
   "name": "python3"
  },
  "language_info": {
   "codemirror_mode": {
    "name": "ipython",
    "version": 3
   },
   "file_extension": ".py",
   "mimetype": "text/x-python",
   "name": "python",
   "nbconvert_exporter": "python",
   "pygments_lexer": "ipython3",
   "version": "3.7.6"
  },
  "nbTranslate": {
   "displayLangs": [
    "*"
   ],
   "hotkey": "alt-t",
   "langInMainMenu": true,
   "sourceLang": "en",
   "targetLang": "fr",
   "useGoogleTranslate": true
  }
 },
 "nbformat": 4,
 "nbformat_minor": 2
}
