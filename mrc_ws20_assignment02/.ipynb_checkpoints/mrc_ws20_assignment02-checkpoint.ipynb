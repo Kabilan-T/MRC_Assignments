{
 "cells": [
  {
   "cell_type": "markdown",
   "metadata": {
    "deletable": false,
    "editable": false,
    "nbgrader": {
     "cell_type": "markdown",
     "checksum": "90180e1558d7d810234ae4b517922a2c",
     "grade": false,
     "grade_id": "header",
     "locked": true,
     "schema_version": 3,
     "solution": false
    }
   },
   "source": [
    "# Hochschule Bonn-Rhein-Sieg\n",
    "\n",
    "# Mathematics for Robotics and Control\n",
    "\n",
    "# Assignment 2 - Vectors, Matrices, Eigenvalues and Eigenvectors"
   ]
  },
  {
   "cell_type": "markdown",
   "metadata": {
    "deletable": false,
    "editable": false,
    "nbgrader": {
     "cell_type": "markdown",
     "checksum": "3433400b4684f6ccb7eee01a8a3576c1",
     "grade": false,
     "grade_id": "cell-0ff7d90d51730c33",
     "locked": true,
     "points": 0,
     "schema_version": 3,
     "solution": false,
     "task": true
    }
   },
   "source": [
    "Please write your name in this cell (and the names of all team members if working in a group):\n",
    "\n",
    "* \n",
    "* \n",
    "*"
   ]
  },
  {
   "cell_type": "markdown",
   "metadata": {
    "deletable": false,
    "editable": false,
    "nbgrader": {
     "cell_type": "markdown",
     "checksum": "cd32add9ab52ce1df1dab8dfebd57f0c",
     "grade": false,
     "grade_id": "cell-58ff07f80f9784ec",
     "locked": true,
     "schema_version": 3,
     "solution": false
    }
   },
   "source": [
    "Before we start with this assignment, let's setup the notebook so that we have all the packages we need for solving the exercises."
   ]
  },
  {
   "cell_type": "code",
   "execution_count": 1,
   "metadata": {
    "deletable": false,
    "editable": false,
    "nbgrader": {
     "cell_type": "code",
     "checksum": "563265b806dc84383bdcd06b8b9d4c68",
     "grade": false,
     "grade_id": "imports",
     "locked": true,
     "schema_version": 3,
     "solution": false
    }
   },
   "outputs": [],
   "source": [
    "try:\n",
    "    shell = get_ipython()\n",
    "    shell.enable_pylab('inline')\n",
    "except NameError:\n",
    "    pass\n",
    "\n",
    "import numpy as np\n",
    "import numpy.linalg as linalg\n",
    "import matplotlib.pyplot as plt\n",
    "\n",
    "from IPython.display import display\n",
    "from IPython.core.pylabtools import figsize, getfigs\n",
    "import IPython"
   ]
  },
  {
   "cell_type": "markdown",
   "metadata": {
    "deletable": false,
    "editable": false,
    "nbgrader": {
     "cell_type": "markdown",
     "checksum": "c26d483a18cf696c3427209777e48f03",
     "grade": false,
     "grade_id": "cell-99c48ac06a2daacb",
     "locked": true,
     "schema_version": 3,
     "solution": false
    }
   },
   "source": [
    "**Hint**: Before you start solving the assignment, you might want to check out the following *numpy* functions:\n",
    "\n",
    "```\n",
    "linalg.eig\n",
    "linalg.eigh\n",
    "np.argmax\n",
    "np.argmin\n",
    "np.argsort\n",
    "np.cov\n",
    "np.mean\n",
    "np.where\n",
    "np.einsum\n",
    "np.loadtxt\n",
    "```"
   ]
  },
  {
   "cell_type": "markdown",
   "metadata": {
    "deletable": false,
    "editable": false,
    "nbgrader": {
     "cell_type": "markdown",
     "checksum": "cde316ae4bcf0cee62e804c399c43c6f",
     "grade": false,
     "grade_id": "cell-569f0eeab6883f2e",
     "locked": true,
     "schema_version": 3,
     "solution": false
    }
   },
   "source": [
    "## Placing a package [55 points]\n",
    "\n",
    "This exercise is concerned with matrices, particularly their eigenvalues and eigenvectors, such that our robot will have the task of bringing a package to a conference room and placing it on a flat surface (e.g. a table).\n",
    "\n",
    "As you know from the previous assignment, the robot has already picked up a package and is now on its way to the office depicted below."
   ]
  },
  {
   "cell_type": "code",
   "execution_count": null,
   "metadata": {
    "deletable": false,
    "editable": false,
    "nbgrader": {
     "cell_type": "code",
     "checksum": "0c7a1dbb4e69cbd1a51f87e285662b0e",
     "grade": false,
     "grade_id": "cell-6ef0bb79d19fc192",
     "locked": true,
     "schema_version": 3,
     "solution": false
    }
   },
   "outputs": [],
   "source": [
    "IPython.display.Image(\"images/isoview.png\", width=800, embed=True)"
   ]
  },
  {
   "cell_type": "markdown",
   "metadata": {
    "deletable": false,
    "editable": false,
    "nbgrader": {
     "cell_type": "markdown",
     "checksum": "f8cb4ad5fa748004a89885fc508fb6f2",
     "grade": false,
     "grade_id": "cell-0e307e0294a498d0",
     "locked": true,
     "schema_version": 3,
     "solution": false
    }
   },
   "source": [
    "The offices in the building are equipped with sensors that help the robot obtain the required data for carrying out its tasks. The office to which the robot is going now has an RGB-D sensor - a [Microsoft Kinect](https://en.wikipedia.org/wiki/Kinect) - mounted on the ceiling. RGB-D sensors can be used to obtain both a regular color image of a scene and what is called a depth image, in which each pixel encodes distances to the camera's sensor; these distances are typically given with respect to a reference frame whose origin is at the location of the camera's sensor.\n",
    "\n",
    "Both images obtained in the office are depicted below. Note that darker blue colors in the depth image represent pixels that are farther away from the sensor."
   ]
  },
  {
   "cell_type": "code",
   "execution_count": null,
   "metadata": {
    "deletable": false,
    "editable": false,
    "nbgrader": {
     "cell_type": "code",
     "checksum": "b70a870edb5789d877cf5bb0148a86d2",
     "grade": false,
     "grade_id": "cell-45b61e9b595aef4d",
     "locked": true,
     "schema_version": 3,
     "solution": false
    }
   },
   "outputs": [],
   "source": [
    "IPython.display.Image(\"images/rgb.png\", width=800, embed=True)"
   ]
  },
  {
   "cell_type": "code",
   "execution_count": null,
   "metadata": {
    "deletable": false,
    "editable": false,
    "nbgrader": {
     "cell_type": "code",
     "checksum": "997a7799e2791cec986f2f884912eeb6",
     "grade": false,
     "grade_id": "cell-32d79c4abf649c10",
     "locked": true,
     "schema_version": 3,
     "solution": false
    }
   },
   "outputs": [],
   "source": [
    "IPython.display.Image(\"images/depth.png\", width=800, embed=True)"
   ]
  },
  {
   "cell_type": "markdown",
   "metadata": {
    "deletable": false,
    "editable": false,
    "nbgrader": {
     "cell_type": "markdown",
     "checksum": "046e3ba34b1e0ca02dddd080a410a380",
     "grade": false,
     "grade_id": "cell-62869b0867cb3712",
     "locked": true,
     "schema_version": 3,
     "solution": false
    }
   },
   "source": [
    "Depth images can be converted to a different data format, called a [*point cloud*](http://en.wikipedia.org/wiki/Point_cloud). A point cloud is a collection of 3-component tuples in which each component represents the coordinate of a point along a given axis. A formal definition of a point cloud $P$ is given below:\n",
    "\n",
    "\\begin{equation*}\n",
    "    P = \\{ (x, y, z) \\lvert x,y,z \\in \\mathbb{R} \\}\n",
    "\\end{equation*}\n",
    "\n",
    "The picture below shows the aforementioned office scene as a point cloud obtained by the sensor mounted on the office's ceiling. Note that the unit of distance in the point cloud is **meters**."
   ]
  },
  {
   "cell_type": "code",
   "execution_count": null,
   "metadata": {
    "deletable": false,
    "editable": false,
    "nbgrader": {
     "cell_type": "code",
     "checksum": "17b235e5907dfc2377deca871ddda937",
     "grade": false,
     "grade_id": "cell-9b7a0f5f6a4d375c",
     "locked": true,
     "schema_version": 3,
     "solution": false
    }
   },
   "outputs": [],
   "source": [
    "IPython.display.Image(\"images/pointcloud.png\", width=800, embed=True)"
   ]
  },
  {
   "cell_type": "markdown",
   "metadata": {
    "deletable": false,
    "editable": false,
    "nbgrader": {
     "cell_type": "markdown",
     "checksum": "ad7505f7bf631fd245dd8b59fa9ede14",
     "grade": false,
     "grade_id": "cell-4eb3ff65395553e7",
     "locked": true,
     "schema_version": 3,
     "solution": false
    }
   },
   "source": [
    "If your browser supports WebGL and/or Adobe Flash, you can click [this link](http://www.pointclouds.org/assets/viewer/pcl_viewer.html?load=http://www.directlinkupload.com/uploads/194.95.66.1/cloud.pcd) for observing the point cloud in an interactive manner; otherwise, you can see the included *cloud.asc* or *cloud.ply* file in [MeshLab](http://meshlab.sourceforge.net/), or the included *cloud.pcd* file using *pcl_viewer*, which should be included in your ROS installation.\n",
    "\n",
    "Notice the object \"shadows\" in the image above. Given what you know about how the point cloud is generated, think about why these shadows exist and what are they really are.\n",
    "\n",
    "Now, back to our scenario. Our robot has already reached its destination and is now standing in front of the office door, after requesting sensor data from the central logistics unit and receiving the point cloud. **Your task is to identify possible drop points where the robot could place the package once inside the office**."
   ]
  },
  {
   "cell_type": "markdown",
   "metadata": {
    "deletable": false,
    "editable": false,
    "nbgrader": {
     "cell_type": "markdown",
     "checksum": "31977cc86426c2641325d013bd3d2ca8",
     "grade": false,
     "grade_id": "q_feasible_placement_points",
     "locked": true,
     "schema_version": 3,
     "solution": false
    }
   },
   "source": [
    "### Identifying feasible placement points [45 points]\n",
    "\n",
    "In order to find feasible drop points for the package, you need to evaluate each point with respect to whether dropping off a package there would make sense; for that purpose, we need to obtain a new point cloud in which each point is associated with a quality measure. A simple quality measure would be the orientation of the [normal vector](https://en.wikipedia.org/wiki/Normal_%28geometry%29) of the underlying surface: given a point, if the surface to which the point belongs is not parallel to the floor, it would probably be unwise to place a package there. Note that normal vectors can be used for detecting tables, shelves and other furniture items commonly used for storing items.\n",
    "\n",
    "Let us assume that our robot has knowledge of the world reference frame, i.e. it has an understanding of how the world is oriented; this is a reasonable assumption given a fixed robot construction and prior knowledge of the pose of the sensor used to obtain the point cloud data. In this case, we assume that the world frame is a subspace of $\\mathbb{R}^3$ and that the orthonormal basis of the coordinate space is\n",
    "\n",
    "\\begin{equation*}\n",
    "    B = \\left\\{ \\begin{pmatrix}1 & 0 & 0\\end{pmatrix}^T, \\begin{pmatrix}0 & 1 & 0\\end{pmatrix}^T, \\begin{pmatrix}0 & 0 & 1\\end{pmatrix}^T \\right\\}\n",
    "\\end{equation*}\n",
    "\n",
    "To calculate the normal vectors of the points in the point cloud, you will implement a method described in [Surface reconstruction from unorganized points](http://hhoppe.com/recon.pdf), a (rather old) publication by Hoppe et al. You don't have to study the complete paper for implementing this method, as all relevant information is contained in section **3.2 (Tangent Plane Estimation)** of it.\n",
    "\n",
    "As you will notice by reading this section, we need to find point neighbourhoods (referred to as *Nbhd(x)* in the paper) for calculating the normal vectors. In order to obtain such neighborhoods, we will use [*scipy.spatial.cKDTree*](http://docs.scipy.org/doc/scipy/reference/generated/scipy.spatial.cKDTree.html), which is a spatial partitioning structure, and its method *query_ball_point*; we will use a radius of **$4cm$** and the [**L2 norm**](https://en.wikipedia.org/wiki/P-norm#The_p-norm_in_finite_dimensions) as a distance measure when calling this method.\n",
    "\n",
    "Note: For the purposes of this assignment, you don't necessarily have to understand how a k-d tree works; the only thing you should know about it is that it is a structure that can be used for speeding up spatial neighborhood queries. If you are curious, however, there are many resources on k-d trees available on the web, such as [this collection of k-d tree visualisations](https://www.cs.cmu.edu/~awm/animations/kdtree/).\n",
    "\n",
    "After obtaining a normal vector of each point's neighborhood, you need to calculate the angle between this normal vector and the $Z$-axis. The reasoning behind this is that a surface has to be parallel to the floor for it to be level; given that every surface parallel to the floor will have a normal vector pointing in the same direction as the $Z$-axis, the angle between the normal vector of the surface and the $Z$-axis is a measure of how level the surface is and shows whether a point is suitable for releasing a package. While performing this step, you need to be careful about points that yield no usable neighborhoods, e.g. points that are too far away from the other points; such points should not be processed. You can pass any value for the resulting angles of these points (except for values that are close to zero, as we will then mistakenly consider the points as being part of a level surface), but do **not** omit them from the final result.\n",
    "\n",
    "Please implement the desired functionality by filling in the missing code in the cell below."
   ]
  },
  {
   "cell_type": "code",
   "execution_count": null,
   "metadata": {
    "deletable": false,
    "nbgrader": {
     "cell_type": "code",
     "checksum": "807a5ff884dde4031342c5d45cc4a2e7",
     "grade": true,
     "grade_id": "answer_feasible_placement_points",
     "locked": false,
     "points": 45,
     "schema_version": 3,
     "solution": true
    }
   },
   "outputs": [],
   "source": [
    "'''Please write your name in this cell (and the names of all team members if working in a group:\n",
    "-> Kabilan Tamilmani (ktamil2s)\n",
    "-> Sahanesh Prakash (spraka2s)\n",
    "-> Suraj Limbu (slimbu2s)\n",
    "'''\n",
    "\n",
    "import scipy.spatial\n",
    "\n",
    "def get_angle (a :np.array,b:np.array) -> float:\n",
    "    #Angle Between Two Vector\n",
    "    theta = np.arccos(np.dot((a/np.linalg.norm(a)), \n",
    "                             (b/np.linalg.norm(b))))\n",
    "    angle = min(abs(theta),abs(np.pi-theta))\n",
    "    return angle\n",
    "    \n",
    "def rate_placements(point_cloud: np.array) -> np.array:\n",
    "    angles = list()\n",
    "\n",
    "    # YOUR CODE HERE\n",
    "    \n",
    "    #Base\n",
    "    B = np.array([[1, 0, 0],[0, 1, 0],[0, 0, 1]])\n",
    "    #z-axis\n",
    "    z_vector = B.T[2]\n",
    "    \n",
    "    #Initializing cKDTree class \n",
    "    MySpace = scipy.spatial.cKDTree(data=point_cloud)\n",
    "    \n",
    "    for data in point_cloud :\n",
    "        #Finding Neighborhood points\n",
    "        idx = MySpace.query_ball_point(x=data,r= (4/100),p =2.0)\n",
    "        Nbhd= np.array([point_cloud[i] for i in idx])\n",
    "        \n",
    "        if(len(Nbhd)>1):\n",
    "            #covariance_matrix of Neighborhood points\n",
    "            covariance_matrix = np.cov(Nbhd.T)\n",
    "            \n",
    "            # eigenvalues, eigenvectors of covariance_matrix\n",
    "            eigenvalues, eigenvectors = np.linalg.eigh(covariance_matrix)\n",
    "\n",
    "            #Sorting based on eigen values high to low\n",
    "            #Source:https://stackoverflow.com/questions/8092920\n",
    "            idx = np.argsort(eigenvalues)[::-1]\n",
    "            eigenvalues = eigenvalues[idx]\n",
    "            eigenvectors = eigenvectors[:,idx]\n",
    "            \n",
    "            #Normal and angle between Normal and Z-axis\n",
    "            n_vector = eigenvectors[2]\n",
    "            angle = get_angle(n_vector,z_vector)\n",
    "                \n",
    "        else :\n",
    "            #This points are far away from other points\n",
    "            angle = np.deg2rad(45)\n",
    "        \n",
    "        #appendind angle to the angles list\n",
    "        angles.append(angle)\n",
    "    #raise NotImplementedError()\n",
    "    return angles\n",
    "\n",
    "#point_cloud = ### load cloud.asc here\n",
    "point_cloud = np.loadtxt(\"data/cloud.asc\")\n",
    "angles = rate_placements(point_cloud)"
   ]
  },
  {
   "cell_type": "markdown",
   "metadata": {
    "deletable": false,
    "editable": false,
    "nbgrader": {
     "cell_type": "markdown",
     "checksum": "d2c58e86e23757e6b0ccb7f549fb2831",
     "grade": false,
     "grade_id": "cell-6128b66abd9586f9",
     "locked": true,
     "schema_version": 3,
     "solution": false
    }
   },
   "source": [
    "### Visualising placement points [10 points]\n",
    "\n",
    "After obtaining the normal vectors of the points in the point cloud, your task is to assign a color to each point by mapping the angles to a linearly segmented color space ranging from green to red, where green means *perfectly parallel to the ground*. You can use the [matplotlib.cm](http://matplotlib.org/api/cm_api.html) module for this task (see [Matplotlib Cookbook: Show Colormaps Example](http://wiki.scipy.org/Cookbook/Matplotlib/Show_colormaps) for an example of using this module). Generally speaking, this step boils down to picking (or creating) a suitable colormap and applying the colormap to your angle values. Remember to convert the colors to a range of $[0, 255]$ before continuing with the next step.\n",
    "\n",
    "The following cell shows a simple example on how to create and apply colormaps."
   ]
  },
  {
   "cell_type": "code",
   "execution_count": null,
   "metadata": {
    "deletable": false,
    "editable": false,
    "nbgrader": {
     "cell_type": "code",
     "checksum": "52ec2187b361b71e7a1ec95aa18645ff",
     "grade": false,
     "grade_id": "cell-eae97a33a3bc6db7",
     "locked": true,
     "schema_version": 3,
     "solution": false
    }
   },
   "outputs": [],
   "source": [
    "# colormap example\n",
    "f = plt.figure(figsize=(15, 5))\n",
    "x = np.linspace(0, 4*np.pi, 500)\n",
    "y = np.abs(np.sin(x))\n",
    "\n",
    "plt.subplot(1,2,1)\n",
    "colors = plt.cm.jet(y)\n",
    "plt.scatter(x, y, c=colors)\n",
    "\n",
    "plt.subplot(1,2,2)\n",
    "colors = plt.cm.Accent(y)\n",
    "plt.scatter(x, y, c=colors)"
   ]
  },
  {
   "cell_type": "markdown",
   "metadata": {
    "deletable": false,
    "editable": false,
    "nbgrader": {
     "cell_type": "markdown",
     "checksum": "6c5b82d739d908541f064f176ffc5e07",
     "grade": false,
     "grade_id": "q_colour_space_conversion",
     "locked": true,
     "schema_version": 3,
     "solution": false
    }
   },
   "source": [
    "Please implement the functionality for mapping the angles to a suitable color space in the cell below."
   ]
  },
  {
   "cell_type": "code",
   "execution_count": null,
   "metadata": {
    "deletable": false,
    "nbgrader": {
     "cell_type": "code",
     "checksum": "601bf40044f44cf955e535108b5c7850",
     "grade": true,
     "grade_id": "answer_colour_space_conversion",
     "locked": false,
     "points": 5,
     "schema_version": 3,
     "solution": true
    }
   },
   "outputs": [],
   "source": [
    "# YOUR CODE HERE\n",
    "#Color Map\n",
    "cmap = matplotlib.colors.LinearSegmentedColormap.from_list(\"MyColor\",[\"green\",\"red\"])\n",
    "RGBA = cmap(angles)\n",
    "\n",
    "#color vector RGB (0 t0 255)\n",
    "RGB = RGBA[:,:-1]*255\n",
    "#raise NotImplementedError()"
   ]
  },
  {
   "cell_type": "markdown",
   "metadata": {
    "deletable": false,
    "editable": false,
    "nbgrader": {
     "cell_type": "markdown",
     "checksum": "a71da0882aaf9f03eebd19cda9ada06d",
     "grade": false,
     "grade_id": "q_visualising_placement_points",
     "locked": true,
     "schema_version": 3,
     "solution": false
    }
   },
   "source": [
    "After you have obtained color values for each point, create a new $N \\times M$ matrix, where $N$ is the number of points, while $M == 6$ corresponds to the $X, Y$ and $Z$ coordinates of each point and its $RGB$ color values (a tuple in the range $[0, 255]$). This matrix will then be passed to the function `save_as_ply`, which generates a file in the [Stanford Triangle Format](https://en.wikipedia.org/wiki/PLY_%28file_format%29). This function is implemented in the `utils.py` script that you have in your assignment directory."
   ]
  },
  {
   "cell_type": "code",
   "execution_count": null,
   "metadata": {
    "deletable": false,
    "nbgrader": {
     "cell_type": "code",
     "checksum": "9692ec55291792508f5a0b5efb09b4be",
     "grade": true,
     "grade_id": "answer_visualising_placement_points",
     "locked": false,
     "points": 5,
     "schema_version": 3,
     "solution": true
    }
   },
   "outputs": [],
   "source": [
    "from utils import save_as_ply\n",
    "\n",
    "### write your code here ###\n",
    "point_cloud_rgb = np.hstack((point_cloud,RGB))\n",
    "# YOUR CODE HERE\n",
    "#raise NotImplementedError()\n",
    "### your code ends here ###\n",
    "\n",
    "save_as_ply('result.ply', point_cloud_rgb)"
   ]
  },
  {
   "cell_type": "markdown",
   "metadata": {
    "deletable": false,
    "editable": false,
    "nbgrader": {
     "cell_type": "markdown",
     "checksum": "31b95b11ac2a9e6ec5954d2b90508d53",
     "grade": false,
     "grade_id": "cell-c3c5e4cdcefc79c2",
     "locked": true,
     "schema_version": 3,
     "solution": false
    }
   },
   "source": [
    "You can visualize your generated point cloud file using Meshlab or by using the command line utility **pcl_ply2pcd** and opening the resulting file in **pcl_viewer**. Both utilities come with an installation of PCL and should be included in your ROS installation.\n",
    "<br /><br />\n",
    "\n",
    "In any case, please generate an image of your solution, name the file `result.png`, place the file inside the `images` directory, and run the cell below to display the result."
   ]
  },
  {
   "cell_type": "code",
   "execution_count": null,
   "metadata": {
    "deletable": false,
    "editable": false,
    "nbgrader": {
     "cell_type": "code",
     "checksum": "9b375fee964d5a804d87ca29ec6feeea",
     "grade": false,
     "grade_id": "cell-95bc88a3c5cd6360",
     "locked": true,
     "schema_version": 3,
     "solution": false
    }
   },
   "outputs": [],
   "source": [
    "IPython.display.Image('images/result.png', width=800, embed=True)"
   ]
  },
  {
   "cell_type": "markdown",
   "metadata": {
    "deletable": false,
    "editable": false,
    "nbgrader": {
     "cell_type": "markdown",
     "checksum": "fa1a2321cc12aa67d3d4c025c323dbd4",
     "grade": false,
     "grade_id": "cell-9d65babf16e3f24a",
     "locked": true,
     "schema_version": 3,
     "solution": false
    }
   },
   "source": [
    "Your solution should look similar to the one shown in the image below."
   ]
  },
  {
   "cell_type": "code",
   "execution_count": null,
   "metadata": {
    "deletable": false,
    "editable": false,
    "nbgrader": {
     "cell_type": "code",
     "checksum": "557c3ca1f58f01261440a8d4ec7eff73",
     "grade": false,
     "grade_id": "cell-ca42b846cbc83dbf",
     "locked": true,
     "schema_version": 3,
     "solution": false
    }
   },
   "outputs": [],
   "source": [
    "IPython.display.Image('images/sample_result.png', width=800, embed=True)"
   ]
  },
  {
   "cell_type": "markdown",
   "metadata": {
    "deletable": false,
    "editable": false,
    "nbgrader": {
     "cell_type": "markdown",
     "checksum": "a1532f2f8e02cedb08b84f0fc626b0b1",
     "grade": false,
     "grade_id": "cell-b52e5be18eeab8b8",
     "locked": true,
     "schema_version": 3,
     "solution": false
    }
   },
   "source": [
    "## Disaster Site Observation [15 points]"
   ]
  },
  {
   "cell_type": "markdown",
   "metadata": {
    "deletable": false,
    "editable": false,
    "nbgrader": {
     "cell_type": "markdown",
     "checksum": "3e64cfc318ec59e634acd0c51efa2760",
     "grade": false,
     "grade_id": "cell-802afe6acb1bec62",
     "locked": true,
     "schema_version": 3,
     "solution": false,
     "task": false
    }
   },
   "source": [
    "You have been tasked to aerially survey a drop site (white square platform) of a disaster struck town. An autonomous drone is sent to retrive images of the drop site. The drone takes multiple images of the area, such that an edge detection module is used to obtain the corners of the platform. At any time, three corners of the platform are clearly visible; the module records the positions of the corner pixels in the image as 2D vectors w.r.t the left bottom corner of the image.\n",
    "\n",
    "The images are stored along with the data of the platform. The data is provided in the file `site_position.txt`, where each row gives the 2D vectors of the three drop site corners in a single image in the following order (see figure below):\n",
    "\n",
    "```\n",
    "brown_colored_corner, blue_colored_corner, red_colored_corner\n",
    "```\n",
    "\n",
    "Here, each colored corner has the `x` and `y` coordinates respectively, so there are six values in each row.\n",
    "\n",
    "Your task is to filter out the images which have a bad perspective of the drop site. The end objective is to return the indices of the top 24 images with the best perspective of the drop site.\n",
    "\n",
    "_Note_ : The indices begin from `0`."
   ]
  },
  {
   "cell_type": "code",
   "execution_count": null,
   "metadata": {
    "deletable": false,
    "editable": false,
    "nbgrader": {
     "cell_type": "code",
     "checksum": "1d0010aaa58cd89a43cbd36003651c00",
     "grade": false,
     "grade_id": "cell-8b5714382cc02ada",
     "locked": true,
     "schema_version": 3,
     "solution": false,
     "task": false
    }
   },
   "outputs": [],
   "source": [
    "IPython.display.Image('images/site_perspective.png', width=800, embed=True)"
   ]
  },
  {
   "cell_type": "markdown",
   "metadata": {
    "deletable": false,
    "editable": false,
    "nbgrader": {
     "cell_type": "markdown",
     "checksum": "f52797f536d8d0b6208eb85955120005",
     "grade": false,
     "grade_id": "cell-d961021457650c90",
     "locked": true,
     "schema_version": 3,
     "solution": false,
     "task": false
    }
   },
   "source": [
    "Understand how the condition number changes for different matrices and then apply it in order to obtain the 24 images with the best perspective of the drop site."
   ]
  },
  {
   "cell_type": "code",
   "execution_count": 7,
   "metadata": {
    "deletable": false,
    "nbgrader": {
     "cell_type": "code",
     "checksum": "fb039312d8685c95772cec2ce9c96ea6",
     "grade": false,
     "grade_id": "answer_condition",
     "locked": false,
     "schema_version": 3,
     "solution": true,
     "task": false
    }
   },
   "outputs": [
    {
     "name": "stdout",
     "output_type": "stream",
     "text": [
      "[56 36  9 67 64 12 88 34 19 69 55 42 53 21 80 20 54 51 37 78 60 84 68 70]\n"
     ]
    }
   ],
   "source": [
    "# YOUR CODE HERE\n",
    "site_position = np.loadtxt('site_position.txt')\n",
    "brown_colored_corner, blue_colored_corner, red_colored_corner = np.hsplit(site_position,3)\n",
    "\n",
    "def lineFromPoints(A,B):\n",
    "    #function to find the line equation\n",
    "    x = B[0] - A[0]\n",
    "    y = B[1] - A[1]\n",
    "    return [x,y]\n",
    "\n",
    "#Evaluating ConditionNumber\n",
    "ConditionNumber = []\n",
    "for i in range(0,len(site_position)):\n",
    "    v_1 = lineFromPoints(brown_colored_corner[i],blue_colored_corner[i])\n",
    "    v_2 = lineFromPoints(blue_colored_corner[i],red_colored_corner[i])\n",
    "    A = np.vstack((v_1,v_2))\n",
    "    ConditionNumber.append(np.linalg.cond(A))\n",
    "\n",
    "#sorting\n",
    "best_indices = np.argsort(ConditionNumber)[:24]\n",
    "print(best_indices)"
   ]
  },
  {
   "cell_type": "code",
   "execution_count": null,
   "metadata": {
    "deletable": false,
    "editable": false,
    "nbgrader": {
     "cell_type": "code",
     "checksum": "6a33b990df75c6e0467c045c0b19f06a",
     "grade": true,
     "grade_id": "test_answer_condition",
     "locked": true,
     "points": 15,
     "schema_version": 3,
     "solution": false,
     "task": false
    }
   },
   "outputs": [],
   "source": [
    "### THIS CELL CONTAINS AUTOMATED TESTS OF YOUR SOLUTION; DO NOT DELETE IT!\n"
   ]
  },
  {
   "cell_type": "markdown",
   "metadata": {
    "deletable": false,
    "editable": false,
    "nbgrader": {
     "cell_type": "markdown",
     "checksum": "646c51bf4ce6c5d0166333e13b247836",
     "grade": false,
     "grade_id": "cell-1adf1e91758fe644",
     "locked": true,
     "schema_version": 3,
     "solution": false,
     "task": false
    }
   },
   "source": [
    "## Corona Time [10 points]"
   ]
  },
  {
   "cell_type": "markdown",
   "metadata": {
    "deletable": false,
    "editable": false,
    "nbgrader": {
     "cell_type": "markdown",
     "checksum": "4c2aef0781b44180c45c05a78e6f8b11",
     "grade": false,
     "grade_id": "cell-134a5279ff8b84e7",
     "locked": true,
     "schema_version": 3,
     "solution": false,
     "task": false
    }
   },
   "source": [
    "You are the mayor of Roboville and covid-19 has struck your town. You have deployed various robots to combat this pandemic. Initially, 80% of the robots are healthy, while the rest are temporarily broken.\n",
    "\n",
    "Based on past information of the robots, we have the following statistics:\n",
    "* after each week, 5% of the healthy robots break down\n",
    "* 80% of the broken robots are repairable, while the rest are non-repairable\n",
    "* 85% of the repaired robots get completely fixed (i.e. they become healthy), while the rest break down again\n",
    "\n",
    "Since you have to arrange the service centers for the broken robots, you would like to develop a forecast model that uses the above information for obtaining the percentage of broken robots in the future."
   ]
  },
  {
   "cell_type": "markdown",
   "metadata": {},
   "source": [
    "[5 points] What is the percentage of broken robots after 5 weeks?"
   ]
  },
  {
   "cell_type": "code",
   "execution_count": 2,
   "metadata": {
    "deletable": false,
    "nbgrader": {
     "cell_type": "code",
     "checksum": "e69b6c81c3beaa4f320dc38eef239224",
     "grade": false,
     "grade_id": "answer_corona_1",
     "locked": false,
     "schema_version": 3,
     "solution": true,
     "task": false
    }
   },
   "outputs": [
    {
     "name": "stdout",
     "output_type": "stream",
     "text": [
      "[4.784125]\n"
     ]
    }
   ],
   "source": [
    "# YOUR CODE HERE\n",
    "\n",
    "#Healthy-A, Broken-B, Repairable-C, Non-Repairable-D\n",
    "AA = 0.95\n",
    "AB = 0.05\n",
    "AC = 0\n",
    "AD = 0\n",
    "BA = 0\n",
    "BB = 0\n",
    "BC = 0.8\n",
    "BD = 0.2\n",
    "CA = 0.85\n",
    "CB = 0.15\n",
    "CC = 0\n",
    "CD = 0\n",
    "DA = 0\n",
    "DB = 0\n",
    "DC = 0\n",
    "DD = 1\n",
    "#T = np.array([[AA, BA, CA, DA],[AB, BB, CB, DB],[AC, BC, CC, DC], [AD, BD, CD, DD]])\n",
    "T = np.array([[.95, 0, .85, 0 ], [.05,.0,.15, 0], [0,.80, 0, 0],[0,.20,0, 1]])\n",
    "x0 = np.array([0.8, 0.2,0, 0])[np.newaxis].T #Initial State\n",
    "x = x0\n",
    "for i in range(5):\n",
    "    x = T.dot(x)\n",
    "#raise NotImplementedError()\n",
    "broken_5 = x[1] * 100\n",
    "print(broken_5)"
   ]
  },
  {
   "cell_type": "code",
   "execution_count": 3,
   "metadata": {
    "deletable": false,
    "editable": false,
    "nbgrader": {
     "cell_type": "code",
     "checksum": "f1fa544eaca12b84e66941db70f732a4",
     "grade": true,
     "grade_id": "test_answer_corona_1",
     "locked": true,
     "points": 5,
     "schema_version": 3,
     "solution": false,
     "task": false
    }
   },
   "outputs": [],
   "source": [
    "### THIS CELL CONTAINS AUTOMATED TESTS OF YOUR SOLUTION; DO NOT DELETE IT!\n"
   ]
  },
  {
   "cell_type": "markdown",
   "metadata": {
    "deletable": false,
    "editable": false,
    "nbgrader": {
     "cell_type": "markdown",
     "checksum": "e587ec67c0520377b22b36762a4fee5f",
     "grade": false,
     "grade_id": "cell-b78770296ea8b346",
     "locked": true,
     "schema_version": 3,
     "solution": false,
     "task": false
    }
   },
   "source": [
    "[2 points] Now, assume that this scenario continues for a very long time (potentially forever). What is the long term  percentage of healthy robots, broken robots, repairable robots and non-repairable robots?"
   ]
  },
  {
   "cell_type": "code",
   "execution_count": 4,
   "metadata": {
    "deletable": false,
    "nbgrader": {
     "cell_type": "code",
     "checksum": "9f27ab0fa569ecb2d8ecd9a044fd970e",
     "grade": false,
     "grade_id": "answer_corona_2",
     "locked": false,
     "schema_version": 3,
     "solution": true,
     "task": false
    }
   },
   "outputs": [
    {
     "name": "stdout",
     "output_type": "stream",
     "text": [
      "Healthy 0.0\n",
      "Broken 0.0\n",
      "Repairable 0.0\n",
      "Non-repairable 100.0\n"
     ]
    }
   ],
   "source": [
    "# YOUR CODE HERE\n",
    "#function to calculate the eigen values and eigen vectors\n",
    "def get_chain_eigenvalues_and_eigenvectors(T: np.array) -> tuple:\n",
    "    eigenvalues, eigenvectors = np.linalg.eig(T)\n",
    "    return (eigenvalues, eigenvectors)\n",
    "#function to calculate the fixed point\n",
    "def extract_fixed_point(eigenvalues: np.array, eigenvectors: np.array) -> np.array:\n",
    "    fixed_point = eigenvectors[:,np.where(np.abs(eigenvalues - 1.) < 1e-5)[0][0]]\n",
    "    return fixed_point\n",
    "#function to convert fixed point to probabilty\n",
    "def convert_to_probability_vector(vector: np.array) -> np.array:\n",
    "    #print(np.sum(vector))\n",
    "    p = vector / np.sum(vector)\n",
    "    return p\n",
    "eigenvalues, eigenvectors = get_chain_eigenvalues_and_eigenvectors(T)\n",
    "fixed_point = extract_fixed_point(eigenvalues, eigenvectors)\n",
    "fixed_point = convert_to_probability_vector(fixed_point)\n",
    "healthy = fixed_point[0] * 100\n",
    "broken = fixed_point[1] * 100\n",
    "repairable = fixed_point[2] * 100\n",
    "non_repairable = fixed_point[3] * 100\n",
    "print(\"Healthy\",healthy)\n",
    "print(\"Broken\",broken)\n",
    "print(\"Repairable\",repairable)\n",
    "print(\"Non-repairable\", non_repairable)"
   ]
  },
  {
   "cell_type": "code",
   "execution_count": 5,
   "metadata": {
    "deletable": false,
    "editable": false,
    "nbgrader": {
     "cell_type": "code",
     "checksum": "cd2e4e90704e8aff5442ef78181e6a45",
     "grade": true,
     "grade_id": "test_answer_corona_2",
     "locked": true,
     "points": 2,
     "schema_version": 3,
     "solution": false,
     "task": false
    }
   },
   "outputs": [],
   "source": [
    "### THIS CELL CONTAINS AUTOMATED TESTS OF YOUR SOLUTION; DO NOT DELETE IT!\n"
   ]
  },
  {
   "cell_type": "markdown",
   "metadata": {
    "deletable": false,
    "editable": false,
    "nbgrader": {
     "cell_type": "markdown",
     "checksum": "70cda14703d94f4ddfc7834f00ae4531",
     "grade": false,
     "grade_id": "cell-cc2a7d981d358d95",
     "locked": true,
     "schema_version": 3,
     "solution": false,
     "task": false
    }
   },
   "source": [
    "[3 points] Due to the above rather unfavourable prediction, you have recruited specialists who have completed the MAS course. Now, after each week, 20% of non-repairable robot can in fact be fixed. What would the long term state of the robots be now?"
   ]
  },
  {
   "cell_type": "code",
   "execution_count": 6,
   "metadata": {
    "deletable": false,
    "nbgrader": {
     "cell_type": "code",
     "checksum": "bfb1c590c183a7c8341b2b65965e7f0b",
     "grade": false,
     "grade_id": "answer_corona_3",
     "locked": false,
     "schema_version": 3,
     "solution": true,
     "task": false
    }
   },
   "outputs": [
    {
     "name": "stdout",
     "output_type": "stream",
     "text": [
      "Healthy 86.27450980392162\n",
      "Broken 4.901960784313704\n",
      "Repairable 3.921568627450965\n",
      "Non-repairable 4.901960784313724\n"
     ]
    }
   ],
   "source": [
    "# YOUR CODE HERE\n",
    "\n",
    "DA = 0.2\n",
    "DD = 0.8\n",
    "A = np.array([[.95, 0, .85, .20], [.05,.0,.15, 0.], [0,.80, 0., 0.],[0,.20,0,.80]])\n",
    "eigenvalues, eigenvectors = get_chain_eigenvalues_and_eigenvectors(A)\n",
    "fixed_point = extract_fixed_point(eigenvalues, eigenvectors)\n",
    "fixed_point = convert_to_probability_vector(fixed_point)\n",
    "healthy = fixed_point[0] * 100\n",
    "broken = fixed_point[1] * 100\n",
    "repairable = fixed_point[2] * 100\n",
    "non_repairable = fixed_point[3] * 100\n",
    "print(\"Healthy\",healthy)\n",
    "print(\"Broken\",broken)\n",
    "print(\"Repairable\",repairable)\n",
    "print(\"Non-repairable\", non_repairable)"
   ]
  },
  {
   "cell_type": "code",
   "execution_count": null,
   "metadata": {
    "deletable": false,
    "editable": false,
    "nbgrader": {
     "cell_type": "code",
     "checksum": "f1b7471fba9242a7b273e522f9fc050e",
     "grade": true,
     "grade_id": "test_answer_corona_3",
     "locked": true,
     "points": 3,
     "schema_version": 3,
     "solution": false,
     "task": false
    }
   },
   "outputs": [],
   "source": [
    "### THIS CELL CONTAINS AUTOMATED TESTS OF YOUR SOLUTION; DO NOT DELETE IT!\n"
   ]
  }
 ],
 "metadata": {
  "anaconda-cloud": {},
  "kernelspec": {
   "display_name": "Python 3",
   "language": "python",
   "name": "python3"
  },
  "language_info": {
   "codemirror_mode": {
    "name": "ipython",
    "version": 3
   },
   "file_extension": ".py",
   "mimetype": "text/x-python",
   "name": "python",
   "nbconvert_exporter": "python",
   "pygments_lexer": "ipython3",
   "version": "3.7.6"
  },
  "nbTranslate": {
   "displayLangs": [
    "*"
   ],
   "hotkey": "alt-t",
   "langInMainMenu": true,
   "sourceLang": "en",
   "targetLang": "fr",
   "useGoogleTranslate": true
  }
 },
 "nbformat": 4,
 "nbformat_minor": 1
}
