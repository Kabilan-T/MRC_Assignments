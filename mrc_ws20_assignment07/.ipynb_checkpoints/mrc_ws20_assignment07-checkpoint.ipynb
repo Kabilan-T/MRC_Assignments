{
 "cells": [
  {
   "cell_type": "markdown",
   "metadata": {
    "deletable": false,
    "editable": false,
    "nbgrader": {
     "cell_type": "markdown",
     "checksum": "13e9371b3d1064ce3bfdabb8b7d953b2",
     "grade": false,
     "grade_id": "header",
     "locked": true,
     "schema_version": 3,
     "solution": false
    }
   },
   "source": [
    "# Hochschule Bonn-Rhein-Sieg\n",
    "\n",
    "# Mathematics for Robotics and Control\n",
    "\n",
    "# Assignment 7: Ordinary Differential Equations 2"
   ]
  },
  {
   "cell_type": "markdown",
   "metadata": {
    "deletable": false,
    "nbgrader": {
     "cell_type": "markdown",
     "checksum": "da94029bd474ca50aa9c72fb369ce7f0",
     "grade": true,
     "grade_id": "cell-ec07ad1a2d9e19d0",
     "locked": false,
     "points": 0,
     "schema_version": 3,
     "solution": true,
     "task": false
    }
   },
   "source": [
    "Author(s)/team members:\n",
    "\n",
    "* Kabilan Tamilmani  (ktamil2s)\n",
    "* Karthik Sundararaj (ksunda2s)"
   ]
  },
  {
   "cell_type": "code",
   "execution_count": 1,
   "metadata": {
    "deletable": false,
    "editable": false,
    "nbgrader": {
     "cell_type": "code",
     "checksum": "fccfe6628fe3e521018c5ef34df9e60a",
     "grade": false,
     "grade_id": "imports",
     "locked": true,
     "schema_version": 3,
     "solution": false
    }
   },
   "outputs": [],
   "source": [
    "import numpy as np\n",
    "import sympy as sp\n",
    "import matplotlib.pyplot as plt\n",
    "from IPython.core.pylabtools import figsize, getfigs\n",
    "import IPython\n",
    "import typing\n",
    "\n",
    "sp.init_printing(use_latex=True)"
   ]
  },
  {
   "cell_type": "markdown",
   "metadata": {
    "deletable": false,
    "editable": false,
    "nbgrader": {
     "cell_type": "markdown",
     "checksum": "efb423dba685dcf06275c6c62a8406c2",
     "grade": false,
     "grade_id": "analytical_odes",
     "locked": true,
     "schema_version": 3,
     "solution": false
    }
   },
   "source": [
    "## Analytical ODE solutions continued [55 points]\n",
    "\n",
    "Just as in the previous assignment, your first task is to solve the following ODEs *by hand* and, whenever possible, verify the solutions using *sympy*. If you think it's not possible to use *sympy* for a given problem, explain why."
   ]
  },
  {
   "cell_type": "markdown",
   "metadata": {
    "deletable": false,
    "editable": false,
    "nbgrader": {
     "cell_type": "markdown",
     "checksum": "f39ca7f96a9f571e9031b3c133308e52",
     "grade": false,
     "grade_id": "q1",
     "locked": true,
     "schema_version": 3,
     "solution": false
    }
   },
   "source": [
    "#### Equation 1.1 [5 points]\n",
    "\n",
    "\\begin{equation*}\n",
    "    y'' - 9y = 0\n",
    "\\end{equation*}"
   ]
  },
  {
   "cell_type": "markdown",
   "metadata": {
    "deletable": false,
    "nbgrader": {
     "cell_type": "markdown",
     "checksum": "73bf5c116fef325a14359b4e9aa7ccd3",
     "grade": true,
     "grade_id": "a1",
     "locked": false,
     "points": 3,
     "schema_version": 3,
     "solution": true
    }
   },
   "source": [
    "This is a Linear Homogenous Differential Equation.\n",
    "The characteristic equation of this Differential Equation is \n",
    "\n",
    "\\begin{equation*}\n",
    "    k^{2} - 9 = 0\n",
    "\\end{equation*}\n",
    "\n",
    "The roots of this equation are:\n",
    "\n",
    "\\begin{equation*}\n",
    "    k = 3\n",
    "\\end{equation*}\n",
    "\n",
    "\\begin{equation*}\n",
    "    k = -3\n",
    "\\end{equation*}\n",
    "\n",
    "According to the possible solutions of this type of equation, have \n",
    "\n",
    "\\begin{equation*}\n",
    "    y = C_{1}e^{\\lambda_{1}t} + C_{2}e^{\\lambda_{2}t}\n",
    "\\end{equation*}\n",
    "\n",
    "Where $\\lambda_{1}$ and $\\lambda_{2}$ are the roots of the characteristics eqaution\n",
    "\n",
    "Rewriting the equation we get,\n",
    "\n",
    "\\begin{equation*}\n",
    "    y = C_{1}e^{3t} + C_{2}e^{-3t}\n",
    "\\end{equation*}"
   ]
  },
  {
   "cell_type": "code",
   "execution_count": 2,
   "metadata": {
    "deletable": false,
    "nbgrader": {
     "cell_type": "code",
     "checksum": "7261f56a367edd4369da5c89a553be25",
     "grade": false,
     "grade_id": "a1_implementation",
     "locked": false,
     "schema_version": 3,
     "solution": true,
     "task": false
    }
   },
   "outputs": [
    {
     "data": {
      "image/png": "[encoded data removed]",
      "text/latex": [
       "$\\displaystyle - 9 y{\\left(t \\right)} + \\frac{d^{2}}{d t^{2}} y{\\left(t \\right)}$"
      ],
      "text/plain": [
       "            2      \n",
       "           d       \n",
       "-9⋅y(t) + ───(y(t))\n",
       "            2      \n",
       "          dt       "
      ]
     },
     "metadata": {},
     "output_type": "display_data"
    },
    {
     "data": {
      "image/png": "[encoded data removed]",
      "text/latex": [
       "$\\displaystyle y{\\left(t \\right)} = C_{1} e^{- 3 t} + C_{2} e^{3 t}$"
      ],
      "text/plain": [
       "           -3⋅t       3⋅t\n",
       "y(t) = C₁⋅ℯ     + C₂⋅ℯ   "
      ]
     },
     "metadata": {},
     "output_type": "display_data"
    }
   ],
   "source": [
    "# Write code to verify your solution of equation 1.1\n",
    "# YOUR CODE HERE\n",
    "t = sp.Symbol('t')\n",
    "y = sp.Function('y')(t)\n",
    "\n",
    "y_prime = sp.Derivative(y,t)\n",
    "y_prime2 = sp.Derivative(y,t,2)\n",
    "\n",
    "eq = y_prime2 - 9*y\n",
    "\n",
    "display(eq)\n",
    "\n",
    "# please assign soln1 to the solution of the differential equation\n",
    "soln1 = sp.dsolve(eq)\n",
    "display(soln1)"
   ]
  },
  {
   "cell_type": "code",
   "execution_count": null,
   "metadata": {
    "deletable": false,
    "editable": false,
    "nbgrader": {
     "cell_type": "code",
     "checksum": "7e741412cf38e3f7ae733990c4dcc751",
     "grade": true,
     "grade_id": "test_a1_implementation",
     "locked": true,
     "points": 2,
     "schema_version": 3,
     "solution": false,
     "task": false
    }
   },
   "outputs": [],
   "source": [
    "### THIS CELL CONTAINS AUTOMATED TESTS OF YOUR SOLUTION; DO NOT DELETE IT!\n"
   ]
  },
  {
   "cell_type": "markdown",
   "metadata": {
    "deletable": false,
    "editable": false,
    "nbgrader": {
     "cell_type": "markdown",
     "checksum": "5b4546ec6f97ea95de6a20f5d98ee4a0",
     "grade": false,
     "grade_id": "q2",
     "locked": true,
     "schema_version": 3,
     "solution": false
    }
   },
   "source": [
    "#### Equation 1.2 [5 points]\n",
    "\n",
    "Find the general solution to the differential equation\n",
    "\\begin{equation*}\n",
    "    y'' - 9y = 9t^2 + 4t\n",
    "\\end{equation*}"
   ]
  },
  {
   "cell_type": "markdown",
   "metadata": {
    "deletable": false,
    "nbgrader": {
     "cell_type": "markdown",
     "checksum": "b1245608813717198db2db9cc3f9343b",
     "grade": true,
     "grade_id": "a2",
     "locked": false,
     "points": 3,
     "schema_version": 3,
     "solution": true
    }
   },
   "source": [
    "Splitting the solution in the complimentary part and the particular solution. \n",
    "\n",
    "\\begin{equation*}\n",
    "    y_t = y_{c} + y_{p}\n",
    "\\end{equation*}\n",
    "\n",
    "Calculating the complimentary part first, \n",
    "\n",
    "The complimentary equation becomes- \n",
    "\n",
    "\\begin{equation*}\n",
    "    k^{2} - 9 = 0 \n",
    "\\end{equation*}\n",
    "\n",
    "the roots of the equation becomes \n",
    "\\begin{equation*}\n",
    "    k = 3\n",
    "\\end{equation*}\n",
    "\n",
    "\\begin{equation*}\n",
    "    k = -3 \n",
    "\\end{equation*}\n",
    "\n",
    "The complimentary solution for the same would become- \n",
    "\n",
    "\\begin{equation*}\n",
    "    y_{c} = C_{1}e^{-3t} + C_{2}e^{3t}\n",
    "\\end{equation*}\n",
    "\n",
    "Calculating the particular solution of the equation, \n",
    "\n",
    "according to the Right Hand Side of the original equation, we can guess the value of our particular solution, \n",
    "\n",
    "\\begin{equation*}\n",
    "    y_{p} = At^{2} + Bt + C\n",
    "\\end{equation*}\n",
    "\n",
    "calculating $y_{p}'$ and $y_{p}''$ according to the above equation. \n",
    "\n",
    "\\begin{equation*}\n",
    "    y_{p}' = 2At + B\n",
    "\\end{equation*}\n",
    "\n",
    "\\begin{equation*}\n",
    "    y_{p}'' = 2A\n",
    "\\end{equation*} \n",
    "\n",
    "\n",
    "Substituting the above values in the base equation, we get \n",
    "\n",
    "\\begin{equation*}\n",
    "    2A - 9(At^{2} + Bt + C) = 9t^{2} + 4t \n",
    "\\end{equation*}\n",
    "\n",
    "Simplifying the equation, \n",
    "\n",
    "\\begin{equation*}\n",
    "    2A - 9At^{2} - 9Bt - 9C = 9t^{2} + 4t\n",
    "\\end{equation*}\n",
    "\n",
    "equating the terms on both the sides, we get \n",
    "\n",
    "\\begin{equation*}\n",
    "    A = -1 \n",
    "\\end{equation*}\n",
    "\n",
    "\\begin{equation*}\n",
    "    B = \\frac {-4}{9}\n",
    "\\end{equation*}\n",
    "\n",
    "\\begin{equation*}\n",
    "    C = \\frac{-2}{9}\n",
    "\\end{equation*}\n",
    "\n",
    "The particular solution of the equation becomes as- \n",
    "\n",
    "\\begin{equation*}\n",
    "    y_{p} = -t^{2} - \\frac {4}{9}t -\\frac{2}{9}\n",
    "\\end{equation*}\n",
    "\n",
    "\n",
    "Since, we assumed that \n",
    "\n",
    "\\begin{equation*}\n",
    "    y_{t} = y_{c} + y_{p}\n",
    "\\end{equation*}\n",
    "\n",
    "combining the equations obtained from above calculations, we get \n",
    "\n",
    "\\begin{equation*}\n",
    "    y_{t} = c_{1}e^{3t} + c_{2}e^{-3t} -t^{2} - \\frac {4}{9}t -\\frac{2}{9}\n",
    "\\end{equation*}\n",
    "\n",
    "\n",
    "\n"
   ]
  },
  {
   "cell_type": "code",
   "execution_count": 3,
   "metadata": {
    "deletable": false,
    "nbgrader": {
     "cell_type": "code",
     "checksum": "9242e8b3dbcc8b0df8a547fc3c679a0a",
     "grade": false,
     "grade_id": "a2_implementation",
     "locked": false,
     "schema_version": 3,
     "solution": true,
     "task": false
    }
   },
   "outputs": [
    {
     "data": {
      "image/png": "[encoded data removed]",
      "text/latex": [
       "$\\displaystyle - 9 t^{2} - 4 t - 9 y{\\left(t \\right)} + \\frac{d^{2}}{d t^{2}} y{\\left(t \\right)}$"
      ],
      "text/plain": [
       "                          2      \n",
       "     2                   d       \n",
       "- 9⋅t  - 4⋅t - 9⋅y(t) + ───(y(t))\n",
       "                          2      \n",
       "                        dt       "
      ]
     },
     "metadata": {},
     "output_type": "display_data"
    },
    {
     "data": {
      "image/png": "[encoded data removed]",
      "text/latex": [
       "$\\displaystyle y{\\left(t \\right)} = C_{1} e^{- 3 t} + C_{2} e^{3 t} - t^{2} - \\frac{4 t}{9} - \\frac{2}{9}$"
      ],
      "text/plain": [
       "           -3⋅t       3⋅t    2   4⋅t   2\n",
       "y(t) = C₁⋅ℯ     + C₂⋅ℯ    - t  - ─── - ─\n",
       "                                  9    9"
      ]
     },
     "metadata": {},
     "output_type": "display_data"
    }
   ],
   "source": [
    "# Write code to verify your solution of equation 1.2\n",
    "# YOUR CODE HERE\n",
    "t = sp.Symbol('t')\n",
    "y = sp.Function('y')(t)\n",
    "y_prime  = sp.Derivative(y, t)\n",
    "y_prime2 = sp.Derivative(y, t, 2)\n",
    "eq = y_prime2 - 9*y - 9*t**2 - 4*t\n",
    "display(eq)\n",
    "\n",
    "soln2 = sp.dsolve(eq)\n",
    "display(soln2)"
   ]
  },
  {
   "cell_type": "code",
   "execution_count": null,
   "metadata": {
    "deletable": false,
    "editable": false,
    "nbgrader": {
     "cell_type": "code",
     "checksum": "1e0a421fe3641498ff32bdaf77ebaa31",
     "grade": true,
     "grade_id": "test_a2_implementation",
     "locked": true,
     "points": 2,
     "schema_version": 3,
     "solution": false,
     "task": false
    }
   },
   "outputs": [],
   "source": [
    "### THIS CELL CONTAINS AUTOMATED TESTS OF YOUR SOLUTION; DO NOT DELETE IT!\n"
   ]
  },
  {
   "cell_type": "markdown",
   "metadata": {
    "deletable": false,
    "editable": false,
    "nbgrader": {
     "cell_type": "markdown",
     "checksum": "2c20790f5eab724aa7e8ccb01135e2ec",
     "grade": false,
     "grade_id": "q3",
     "locked": true,
     "schema_version": 3,
     "solution": false
    }
   },
   "source": [
    "#### Equation 1.3 [5 points]\n",
    "\n",
    "Solve the initial value problem\n",
    "\\begin{equation*}\n",
    "    y'' - 9y = 9t^2 + 4t, \\; y(0) = \\frac{25}{9}, \\; y'(0) = -\\frac{31}{9}\n",
    "\\end{equation*}"
   ]
  },
  {
   "cell_type": "markdown",
   "metadata": {
    "deletable": false,
    "nbgrader": {
     "cell_type": "markdown",
     "checksum": "879107bb17500e280a8e2ef24c2f10a9",
     "grade": true,
     "grade_id": "a3",
     "locked": false,
     "points": 3,
     "schema_version": 3,
     "solution": true
    }
   },
   "source": [
    "Splitting the solution in the complimentary part and the particular solution. \n",
    "\n",
    "\\begin{equation*}\n",
    "    y_t = y_{c} + y_{p}\n",
    "\\end{equation*}\n",
    "\n",
    "Calculating the complimentary part first, \n",
    "\n",
    "The complimentary equation becomes- \n",
    "\n",
    "\\begin{equation*}\n",
    "    k^{2} - 9 = 0 \n",
    "\\end{equation*}\n",
    "\n",
    "the roots of the equation becomes \n",
    "\\begin{equation*}\n",
    "    k = 3\n",
    "\\end{equation*}\n",
    "\n",
    "\\begin{equation*}\n",
    "    k = -3 \n",
    "\\end{equation*}\n",
    "\n",
    "The complimentary solution for the same would become- \n",
    "\n",
    "\\begin{equation*}\n",
    "    y_{c} = C_{1}e^{-3t} + C_{2}e^{3t}\n",
    "\\end{equation*}\n",
    "\n",
    "Calculating the particular solution of the equation, \n",
    "\n",
    "according to the Right Hand Side of the original equation, we can guess the value of our particular solution, \n",
    "\n",
    "\\begin{equation*}\n",
    "    y_{p} = At^{2} + Bt + C\n",
    "\\end{equation*}\n",
    "\n",
    "calculating $y_{p}'$ and $y_{p}''$ according to the above equation. \n",
    "\n",
    "\\begin{equation*}\n",
    "    y_{p}' = 2At + B\n",
    "\\end{equation*}\n",
    "\n",
    "\\begin{equation*}\n",
    "    y_{p}'' = 2A\n",
    "\\end{equation*}\n",
    "\n",
    "Substituting the above values in the base equation, we get \n",
    "\n",
    "\\begin{equation*}\n",
    "    2A - 9(At^{2} + Bt + C) = 9t^{2} + 4t \n",
    "\\end{equation*}\n",
    "\n",
    "Simplifying the equation, \n",
    "\n",
    "\\begin{equation*}\n",
    "    2A - 9At^{2} - 9Bt - 9C = 9t^{2} + 4t\n",
    "\\end{equation*}\n",
    "\n",
    "equating the terms on both the sides, we get \n",
    "\n",
    "\\begin{equation*}\n",
    "    A = -1 \n",
    "\\end{equation*}\n",
    "\n",
    "\\begin{equation*}\n",
    "    B = \\frac {-4}{9}\n",
    "\\end{equation*}\n",
    "\n",
    "\\begin{equation*}\n",
    "    C = \\frac{-2}{9}\n",
    "\\end{equation*}\n",
    "\n",
    "The particular solution of the equation becomes as- \n",
    "\n",
    "\\begin{equation*}\n",
    "    y_{p} = -t^{2} - \\frac {4}{9}t -\\frac{2}{9}\n",
    "\\end{equation*}\n",
    "\n",
    "Since, we assumed that \n",
    "\n",
    "\\begin{equation*}\n",
    "    y_{t} = y_{c} + y_{p}\n",
    "\\end{equation*}\n",
    "\n",
    "combining the equations obtained from above calculations, we get \n",
    "\n",
    "\\begin{equation*}\n",
    "    y_{t} = c_{1}e^{3t} + c_{2}e^{-3t} -t^{2} - \\frac {4}{9}t -\\frac{2}{9}\n",
    "\\end{equation*}\n",
    "\n",
    "Calculating the first derivative of the above equation- \n",
    "\n",
    "\\begin{equation*}\n",
    "    y_{t}' = 3c_{1}e^{3t} - 3c_{2}e^{-3t} - 2t - \\frac {4}{9}\n",
    "\\end{equation*}\n",
    "\n",
    "Plugging in the Initial Values as given in the question- \n",
    "\n",
    "\\begin{equation*}\n",
    "      y_{t}(0) =  c_{1} + c_{2}-\\frac{2}{9} = \\frac{25}{9}\n",
    "\\end{equation*}\n",
    "\n",
    "and \n",
    "\n",
    "\\begin{equation*}\n",
    "    y_{t}(0)' = 3c_{1} - 3c_{2} - \\frac {4}{9} = -\\frac{31}{9}\n",
    "\\end{equation*}\n",
    "\n",
    "On Simplifying the above two equations, we get \n",
    "\\begin{equation*}\n",
    "    c_{1} = 1\n",
    "\\end{equation*}\n",
    "\n",
    "\\begin{equation*}\n",
    "    c_{2} = 2\n",
    "\\end{equation*}\n",
    "\n",
    "The final equation would be- \n",
    "\n",
    "\\begin{equation*}\n",
    "    y_{t} = e^{3t} + 2e^{-3t} -t^{2} - \\frac {4}{9}t -\\frac{2}{9}\n",
    "\\end{equation*}\n",
    "\n",
    "\n"
   ]
  },
  {
   "cell_type": "code",
   "execution_count": 4,
   "metadata": {
    "deletable": false,
    "nbgrader": {
     "cell_type": "code",
     "checksum": "77fc008ec1d1b559766cd3d3f347df1c",
     "grade": false,
     "grade_id": "a3_implementation",
     "locked": false,
     "schema_version": 3,
     "solution": true,
     "task": false
    }
   },
   "outputs": [
    {
     "data": {
      "image/png": "[encoded data removed]",
      "text/latex": [
       "$\\displaystyle - 9 t^{2} - 4 t - 9 y{\\left(t \\right)} + \\frac{d^{2}}{d t^{2}} y{\\left(t \\right)}$"
      ],
      "text/plain": [
       "                          2      \n",
       "     2                   d       \n",
       "- 9⋅t  - 4⋅t - 9⋅y(t) + ───(y(t))\n",
       "                          2      \n",
       "                        dt       "
      ]
     },
     "metadata": {},
     "output_type": "display_data"
    },
    {
     "data": {
      "image/png": "[encoded data removed]",
      "text/latex": [
       "$\\displaystyle y{\\left(t \\right)} = C_{1} e^{- 3 t} + C_{2} e^{3 t} - t^{2} - \\frac{4 t}{9} - \\frac{2}{9}$"
      ],
      "text/plain": [
       "           -3⋅t       3⋅t    2   4⋅t   2\n",
       "y(t) = C₁⋅ℯ     + C₂⋅ℯ    - t  - ─── - ─\n",
       "                                  9    9"
      ]
     },
     "metadata": {},
     "output_type": "display_data"
    },
    {
     "data": {
      "image/png": "[encoded data removed]",
      "text/latex": [
       "$\\displaystyle y{\\left(t \\right)} = - t^{2} - \\frac{4 t}{9} + 1.0 e^{3 t} - \\frac{2}{9} + 2.0 e^{- 3 t}$"
      ],
      "text/plain": [
       "          2   4⋅t        3⋅t   2        -3⋅t\n",
       "y(t) = - t  - ─── + 1.0⋅ℯ    - ─ + 2.0⋅ℯ    \n",
       "               9               9            "
      ]
     },
     "metadata": {},
     "output_type": "display_data"
    }
   ],
   "source": [
    "# Write code to verify your solution of equation 1.3\n",
    "# YOUR CODE HERE\n",
    "t = sp.Symbol('t')\n",
    "y = sp.Function('y')(t)\n",
    "y_prime  = sp.Derivative(y, t)\n",
    "y_prime2 = sp.Derivative(y, t, 2)\n",
    "eq = y_prime2 - 9*y - 9*t**2 - 4*t\n",
    "display(eq)\n",
    "\n",
    "# please assign soln3 to the general solution of the differential equation\n",
    "soln3 = sp.dsolve(eq)\n",
    "display(soln3)\n",
    "\n",
    "# please assign particular_soln3 to the particular solution of the differential equation\n",
    "ics = {y.subs(t,0): 25/9 , y_prime.subs(t,0): -31/9}\n",
    "particular_soln3 =  sp.dsolve(eq, ics =ics )\n",
    "display(particular_soln3)"
   ]
  },
  {
   "cell_type": "code",
   "execution_count": null,
   "metadata": {
    "deletable": false,
    "editable": false,
    "nbgrader": {
     "cell_type": "code",
     "checksum": "9063bfbf293f1dc3ed34070388b4e479",
     "grade": true,
     "grade_id": "test_a3_implementation",
     "locked": true,
     "points": 2,
     "schema_version": 3,
     "solution": false,
     "task": false
    }
   },
   "outputs": [],
   "source": [
    "### THIS CELL CONTAINS AUTOMATED TESTS OF YOUR SOLUTION; DO NOT DELETE IT!\n"
   ]
  },
  {
   "cell_type": "markdown",
   "metadata": {
    "deletable": false,
    "editable": false,
    "nbgrader": {
     "cell_type": "markdown",
     "checksum": "ee924165f4669320e1d207605631e81f",
     "grade": false,
     "grade_id": "q4",
     "locked": true,
     "schema_version": 3,
     "solution": false
    }
   },
   "source": [
    "#### Equation 1.4 [5 points]\n",
    "\n",
    "Find the general solution to the differential equation\n",
    "\\begin{equation*}\n",
    "    y'' + 3y' + y = 2\\sin(2t)\n",
    "\\end{equation*}"
   ]
  },
  {
   "cell_type": "markdown",
   "metadata": {
    "deletable": false,
    "nbgrader": {
     "cell_type": "markdown",
     "checksum": "3044851786c2ff07f62a4a5647ea8e4c",
     "grade": true,
     "grade_id": "a4",
     "locked": false,
     "points": 3,
     "schema_version": 3,
     "solution": true
    }
   },
   "source": [
    "Splitting the solution in two part Complimentary and Particular Solution\n",
    "\n",
    "CALCULATION OF COMPLIMENTARY COMPONENT-\n",
    "\n",
    "characteristic equation of the above differential equation would be-\n",
    "\n",
    "\\begin{equation*}\n",
    "    k^{2} + 3k +1 = 0 \n",
    "\\end{equation*}\n",
    "\n",
    "the roots would be \n",
    "\\begin{equation*}\n",
    "    k = \\frac{-3 + \\sqrt{5}}{2}\n",
    "\\end{equation*}\n",
    "\\begin{equation*}\n",
    "    k = \\frac{-3 - \\sqrt{5}}{2}\n",
    "\\end{equation*}\n",
    "\n",
    "the complimentary solution corresponding to this would be- \n",
    "\n",
    "\\begin{equation*}\n",
    "    y_{c} = c_{1}e^{(\\frac{-3 + \\sqrt{5}}{2})t} + c_{2}e^{(\\frac{-3 - \\sqrt{5}}{2})t}\n",
    "\\end{equation*}\n",
    "\n",
    "CALCULATING THE PARTICULAR SOLUTION COMPONENT- \n",
    "\n",
    "according to the term in the Right Hand Side, we assume the following-\n",
    "\n",
    "\\begin{equation*}\n",
    "    y_{p} = Asin(2t) + Bcos(2t)\n",
    "\\end{equation*}\n",
    "\n",
    "first and the second derivative for the above equation would be- \n",
    "\n",
    "\\begin{equation*}\n",
    "    y_{p}' = 2Acos(2t) - 2Bsin(2t)\n",
    "\\end{equation*}\n",
    "\n",
    "and \n",
    "\\begin{equation*}\n",
    "    y_{p}'' = -4Asin(2t) - 4Bcos(2t)\n",
    "\\end{equation*}\n",
    "\n",
    "and substituting in the differential equation- \n",
    "\n",
    "\\begin{equation*}\n",
    "    -4Asin(2t) - 4Bcos(2t) + 3(2Acos(2t) - 2Bsin(2t)) + Asin(2t) + Bcos(2t) = 2sin(2t)\n",
    "\\end{equation*}\n",
    "Simplifying the equation and comparing the coefficients on both the sides- \n",
    "\n",
    "\\begin{equation*}\n",
    "    -3Asin(2t) + 6Acos(2t) - 3Bcos(2t) - 6Bsin(2t) = 2sin(2t)\n",
    "\\end{equation*}\n",
    "\n",
    "\\begin{equation*}\n",
    "    -3A - 6B = 2\n",
    "\\end{equation*}\n",
    "\n",
    "\\begin{equation*}\n",
    "    6A - 3B = 0 \n",
    "\\end{equation*}\n",
    "\n",
    "Solving for A and B we get, \n",
    "\n",
    "\\begin{equation*}\n",
    "    A = \\frac{-2}{15}\n",
    "\\end{equation*}\n",
    "\n",
    "\\begin{equation*}\n",
    "    B = \\frac{-4}{15}\n",
    "\\end{equation*}\n",
    "\n",
    "The particular solution would become- \n",
    "\n",
    "\\begin{equation*}\n",
    "    y_{p} = \\frac{-2}{15}sin(2t) + \\frac{-4}{15}cos(2t)\n",
    "\\end{equation*}\n",
    "\n",
    "Combining the complementary and the particular solution we get \n",
    "\n",
    "\\begin{equation*}\n",
    "    y_{t} = c_{1}e^{(\\frac{-3 + \\sqrt{5}}{2})t} + c_{2}e^{(\\frac{-3 - \\sqrt{5}}{2})t} + \\frac{-2}{15}sin(2t) + \\frac{-4}{15}cos(2t)\n",
    "\\end{equation*}"
   ]
  },
  {
   "cell_type": "code",
   "execution_count": 5,
   "metadata": {
    "deletable": false,
    "nbgrader": {
     "cell_type": "code",
     "checksum": "50bd426fbba827edc04f405e662361c5",
     "grade": false,
     "grade_id": "a4_implementation",
     "locked": false,
     "schema_version": 3,
     "solution": true,
     "task": false
    }
   },
   "outputs": [
    {
     "data": {
      "image/png": "[encoded data removed]",
      "text/latex": [
       "$\\displaystyle y{\\left(t \\right)} - 2 \\sin{\\left(2 t \\right)} + 3 \\frac{d}{d t} y{\\left(t \\right)} + \\frac{d^{2}}{d t^{2}} y{\\left(t \\right)}$"
      ],
      "text/plain": [
       "                                   2      \n",
       "                      d           d       \n",
       "y(t) - 2⋅sin(2⋅t) + 3⋅──(y(t)) + ───(y(t))\n",
       "                      dt           2      \n",
       "                                 dt       "
      ]
     },
     "metadata": {},
     "output_type": "display_data"
    },
    {
     "data": {
      "image/png": "[encoded data removed]",
      "text/latex": [
       "$\\displaystyle y{\\left(t \\right)} = C_{1} e^{\\frac{t \\left(-3 - \\sqrt{5}\\right)}{2}} + C_{2} e^{\\frac{t \\left(-3 + \\sqrt{5}\\right)}{2}} - \\frac{2 \\sin{\\left(2 t \\right)}}{15} - \\frac{4 \\cos{\\left(2 t \\right)}}{15}$"
      ],
      "text/plain": [
       "           t⋅(-3 - √5)       t⋅(-3 + √5)                          \n",
       "           ───────────       ───────────                          \n",
       "                2                 2        2⋅sin(2⋅t)   4⋅cos(2⋅t)\n",
       "y(t) = C₁⋅ℯ            + C₂⋅ℯ            - ────────── - ──────────\n",
       "                                               15           15    "
      ]
     },
     "metadata": {},
     "output_type": "display_data"
    }
   ],
   "source": [
    "# Write code to verify your solution of equation 1.4\n",
    "# YOUR CODE HERE\n",
    "t = sp.Symbol('t')\n",
    "y = sp.Function('y')(t)\n",
    "y_prime  = sp.Derivative(y, t)\n",
    "y_prime2 = sp.Derivative(y, t, 2)\n",
    "eq = y_prime2 + 3*y_prime + y - 2* sp.sin(2*t)\n",
    "display(eq)\n",
    "\n",
    "soln4 = sp.dsolve(eq)\n",
    "display(soln4)"
   ]
  },
  {
   "cell_type": "code",
   "execution_count": null,
   "metadata": {
    "deletable": false,
    "editable": false,
    "nbgrader": {
     "cell_type": "code",
     "checksum": "c88b30b3a2b9f3598468387209cbc411",
     "grade": true,
     "grade_id": "test_a4_implementation",
     "locked": true,
     "points": 2,
     "schema_version": 3,
     "solution": false,
     "task": false
    }
   },
   "outputs": [],
   "source": [
    "### THIS CELL CONTAINS AUTOMATED TESTS OF YOUR SOLUTION; DO NOT DELETE IT!\n"
   ]
  },
  {
   "cell_type": "markdown",
   "metadata": {
    "deletable": false,
    "editable": false,
    "nbgrader": {
     "cell_type": "markdown",
     "checksum": "22e0927d71bd010edeea0507a2fe9b44",
     "grade": false,
     "grade_id": "q5",
     "locked": true,
     "schema_version": 3,
     "solution": false
    }
   },
   "source": [
    "#### Equation 1.5 [5 points]\n",
    "\n",
    "Use variation of parameters to find a solution to the IVP\n",
    "\\begin{equation*}\n",
    "    y'' - 3y' + 2y = t, \\; y(0) = \\frac{9}{4}, \\; y'(0) = 3\n",
    "\\end{equation*}"
   ]
  },
  {
   "cell_type": "markdown",
   "metadata": {
    "deletable": false,
    "nbgrader": {
     "cell_type": "markdown",
     "checksum": "e53d8a6768558f512089e350a76b4f2c",
     "grade": true,
     "grade_id": "a5",
     "locked": false,
     "points": 3,
     "schema_version": 3,
     "solution": true
    }
   },
   "source": [
    "Assuming the soultion of the above equation as\n",
    "\n",
    "\\begin{equation*}\n",
    "    y_{t} = y_{p} + y_{c} \n",
    "\\end{equation*}\n",
    "\n",
    "where $y_{t}$ is the complete solution, $y_{c}$ is the complimentary solution and $y_{p}$ is the particular solution \n",
    "\n",
    "CALCULATING THE COMPLIMENTARY SOLUTION COMPONENT-\n",
    "\n",
    "the characteristic equation of the above differential equation would be-\n",
    "\n",
    "\\begin{equation*}\n",
    "    k^{2} - 3k + 2 = 0\n",
    "\\end{equation*}\n",
    "\n",
    "roots for the characteristic equations are- \n",
    "\n",
    "\\begin{equation*}\n",
    "    k = 2\n",
    "\\end{equation*}\n",
    "\n",
    "\\begin{equation*}\n",
    "    k = 1\n",
    "\\end{equation*}\n",
    "\n",
    "the corresponding complimentary solution would be- \n",
    "\n",
    "\\begin{equation*}\n",
    "    y_{c} = c_{1}e^{t} + c_{2}e^{2t}\n",
    "\\end{equation*}\n",
    "\n",
    "CALCULATION OF PARTICULAR SOLUTION COMPONENT USING VARIATION OF PARAMETERS-\n",
    "\n",
    "particular solution in variation parameters given as\n",
    "\n",
    "\\begin{equation*}\n",
    "    y_p(t) = u_1(t)y_1(t) + u_2(t)y_2(t)\n",
    "\\end{equation*}\n",
    "\n",
    "First, we can calculate the Wronskian as below:\n",
    "\n",
    "\\begin{equation*}\n",
    "    W = \\left\\lvert \\begin{matrix} e^{t} & e^{2t} \\\\ e^{t} & 2e^{2t} \\end{matrix} \\right\\lvert = e^{t}2e^{2t} - e^{t}e^{2t} = e^{3t}\n",
    "\\end{equation*}\n",
    "\n",
    "We can now find $u_1$ and $u_2$:\n",
    "\n",
    "\\begin{align*}\n",
    "    u_1 &= -\\int{\\frac{e^{2t}t}{e^{3t}}dt} = -\\int{te^{-t} dt}\\\\\n",
    "    u_2 &= -\\int{\\frac{e^{t}t}{e^{3t}}dt} = -\\int{te^{-2t} dt}\\\\\n",
    "\\end{align*}\n",
    "\n",
    "using the integration by part for u1 & u2:\n",
    "\n",
    "\\begin{align*}\n",
    "    u_1 &= -t\\int{e^{-t} dt} + \\int{t'(\\int{e^{-t}dt})dt} = te^{-t} + e^{-t}\\\\\n",
    "    u_2 &= t\\int{e^{-2t} dt} - \\int{t'(\\int{e^{-2t}dt})dt} = t\\frac{e^{-2t}}{-2} - \\int{\\frac{e^{-2t}}{-2}dt}\\\\\n",
    "    u_2 &= -e^{-2t}\\frac{t}{2} - e^{-2t}\\frac{1}{4} = -e^{-2t}(\\frac{t}{2} + \\frac{1}{4})\n",
    "\\end{align*}\n",
    "\n",
    "Substituting above value in y_p(t) gives:\n",
    "\n",
    "\\begin{equation*}\n",
    "y_p(t) = e^t(te^{-t} + e^{-t}) - e^{2t}(e^{-2t}(\\frac{t}{2} + \\frac{1}{4})) \\\\\n",
    "y_p(t) = t+ 1 - \\frac{t}{2} - \\frac{1}{4} = \\frac{t}{2} + \\frac{3}{4}\n",
    "\\end{equation*}\n",
    "\n",
    "So the particular solution becomes - \n",
    "\n",
    "\\begin{equation*}\n",
    "    y_{p} = \\frac{1}{2}t + \\frac{3}{4}\n",
    "\\end{equation*}\n",
    "\n",
    "Combining both complimentary and particular solution, we get \n",
    "\n",
    "\\begin{equation*}\n",
    "    y_{t} = y_{c} + y_{p}\n",
    "\\end{equation*}\n",
    "\n",
    "\\begin{equation*}\n",
    "    y_{t} = c_{1}e^{t} + c_{2}e^{2t} + \\frac{1}{2}t + \\frac{3}{4}\n",
    "\\end{equation*}\n",
    "\n",
    "Calculating the first derivative of the above function, \n",
    "\n",
    "\\begin{equation*}\n",
    "    y_{t}' = c_{1}e^{t} + 2c_{2}e^{2t} + \\frac{1}{2}\n",
    "\\end{equation*}\n",
    "\n",
    "substituting the initial values in both the above equations we get \n",
    "\n",
    "\\begin{equation*}\n",
    "    y_{t}(0) = c_{1} + c_{2} + \\frac{3}{4} = \\frac{9}{4}\n",
    "\\end{equation*}\n",
    "\n",
    "\\begin{equation*}\n",
    "    y_{t}(0) = c_{1} + 2c_{2} + \\frac{1}{2}= 3\n",
    "\\end{equation*}\n",
    "\n",
    "Solving above equations we get, \n",
    "\n",
    "\\begin{equation*}\n",
    "    c_{1} = \\frac{1}{2}\n",
    "\\end{equation*}\n",
    "\n",
    "\\begin{equation*}\n",
    "    c_{2} = 1\n",
    "\\end{equation*}\n",
    "\n",
    "Plugging in the values and obtaining the final solution, we get \n",
    "\n",
    "\\begin{equation*}\n",
    "    y_{t} = \\frac{1}{2}e^{t} + e^{2t} + \\frac{1}{2}t + \\frac{3}{4}\n",
    "\\end{equation*}"
   ]
  },
  {
   "cell_type": "code",
   "execution_count": 6,
   "metadata": {
    "deletable": false,
    "nbgrader": {
     "cell_type": "code",
     "checksum": "8af7258291bbcc325770c6141b9e35ac",
     "grade": false,
     "grade_id": "a5_implementation",
     "locked": false,
     "schema_version": 3,
     "solution": true,
     "task": false
    }
   },
   "outputs": [
    {
     "data": {
      "image/png": "[encoded data removed]",
      "text/latex": [
       "$\\displaystyle - t + 2 y{\\left(t \\right)} - 3 \\frac{d}{d t} y{\\left(t \\right)} + \\frac{d^{2}}{d t^{2}} y{\\left(t \\right)}$"
      ],
      "text/plain": [
       "                             2      \n",
       "                d           d       \n",
       "-t + 2⋅y(t) - 3⋅──(y(t)) + ───(y(t))\n",
       "                dt           2      \n",
       "                           dt       "
      ]
     },
     "metadata": {},
     "output_type": "display_data"
    },
    {
     "data": {
      "image/png": "[encoded data removed]",
      "text/latex": [
       "$\\displaystyle y{\\left(t \\right)} = C_{1} e^{t} + C_{2} e^{2 t} + \\frac{t}{2} + \\frac{3}{4}$"
      ],
      "text/plain": [
       "           t       2⋅t   t   3\n",
       "y(t) = C₁⋅ℯ  + C₂⋅ℯ    + ─ + ─\n",
       "                         2   4"
      ]
     },
     "metadata": {},
     "output_type": "display_data"
    },
    {
     "data": {
      "image/png": "[encoded data removed]",
      "text/latex": [
       "$\\displaystyle y{\\left(t \\right)} = \\frac{t}{2} + 1.0 e^{2 t} + 0.5 e^{t} + \\frac{3}{4}$"
      ],
      "text/plain": [
       "       t        2⋅t        t   3\n",
       "y(t) = ─ + 1.0⋅ℯ    + 0.5⋅ℯ  + ─\n",
       "       2                       4"
      ]
     },
     "metadata": {},
     "output_type": "display_data"
    }
   ],
   "source": [
    "# Write code to verify your solution of equation 1.5\n",
    "# YOUR CODE HERE\n",
    "t = sp.Symbol('t')\n",
    "y = sp.Function('y')(t)\n",
    "y_prime  = sp.Derivative(y, t)\n",
    "y_prime2 = sp.Derivative(y, t, 2)\n",
    "eq = y_prime2 - 3*y_prime + 2*y - t\n",
    "display(eq)\n",
    "\n",
    "soln5 = sp.dsolve(eq)\n",
    "display(soln5)\n",
    "\n",
    "# please assign soln5 to the particular solution of the differential equation\n",
    "ics = {y.subs(t,0): 9/4 , y_prime.subs(t,0): 3}\n",
    "particular_soln5 = sp.dsolve(eq, ics =ics )\n",
    "display(particular_soln5)"
   ]
  },
  {
   "cell_type": "code",
   "execution_count": null,
   "metadata": {
    "deletable": false,
    "editable": false,
    "nbgrader": {
     "cell_type": "code",
     "checksum": "36d5f1dc29c629fe8930e6754423c037",
     "grade": true,
     "grade_id": "test_a5_implementation",
     "locked": true,
     "points": 2,
     "schema_version": 3,
     "solution": false,
     "task": false
    }
   },
   "outputs": [],
   "source": [
    "### THIS CELL CONTAINS AUTOMATED TESTS OF YOUR SOLUTION; DO NOT DELETE IT!\n"
   ]
  },
  {
   "cell_type": "markdown",
   "metadata": {
    "deletable": false,
    "editable": false,
    "nbgrader": {
     "cell_type": "markdown",
     "checksum": "43d8fa19f92f822ad9e2154d3088859c",
     "grade": false,
     "grade_id": "q6",
     "locked": true,
     "schema_version": 3,
     "solution": false
    }
   },
   "source": [
    "#### 1.6 Spring-mass-damper system [15 points]\n",
    "\n",
    "A mass and spring system has a mass $m = 2kg$. There is a damper with $\\gamma = 4 \\frac{kg}{s}$. The mass, by itself, displaces the spring by $L = 3.267m$. Use $mg = kL$ to find the spring constant $k$, using $g = 9.8\\frac{m}{s^2}$. The initial displacement is $0.25m$ down and the initial velocity is $0.3\\frac{m}{s}$ down. Set up the differential equation, with initial conditions, to model this situation and then find the explicit, actual solution describing the position $y$ of the system."
   ]
  },
  {
   "cell_type": "markdown",
   "metadata": {
    "deletable": false,
    "nbgrader": {
     "cell_type": "markdown",
     "checksum": "98a099ae286532790795df7d446197c1",
     "grade": true,
     "grade_id": "a6",
     "locked": false,
     "points": 10,
     "schema_version": 3,
     "solution": true
    }
   },
   "source": [
    "General equation for the system is:\n",
    "\n",
    "\\begin{equation*}\n",
    "    mx'' = -kx -yx' + F(t)\n",
    "\\end{equation*}\n",
    "\n",
    "where m = 2, y=4 , $k = \\frac{mg}{L}$ F(t) = 0.0\n",
    "\n",
    "thus:\n",
    "\\begin{equation*}\n",
    "    2x'' = -6x -4x' +0.0\n",
    "\\end{equation*}\n",
    "\\begin{equation*}\n",
    "    x'' = -3x -2x'\n",
    "\\end{equation*}\n",
    "\\begin{equation*}\n",
    "    x''+ 2x' + 3x' = 0\n",
    "\\end{equation*}\n",
    "\n",
    "The characteristics eq. for above eq is:\n",
    "\n",
    "\\begin{equation*}\n",
    "    k^{2} + 2k +3 = 0\n",
    "\\end{equation*}\n",
    "\\begin{equation*}\n",
    "    k^{2}+ 2k + 1 -1 +3 = 0\n",
    "\\end{equation*}\n",
    "\\begin{equation*}\n",
    "    (k+1)^{2} = -2\n",
    "\\end{equation*}\n",
    "\\begin{equation*}\n",
    "    k = -1 + 2t\n",
    "\\end{equation*}\n",
    "\n",
    "\n",
    "hence:\n",
    "\n",
    "\\begin{equation*}\n",
    "    x(t)= C_{1}e^{-t}cos(2t)+C_{2}e^{-t}sin(2t)\n",
    " \\end{equation*}\n"
   ]
  },
  {
   "cell_type": "code",
   "execution_count": 7,
   "metadata": {
    "deletable": false,
    "nbgrader": {
     "cell_type": "code",
     "checksum": "c58c4e5d076bcd80e580fd013ffd1e27",
     "grade": false,
     "grade_id": "a6_implementation",
     "locked": false,
     "schema_version": 3,
     "solution": true,
     "task": false
    }
   },
   "outputs": [
    {
     "data": {
      "image/png": "[encoded data removed]",
      "text/latex": [
       "$\\displaystyle 5.99938781756964 y{\\left(t \\right)} + 4 \\frac{d}{d t} y{\\left(t \\right)} + 2 \\frac{d^{2}}{d t^{2}} y{\\left(t \\right)}$"
      ],
      "text/plain": [
       "                                         2      \n",
       "                          d             d       \n",
       "5.99938781756964⋅y(t) + 4⋅──(y(t)) + 2⋅───(y(t))\n",
       "                          dt             2      \n",
       "                                       dt       "
      ]
     },
     "metadata": {},
     "output_type": "display_data"
    },
    {
     "data": {
      "image/png": "[encoded data removed]",
      "text/latex": [
       "$\\displaystyle y{\\left(t \\right)} = \\left(C_{1} \\sin{\\left(1.41410533864519 t \\right)} + C_{2} \\cos{\\left(1.41410533864519 t \\right)}\\right) e^{- 1.0 t}$"
      ],
      "text/plain": [
       "                                                                  -1.0⋅t\n",
       "y(t) = (C₁⋅sin(1.41410533864519⋅t) + C₂⋅cos(1.41410533864519⋅t))⋅ℯ      "
      ]
     },
     "metadata": {},
     "output_type": "display_data"
    },
    {
     "data": {
      "image/png": "[encoded data removed]",
      "text/latex": [
       "$\\displaystyle y{\\left(t \\right)} = \\left(0.388938493455472 \\sin{\\left(1.41410533864519 t \\right)} + 0.25 \\cos{\\left(1.41410533864519 t \\right)}\\right) e^{- 1.0 t}$"
      ],
      "text/plain": [
       "                                                                              \n",
       "y(t) = (0.388938493455472⋅sin(1.41410533864519⋅t) + 0.25⋅cos(1.41410533864519⋅\n",
       "\n",
       "     -1.0⋅t\n",
       "t))⋅ℯ      "
      ]
     },
     "metadata": {},
     "output_type": "display_data"
    }
   ],
   "source": [
    "# Write code to verify your solution of equation 1.6\n",
    "# YOUR CODE HERE\n",
    "m = 2\n",
    "r = 4\n",
    "L = 3.267\n",
    "g = 9.8\n",
    "k = m*g / L\n",
    "t = sp.Symbol('t')\n",
    "y = sp.Function('y')(t)\n",
    "y_prime  = sp.Derivative(y, t)\n",
    "y_prime2 = sp.Derivative(y, t, 2)\n",
    "\n",
    "# source : https://faculty.washington.edu/seattle/physics227/reading/reading-3b.pdf\n",
    "eq = m*y_prime2 + r*y_prime + k*y \n",
    "display(eq)\n",
    "soln6 = sp.dsolve(eq)\n",
    "display(soln6)\n",
    "\n",
    "# please assign soln6 to the particular solution of the differential equation\n",
    "ics = {y.subs(t,0): 0.25 , y_prime.subs(t,0): 0.3}\n",
    "particular_soln6 = sp.dsolve(eq, ics =ics )\n",
    "display(particular_soln6)"
   ]
  },
  {
   "cell_type": "code",
   "execution_count": null,
   "metadata": {
    "deletable": false,
    "editable": false,
    "nbgrader": {
     "cell_type": "code",
     "checksum": "ee77097b8816f801f7cce04931a30487",
     "grade": true,
     "grade_id": "test_a6_implementation",
     "locked": true,
     "points": 5,
     "schema_version": 3,
     "solution": false,
     "task": false
    }
   },
   "outputs": [],
   "source": [
    "### THIS CELL CONTAINS AUTOMATED TESTS OF YOUR SOLUTION; DO NOT DELETE IT!\n"
   ]
  },
  {
   "cell_type": "markdown",
   "metadata": {
    "deletable": false,
    "editable": false,
    "nbgrader": {
     "cell_type": "markdown",
     "checksum": "9442dbc9060d2ee3b785550982aa16a3",
     "grade": false,
     "grade_id": "q7",
     "locked": true,
     "schema_version": 3,
     "solution": false
    }
   },
   "source": [
    "#### 1.7 System of equations [15 points]\n",
    "\n",
    "Find a general solution to the following system of equations:\n",
    "\\begin{align*}\n",
    "    x' &= x + 2y - z \\\\\n",
    "    y' &= x + z \\\\\n",
    "    z' &= 4x - 4y + 5z\n",
    "\\end{align*}"
   ]
  },
  {
   "cell_type": "markdown",
   "metadata": {
    "deletable": false,
    "nbgrader": {
     "cell_type": "markdown",
     "checksum": "dd51ea50f1f31f1c5840a6a0875266e8",
     "grade": true,
     "grade_id": "a7",
     "locked": false,
     "points": 10,
     "schema_version": 3,
     "solution": true
    }
   },
   "source": [
    "The above system of Differential equation can be represented as \n",
    "\n",
    "\\begin{equation*}\n",
    " \\begin{bmatrix}\n",
    "     x' \\\\ y' \\\\ z' \n",
    " \\end{bmatrix} = \n",
    " \\begin{bmatrix}\n",
    "     1 & 2 & -1 \\\\\n",
    "     1 & 0 & 1 \\\\\n",
    "     4 & -4 & 5 \\\\ \n",
    " \\end{bmatrix}\n",
    " \\begin{bmatrix}\n",
    "     x \\\\ y \\\\ z \n",
    " \\end{bmatrix} \n",
    "\\end{equation*}\n",
    "\n",
    "$M' = AM + G$\n",
    "\n",
    "Because G being a constant matrix and during homogeneous transformation \n",
    "\n",
    "\\begin{equation*}\n",
    "det\n",
    "\\begin{bmatrix}\n",
    "     1-\\lambda & 2 & -1 \\\\\n",
    "     1 & -\\lambda & 1 \\\\\n",
    "     4 & -4 & 5 - \\lambda \\\\ \n",
    "\\end{bmatrix} = 0\n",
    "\\end{equation*}\n",
    "\n",
    "$(1-\\lambda) (-\\lambda (5-\\lambda) - (-4))-(-4 + 4\\lambda)  - 2((5-\\lambda)-4)= 0$\n",
    "\n",
    "Solving the above cubic equation gives eigen values as $\\lambda_{1}=1$, $\\lambda_{2}=2$, $\\lambda_{3}= 3$\n",
    "\n",
    "Using $\\lambda_{1}$ = 1 :\n",
    "\n",
    "\\begin{equation*} \n",
    " \\begin{bmatrix}\n",
    "     0 & 2 & -1 \\\\\n",
    "     1 & -1 & 1 \\\\\n",
    "     4 & -4 & 4 \\\\ \n",
    " \\end{bmatrix}\n",
    " \\begin{bmatrix}\n",
    "     x \\\\ y \\\\ z \n",
    " \\end{bmatrix} = 0\n",
    "\\end{equation*}\n",
    "\n",
    "We get \n",
    "\n",
    "\\begin{equation*} \n",
    "\\begin{bmatrix}\n",
    "     x \\\\ y \\\\ z \n",
    "\\end{bmatrix} = k1*\n",
    "\\begin{bmatrix}\n",
    "     -1 \\\\ 1 \\\\ 2 \n",
    "\\end{bmatrix}\n",
    "\\end{equation*}\n",
    "\n",
    "similarly for $\\lambda_{2} = 2$ we get \n",
    "\n",
    "\\begin{equation*} \n",
    "\\begin{bmatrix}\n",
    "     x \\\\ y \\\\ z \n",
    "\\end{bmatrix} = k2*\n",
    "\\begin{bmatrix}\n",
    "     -2 \\\\ 1 \\\\ 4 \n",
    "\\end{bmatrix}\n",
    "\\end{equation*}\n",
    "\n",
    "similarly for $\\lambda_{3} = 3 $ we get \n",
    "\n",
    "\\begin{equation*} \n",
    "\\begin{bmatrix}\n",
    "     x \\\\ y \\\\ z \n",
    "\\end{bmatrix} = k3*\n",
    "\\begin{bmatrix}\n",
    "     -1 \\\\ 1 \\\\ 4 \n",
    "\\end{bmatrix}\n",
    "\\end{equation*}\n",
    "\n",
    "k1 , k2 and k3 are constants because the solutions can be any value which is a multiple of the obtained solutions\n",
    "\n",
    "So finally solution of the above System of Equations is \n",
    "\n",
    "\\begin{equation*} \n",
    "\\begin{bmatrix}\n",
    "     x \\\\ y \\\\ z \n",
    "\\end{bmatrix} = \n",
    "\\begin{bmatrix}\n",
    "     k1 & k2 &k3\n",
    "\\end{bmatrix}\n",
    "\\begin{bmatrix}\n",
    "     -1 &-2 & -1 \\\\\n",
    "     1 & 1 & 1 \\\\\n",
    "     2 & 4 & 4 \\\\ \n",
    "\\end{bmatrix}\n",
    "\\begin{bmatrix}\n",
    "     e^{t} \\\\ \n",
    "     e^{2t}\\\\\n",
    "     e^{3t}\\\\ \n",
    "\\end{bmatrix}\n",
    "\\end{equation*}\n",
    "\n",
    "Final genral solution is : \n",
    "\\begin{equation*}\n",
    "x = - k_{1} e^{t} - 2k_{2}e^{2t} - k_{3} e^{3t} \\\\\n",
    "y = k_{1} e^{t} + k_{2} e^{2t} + k_{3} e^{3t} \\\\\n",
    "z = 2k_{1}e^{t} + 4k_{2}e^{2t} + 4k_{3}e^{3t}\n",
    "\\end{equation*}\n"
   ]
  },
  {
   "cell_type": "code",
   "execution_count": 8,
   "metadata": {
    "deletable": false,
    "nbgrader": {
     "cell_type": "code",
     "checksum": "a9a2fbaeea16b6b3c599946591c357e0",
     "grade": false,
     "grade_id": "a7_implementation",
     "locked": false,
     "schema_version": 3,
     "solution": true,
     "task": false
    }
   },
   "outputs": [
    {
     "data": {
      "image/png": "[encoded data removed]",
      "text/latex": [
       "$\\displaystyle \\left[ x{\\left(t \\right)} = - C_{1} e^{t} - 2 C_{2} e^{2 t} - C_{3} e^{3 t}, \\  y{\\left(t \\right)} = C_{1} e^{t} + C_{2} e^{2 t} + C_{3} e^{3 t}, \\  z{\\left(t \\right)} = 2 C_{1} e^{t} + 4 C_{2} e^{2 t} + 4 C_{3} e^{3 t}\\right]$"
      ],
      "text/plain": [
       "⎡             t         2⋅t       3⋅t             t       2⋅t       3⋅t       \n",
       "⎣x(t) = - C₁⋅ℯ  - 2⋅C₂⋅ℯ    - C₃⋅ℯ   , y(t) = C₁⋅ℯ  + C₂⋅ℯ    + C₃⋅ℯ   , z(t) \n",
       "\n",
       "        t         2⋅t         3⋅t⎤\n",
       "= 2⋅C₁⋅ℯ  + 4⋅C₂⋅ℯ    + 4⋅C₃⋅ℯ   ⎦"
      ]
     },
     "execution_count": 8,
     "metadata": {},
     "output_type": "execute_result"
    }
   ],
   "source": [
    "# Write code to verify your solution of the above system\n",
    "# YOUR CODE HERE\n",
    "x = sp.Symbol('x')\n",
    "y = sp.Symbol('y')\n",
    "z = sp.Symbol('z')\n",
    "\n",
    "t = sp.Symbol('t')\n",
    "\n",
    "X = sp.Function('x')(t)\n",
    "Y = sp.Function('y')(t)\n",
    "Z = sp.Function('z')(t)\n",
    "\n",
    "X_prime = sp.Derivative(X,t)\n",
    "Y_prime = sp.Derivative(Y,t)\n",
    "Z_prime = sp.Derivative(Z,t)\n",
    "\n",
    "eq1 = X_prime-X-2*Y+ Z\n",
    "eq2 = Y_prime-X-Z\n",
    "eq3 = Z_prime-4*X+4*Y-5*Z\n",
    "\n",
    "eq=[eq1,eq2,eq3]\n",
    "sp.dsolve(eq)"
   ]
  },
  {
   "cell_type": "code",
   "execution_count": null,
   "metadata": {
    "deletable": false,
    "editable": false,
    "nbgrader": {
     "cell_type": "code",
     "checksum": "658451181c6c344f3c23377d27e4c6dc",
     "grade": true,
     "grade_id": "test_a7_implementation",
     "locked": true,
     "points": 5,
     "schema_version": 3,
     "solution": false,
     "task": false
    }
   },
   "outputs": [],
   "source": [
    "### THIS CELL CONTAINS AUTOMATED TESTS OF YOUR SOLUTION; DO NOT DELETE IT!\n"
   ]
  },
  {
   "cell_type": "markdown",
   "metadata": {
    "deletable": false,
    "editable": false,
    "nbgrader": {
     "cell_type": "markdown",
     "checksum": "289853f3ec6277ffbd3f2081d50aa690",
     "grade": false,
     "grade_id": "q_higher_order_ode",
     "locked": true,
     "schema_version": 3,
     "solution": false
    }
   },
   "source": [
    "## Representing higher order ODEs as systems of ODEs [10 points]\n",
    "\n",
    "Represent the following equation as a system of first order ODEs. You don't need to solve the system after writing it down.\n",
    "\n",
    "\\begin{equation*}\n",
    "    y^{(4)} + 10y^{(3)} + y' + 7y + e^t - t^2 = 0\n",
    "\\end{equation*}"
   ]
  },
  {
   "cell_type": "markdown",
   "metadata": {
    "deletable": false,
    "nbgrader": {
     "cell_type": "markdown",
     "checksum": "59e47e14ab8afffea55f737b96fcfdde",
     "grade": true,
     "grade_id": "a_higher_order_ode",
     "locked": false,
     "points": 10,
     "schema_version": 3,
     "solution": true
    }
   },
   "source": [
    "Assuming the following-\n",
    "\n",
    "\\begin{equation*}\n",
    "    y = x_{1}  \\\\\n",
    "    y' = x_{2} \\\\\n",
    "    y'' = x_{3} \\\\\n",
    "    y''' = x_{4} \\\\\n",
    "    y'''' = x_{5}\n",
    "\\end{equation*}\n",
    "\n",
    "As per our assumption, the following also holds true- \n",
    "\n",
    "\\begin{equation*}\n",
    "    y' = x_{1}' = x_{2}  \\\\\n",
    "    y'' = x_{2}' = x_{3} \\\\\n",
    "    y''' = x_{3}' = x_{4} \\\\\n",
    "    y'''' = x_{4}' \\\\\n",
    "\\end{equation*}\n",
    "\n",
    "Rewriting the given equation on the basis of our assumptions- \n",
    "\n",
    "\\begin{equation*}\n",
    "    x_{4}' + 10x_{4} + x_{2} + 7x_{1} + e^{t} - t^{2} = 0\n",
    "\\end{equation*}\n",
    "\n",
    "Transposing the terms to one side and rearranging the equation, we get- \n",
    "\n",
    "\\begin{equation*}\n",
    "    x_{4}' = -10x_{4} - x_{2} - 7x_{1} - e^{t} + t^{2} \n",
    "\\end{equation*}\n",
    "\n",
    "The same can be represented in the matrix as below:\n",
    "$$x' = \n",
    "\\begin{bmatrix}\n",
    "    x_1'\\\\\n",
    "    x_2'\\\\\n",
    "    x_3'\\\\\n",
    "    x_4'\n",
    "\\end{bmatrix}  \n",
    "=\n",
    "\\begin{bmatrix}\n",
    "    0 & 1 & 0 & 0\\\\\n",
    "    0 & 0 & 1 & 0\\\\\n",
    "    0 & 0 & 0 & 1\\\\\n",
    "    -7 & -1 & 0 & -10\n",
    "\\end{bmatrix} \\cdot\n",
    "\\begin{bmatrix}\n",
    "    x_1\\\\\n",
    "    x_2\\\\\n",
    "    x_3\\\\\n",
    "    x_4\n",
    "\\end{bmatrix} +\n",
    "\\begin{bmatrix}\n",
    "    0\\\\\n",
    "    0\\\\\n",
    "    0\\\\\n",
    "    -e^t+t^2\n",
    "    \\end{bmatrix} \n",
    "$$\n",
    "Reference-\n",
    "https://www.math.psu.edu/tseng/class/Math251/Notes-LinearSystems.pdf"
   ]
  },
  {
   "cell_type": "markdown",
   "metadata": {
    "deletable": false,
    "editable": false,
    "nbgrader": {
     "cell_type": "markdown",
     "checksum": "bf25113878d2bebae82f7ef473f67ea2",
     "grade": false,
     "grade_id": "q_phase_plane",
     "locked": true,
     "schema_version": 3,
     "solution": false
    }
   },
   "source": [
    "## Analysing systems of ODEs using a phase plane [15 points]\n",
    "\n",
    "One useful tool for analysing solutions to a system of differential equation is the so-called *phase plane*. In this exercise, your task is twofold:\n",
    "\n",
    "a) Read [this](http://tutorial.math.lamar.edu/Classes/DE/PhasePlane.aspx) description of the phase plane (but also fell free to find any other sources that describe it in more detail), then summarise the concept and its applications **in your own words** below. Be as detailed as possible with the explanation. **[5 points]**"
   ]
  },
  {
   "cell_type": "markdown",
   "metadata": {
    "deletable": false,
    "nbgrader": {
     "cell_type": "markdown",
     "checksum": "3756e3635cbcb86d41e08385df2d6bf6",
     "grade": true,
     "grade_id": "a_phase_plane",
     "locked": false,
     "points": 5,
     "schema_version": 3,
     "solution": true
    }
   },
   "source": [
    "#### write a short summary of what the phase plane represents and is used for here ####\n",
    "\n",
    "First order differntial equation can be written in the form of matrix. Let say below is the representation of 2 linear first order differential equations,\n",
    "$$x_1'(t)= ax_1(t)+ bx_2(t)$$\n",
    "$$x_2'(t)= cx_1(t)+ dx_2(t)$$\n",
    "$$ x' = Ax$$\n",
    "\n",
    "where $$x' = \n",
    "\\begin{bmatrix}\n",
    "    x_1'(t)\\\\\n",
    "    x_2'(t)\n",
    "\\end{bmatrix}  ,\n",
    "A = \n",
    "\\begin{bmatrix}\n",
    "    a & b\\\\\n",
    "    c & d\n",
    "\\end{bmatrix}  and \\space\n",
    "x = \n",
    "\\begin{bmatrix}\n",
    "    x_1(t)\\\\\n",
    "    x_2(t)\n",
    "\\end{bmatrix}\n",
    "$$\n",
    "\n",
    "We can observer the behaviour of each function using direction field and integral curve which represents the function v/s time. Similarly it is possible to interpret a picture of function1 v/s function2 which in our case $x_1(t)$ v/s $x_2(t)$. This plot known as phase portrait.\n",
    "More formally, phase portrait is the plot of paramatric curves of soultions with t as parameter. This plot is plotted on cartesian plane and is called phase plane. Phase portraits for each solution also called trajectories.\n",
    "\n",
    "we know that equilibrium solution is a solution to a derivative equation whose derivative is zero everywhere.\n",
    "for the above system, equilibrium solution given as,\n",
    "\n",
    "$$ Ax = 0$$\n",
    "\n",
    "i.e. a point (x1,x2) where $x' = 0$ (a.k.a critical point.)\n",
    "\n",
    "now if we consider A as a nonsingular matrix then we have exactly one solution i.e.\n",
    "\n",
    "$$\n",
    "x = \n",
    "\\begin{bmatrix}\n",
    "    x_1(t)\\\\\n",
    "    x_2(t)\n",
    "\\end{bmatrix} = 0\n",
    "$$\n",
    "\n",
    "now the solution to the above can be found by finding eigen values and eigen vector of Matrix A.\n",
    "\n",
    "The behavior of the given differential equations can be identified from the equilibrium solution called critical point. Which is classified in terms of stability. Where trajectories are moving away towards infinte from critical point or viceversa.\n",
    "\n",
    "The eigen values which are found for a given set of differential equation can be,\n",
    "1. Distinct real eigenvalues\n",
    "where general solution is $$ x = c_1v_1e^{\\lambda_1t}+c_2v_2e^{\\lambda_2t}$$\n",
    "$\\lambda_1 \\& \\lambda_1$ are eigen values<br/>\n",
    "$v_1 \\& v_2$ are corresponding eigen vectors\n",
    "\n",
    "    a. both eigen values are Negative : asymptotically stable <br/>\n",
    "    b. both eigen values are Positive : unstable <br/>\n",
    "    c. both eigen values have Opposite sign: unstable \n",
    "2. Repeated and real eigenvalues\n",
    "where general solution is $$ x = c_1v_1e^{\\lambda t}+c_2v_2e^{\\lambda t}$$\n",
    "\n",
    "    a. eigen value is positive: asymptotically stable <br/>\n",
    "    b. eigen value is negative: unstable <br/>\n",
    "3. Complex conjugate eigenvalues\n",
    "where general solution is $$ x = c_1e^{\\lambda t}(Acos(\\mu t)-Bsin(\\mu t))+c_2e^{\\lambda t}(Acos(\\mu t)+Bsin(\\mu t))$$\n",
    "\n",
    "    a. Real part of Eigen value is zero: stable <br/>\n",
    "    b. Real part of Eigen value is non-zero: asymptotically stable <br/>\n",
    "    \n",
    "To wrap up above discussion, when t increases and if all trajectoris converges to critcal point, system is called asymptotically stable\n",
    "\n",
    "with increase in t, if all trajectories moves away from critical point to infinitely far away, then system is called unstable.\n",
    "\n",
    "And if trajectoris stays in a fixed bound from critical point then it is called stable.\n",
    "\n",
    "And this complete observation can be done in phase plane.\n",
    "\n",
    "reference: https://www.shmoop.com/differential-equations/equilibrium-solutions.html <br/>\n",
    "http://www.math.psu.edu/tseng/class/Math251/Notes-PhasePlane.pdf <br/>\n",
    "http://www.livetoad.info/Courses/Documents/03e0/Notes/phase_portraits.pdf <br/>\n",
    "http://tutorial.math.lamar.edu/Classes/DE/PhasePlane.aspx"
   ]
  },
  {
   "cell_type": "markdown",
   "metadata": {
    "deletable": false,
    "editable": false,
    "nbgrader": {
     "cell_type": "markdown",
     "checksum": "6143fba3c054758a5ba736aef91ae556",
     "grade": false,
     "grade_id": "q_phase_plane_example",
     "locked": true,
     "schema_version": 3,
     "solution": false
    }
   },
   "source": [
    "b) Suppose that we are given the system of equations\n",
    "\\begin{align*}\n",
    "    \\frac{dx}{dt} &= x^2 - 1 \\\\\n",
    "    \\frac{dy}{dt} &= xy\n",
    "\\end{align*}\n",
    "Identify the equilibrium points of the system. **[10 points]**\n",
    "\n",
    "**Hint**: Find out whether it's possible to plot a phase portrait in Python; if it is, plot the phase portrait of the given system and try to identify the equilibrium points with its help."
   ]
  },
  {
   "cell_type": "markdown",
   "metadata": {
    "deletable": false,
    "nbgrader": {
     "cell_type": "markdown",
     "checksum": "47ed900173c02997fbc1e54d4683a48a",
     "grade": true,
     "grade_id": "a_phase_plane_equilibrium_points",
     "locked": false,
     "points": 4,
     "schema_version": 3,
     "solution": true
    }
   },
   "source": [
    "#### describe how the equilibrium points can be found here ####\n",
    "\n",
    "the equilibrium point is where its derivative is zero so by making $\\frac{dx}{dt}$ and $\\frac{dy}{dt}$ to zero we get the equilibrium point.\n",
    "\n",
    "\\begin{align*}\n",
    "   x^2 - 1 = 0\\\\\n",
    "    x = \\pm 1\n",
    "\\end{align*}\n",
    "\n",
    "and \n",
    "\n",
    "\\begin{align*}\n",
    "    xy = 0\\\\\n",
    "    y = 0\n",
    "\\end{align*}\n",
    "\n",
    "hence equilibrium point is $(\\pm 1, 0)$#### describe how the equilibrium points can be found here ####\n",
    "\n",
    "YOUR ANSWER HERE"
   ]
  },
  {
   "cell_type": "code",
   "execution_count": 9,
   "metadata": {
    "deletable": false,
    "nbgrader": {
     "cell_type": "code",
     "checksum": "b97ce3c8aa623d7eb2494bdf696423ed",
     "grade": true,
     "grade_id": "a_phase_plane_implementation",
     "locked": false,
     "points": 4,
     "schema_version": 3,
     "solution": true
    }
   },
   "outputs": [
    {
     "data": {
      "image/png": "[encoded data removed]",
      "text/plain": [
       "<Figure size 1080x720 with 1 Axes>"
      ]
     },
     "metadata": {
      "needs_background": "light"
     },
     "output_type": "display_data"
    }
   ],
   "source": [
    "# YOUR CODE HERE\n",
    "# YOUR CODE HERE\n",
    "def f_prime(fun,t):\n",
    "    x,y = fun\n",
    "    return [x**2-1, x*y]\n",
    "\n",
    "# to observer the phase portrait, taking x and y in below ranges \n",
    "# and calculating derivative of x,y\n",
    "x = np.linspace(-8.0, 8.0, 20)\n",
    "y = np.linspace(-2.0, 2.0, 20)\n",
    "X, Y = np.meshgrid(x, y)\n",
    "\n",
    "t = 0\n",
    "u = np.zeros(X.shape)\n",
    "v = np.zeros(Y.shape)\n",
    "ci,cj = X.shape\n",
    "for i in range(ci):\n",
    "    for j in range(cj):\n",
    "        x1 = X[i, j]\n",
    "        y1 = Y[i, j]\n",
    "        yprime = f_prime([x1, y1], t)\n",
    "        u[i,j] = yprime[0]\n",
    "        v[i,j] = yprime[1]\n",
    "\n",
    "fig = plt.figure(figsize=(15,10))\n",
    "plt.xlabel('$x$')\n",
    "plt.ylabel('$y$')\n",
    "plt.xlim([-8, 8])\n",
    "plt.ylim([-4, 4])\n",
    "plt.streamplot(X, Y, u, v, linewidth=1, cmap=plt.cm.inferno, color = 'b', density=2, arrowstyle='->', arrowsize=1.5)\n",
    "\n",
    "# plt.figure(figsize=(15,10))\n",
    "# Q = plt.quiver(X, Y, u, v, color='r')\n",
    "\n",
    "# plt.xlabel('$x$')\n",
    "# plt.ylabel('$y$')\n",
    "# plt.xlim([-8, 8])\n",
    "# plt.ylim([-4, 4])\n",
    "\n",
    "#below is the observation for few random (x,y) points\n",
    "from scipy.integrate import odeint\n",
    "for x20,y20 in [[0.9,0.5], [-0.9,-1], [0.7,1.5] , [-4,2], [1,0], [1,-0.01]]:\n",
    "    tspan = np.linspace(0, 50, 200)\n",
    "    y0 = [x20, y20]\n",
    "    ys = odeint(f_prime, y0, tspan)\n",
    "    plt.plot(ys[:,0], ys[:,1], 'r') # path\n",
    "    plt.plot(ys[0,0], ys[0,1], 'gp' ) # start\n",
    "    plt.plot(ys[-1,0], ys[-1,1], 'rp') # end\n",
    "    \n",
    "    \n",
    "# refence: http://kitchingroup.cheme.cmu.edu/blog/2013/02/21/Phase-portraits-of-a-system-of-ODEs/\n",
    "# https://matplotlib.org/gallery/images_contours_and_fields/plot_streamplot.html"
   ]
  },
  {
   "cell_type": "markdown",
   "metadata": {
    "deletable": false,
    "nbgrader": {
     "cell_type": "markdown",
     "checksum": "67b76d8666d25eb96716ab1cf9362d5b",
     "grade": true,
     "grade_id": "a_phase_plane_observations",
     "locked": false,
     "points": 2,
     "schema_version": 3,
     "solution": true
    }
   },
   "source": [
    "#### write your observations here ####\n",
    "\n",
    "by solving the equation  theoritically, we got the equilibrium point for x = $\\pm 1$ and for y = 0. So the solution of given equation converges at x = $\\pm 1$ , y = 0 .\n",
    "blue graph shows the phase portraite for 2 given system of equation. for the stability it converges the solution to zero for any value of x < 1 so called asymptotically stable. For x $\\geq$ 1, it goes far away from critical point and system behaves as unstable.\n",
    "\n",
    "second step is we took some random starting point (x,y) in the graph. and plotted the behavior of the both systems. Red curves shows the behavior of random point we have selected in graph and all converges to (-1,0). one point (1,-0.5) we have selected and if we see it converges to infinity and doesn't return to zero. <br/>\n",
    "Start point is represented by - Green Dot <br/>\n",
    "End point is represnted by - Red Dot"
   ]
  },
  {
   "cell_type": "markdown",
   "metadata": {
    "deletable": false,
    "editable": false,
    "nbgrader": {
     "cell_type": "markdown",
     "checksum": "307564b062ddeaaa95e8c9bf09e99c6e",
     "grade": false,
     "grade_id": "predator_prey_description",
     "locked": true,
     "schema_version": 3,
     "solution": false
    }
   },
   "source": [
    "## Optional exercise (for fun)\n",
    "\n",
    "### Introduction\n",
    "\n",
    "The following section is an excerpt from *Fundamentals of Differential Equations 8th Ed.* by Nagle, Saff, and Snider.\n",
    "\n",
    "\"A mathematical model for the population dynamics of competing species, one a predator with\n",
    "population $x_2(t)$ and the other its prey with population $x_1(t)$ , was developed independently in the\n",
    "early 1900s by A. J. Lotka and V. Volterra. It assumes that there is plenty of food available for the\n",
    "prey to eat, so the birthrate of the prey should follow the Malthusian or exponential law (see Section 3.2); that is, the birthrate of the prey is $Ax_1$ , where $A$ is a positive constant. The death rate of\n",
    "the prey depends on the number of interactions between the predators and the prey. This is modeled by the expression $Bx_1x_2$ , where $B$ is a positive constant. Therefore, the rate of change in the\n",
    "population of the prey per unit time is $\\frac{dx_1}{dt} = Ax_1 - Bx_1x_2$ . Assuming that the predators\n",
    "depend entirely on the prey for their food, it is argued that the birthrate of the predators depends\n",
    "on the number of interactions with the prey; that is, the birthrate of predators is $Dx_1x_2$ , where $D$ is\n",
    "a positive constant. The death rate of the predators is assumed to be $Cx_2$ because without food the\n",
    "population would die off at a rate proportional to the population present. Hence, the rate of\n",
    "change in the population of predators per unit time is $\\frac{dx_2}{dt} = -Cx_2 + Dx_1x_2$ . Combining these\n",
    "two equations, we obtain the Volterra–Lotka system for the population dynamics of two competing species:\n",
    "\n",
    "\\begin{align*}\n",
    "    x_1' = Ax_1 - Bx_1x_2 &\\quad\\quad(1) \\\\\n",
    "    x_2' = -Cx_2 + Dx_1x_2  &\\quad\\quad(2)\n",
    "\\end{align*}\n",
    "\n",
    "Such systems are in general not explicitly solvable.\"\n",
    "\n",
    "What is described here is the modelling of population dynamics using a system of non-linear first-order differential equations. The equations of the form shown above are also called Lotka–Volterra equations or predator-prey equations; (1) is the equation for the rate of change of the prey population and (2) is the equation for the rate of change of the predator population.\n",
    "\n",
    "In this exercise, your task is to solve this system using the Runge-Kutta fourth-order method (aka RK4)."
   ]
  },
  {
   "cell_type": "markdown",
   "metadata": {
    "deletable": false,
    "editable": false,
    "nbgrader": {
     "cell_type": "markdown",
     "checksum": "b59212c61338b0b88b59f59235354a5c",
     "grade": false,
     "grade_id": "rk4_description",
     "locked": true,
     "schema_version": 3,
     "solution": false
    }
   },
   "source": [
    "### Jedi vs. Inquisitors\n",
    "\n",
    "After the Clone Wars in the Star Wars universe, [Emperor Palpatine](http://starwars.wikia.com/wiki/Palpatine) has set up a network of [inquisitors](http://starwars.wikia.com/wiki/Inquisitorius), whose sole purpose is hunting down and killing any remaining [Jedi](http://starwars.wikia.com/wiki/Jedi) in the galaxy; this is examined in the [Star Wars Rebels](https://en.wikipedia.org/wiki/Star_Wars_Rebels) TV series. The inquisitors are managed by [Darth Vader](http://starwars.wikia.com/wiki/Anakin_Skywalker), who is quite unforgiving if the inquisitors are not doing their job properly (i.e. he imprisons and/or kills them); this means that if the inquisitors want to survive, they have to keep hunting the Jedi.\n",
    "\n",
    "For the purpose of this problem, we will take the Jedi to represent the prey (this is not strictly true because the Jedi are more than capable of looking after themselves, but we will ignore that aspect in this problem) and the inquisitors to represent the predators, so the population dynamics of the Jedi and the inquisitors can be modelled using equations (1) and (2).\n",
    "\n",
    "### RK4 for solving systems of equations\n",
    "\n",
    "Euler's method, which we looked at in the previous lab class and assignment, belongs to the family of [Runge-Kutta methods](http://mathworld.wolfram.com/Runge-KuttaMethod.html) for solving ODEs. As we've mentioned in the lab, Euler's method is a first-order method; higher-order Runge-Kutta methods also consider the slopes at points between the current and next step instead of just the slope at the current point and are thus more accurate (but also more computationally demanding).\n",
    "\n",
    "A commonly used Runge-Kutta method in practice is the fourth-order Runge-Kutta method (aka RK4). Given a first-order ODE, RK4 estimates the value of the function at consecutive steps using the following set of equations:\n",
    "\n",
    "\\begin{gather*}\n",
    "    y^\\prime = f(t, y) \\\\~\\\\\n",
    "    k_1 = h \\cdot f(t_n,y_n) \\\\\n",
    "    k_2 = h \\cdot f(t_n + \\frac{h}{2}, y_n + \\frac{k_1}{2}) \\\\\n",
    "    k_3 = h \\cdot f(t_n + \\frac{h}{2}, y_n + \\frac{k_2}{2}) \\\\\n",
    "    k_4 = h \\cdot f(t_n + h, y_n + k_3) \\\\~\\\\\n",
    "    t_{n+1} = t_n + h \\\\\n",
    "    y_{n+1} = y_n + \\frac{1}{6}[k_1 + 2k_2 + 2k_3 + k_4] \n",
    "\\end{gather*}\n",
    "\n",
    "This is how we can use RK4 for solving a single differential equation, but we now need to extend the set of equations so that we can use the method for solving systems.\n",
    "\n",
    "Your first task is thus writing down the set of equations that RK4 will use for estimating the solution to a system of two equations, namely a system of the form\n",
    "\n",
    "\\begin{align*}\n",
    "    x_1' &= f(t, x_1, x_2) \\\\\n",
    "    x_2' &= g(t, x_1, x_2)\n",
    "\\end{align*}\n",
    "\n",
    "such that, given a time step $h$, we know that\n",
    "\n",
    "\\begin{equation*}\n",
    "    t_{n+1} = t_n + h\n",
    "\\end{equation*}"
   ]
  },
  {
   "cell_type": "markdown",
   "metadata": {
    "deletable": false,
    "nbgrader": {
     "cell_type": "markdown",
     "checksum": "8194a7284d27ab68a0a24deb848aceac",
     "grade": true,
     "grade_id": "a_rk4_system",
     "locked": false,
     "points": 0,
     "schema_version": 3,
     "solution": true
    }
   },
   "source": [
    "YOUR ANSWER HERE"
   ]
  },
  {
   "cell_type": "markdown",
   "metadata": {
    "deletable": false,
    "editable": false,
    "nbgrader": {
     "cell_type": "markdown",
     "checksum": "5d7986b4951e2fa0859d4ad7d3299f4d",
     "grade": false,
     "grade_id": "q_jedi_vs_inquisitors",
     "locked": true,
     "schema_version": 3,
     "solution": false
    }
   },
   "source": [
    "### Implementation\n",
    "\n",
    "Now that you have the set of equations, implement RK4 for solving the Jedi vs. Inquisitor problem. Use $A = 10.0$, $B = 7.0$, $C = 3.0$, and $D = 5.0$ for the system constants and assume that the initial populations of the Jedi and inquisitors are $60$ and $25$ respectively. Using a step size $h = 0.01$, run the Runge-Kutta solver for at least 200 iterations and then plot the resulting population curves over time  (assuming that time is represented in years). Your solution should look similar to the one shown below."
   ]
  },
  {
   "cell_type": "code",
   "execution_count": null,
   "metadata": {
    "deletable": false,
    "editable": false,
    "nbgrader": {
     "cell_type": "code",
     "checksum": "64f23e02e7a10a5f0af84cb17bb42a49",
     "grade": false,
     "grade_id": "jedi_vs_inquisitors_plot",
     "locked": true,
     "schema_version": 3,
     "solution": false
    }
   },
   "outputs": [],
   "source": [
    "IPython.core.display.Image(\"images/predator_prey_example.png\", embed=True)"
   ]
  },
  {
   "cell_type": "code",
   "execution_count": 10,
   "metadata": {
    "deletable": false,
    "nbgrader": {
     "cell_type": "code",
     "checksum": "28574fb819942df685b79b1fa7f13e8a",
     "grade": true,
     "grade_id": "jedi_vs_inquisitors_rk4_implementation",
     "locked": false,
     "points": 0,
     "schema_version": 3,
     "solution": true
    }
   },
   "outputs": [
    {
     "data": {
      "image/png": "[encoded data removed]",
      "text/plain": [
       "<Figure size 2160x576 with 1 Axes>"
      ]
     },
     "metadata": {
      "needs_background": "light"
     },
     "output_type": "display_data"
    }
   ],
   "source": [
    "# YOUR CODE HERE\n",
    "### write your code here ###\n",
    "A, B, C, D = 10, 7, 3, 5\n",
    "\n",
    "def f(t,x1,x2):\n",
    "     return A*x1 - B*x1*x2\n",
    "def g(t,x1,x2):\n",
    "     return -C*x2 + D*x1*x2\n",
    "    \n",
    "def func(t,y):\n",
    "    x1,x2 = y\n",
    "    return np.array([f(t,x1,x2), g(t,x1,x2)])\n",
    "\n",
    "def RK4(t_initial, x1_initial, x2_initial, h, n ):\n",
    "    \n",
    "    # source : https://smath.com/wiki/GetFile.aspx?File=Examples/RK4SystemEquations.pdf&AspxAutoDetectCookieSupport=1 \n",
    "    # intial condition\n",
    "    t, x1, x2 = t_initial, x1_initial, x2_initial\n",
    "    result = list()\n",
    "    y = np.array([x1,x2])\n",
    "    \n",
    "    for i in range(n):\n",
    "        result.append([t,y])\n",
    "        k1 = h * (func(  t,       y) )\n",
    "        k2 = h * (func( (t+h/2), (y+k1/2)) )\n",
    "        k3 = h * (func( (t+h/2), (y+k2/2)) )\n",
    "        k4 = h * (func( (t+h),   (y+k3)) )\n",
    "        y =  y + (k1 + 2*k2 + 2*k3 + k4) /6\n",
    "        t = round(t + h , 2)\n",
    "    return np.array(result, dtype=object)\n",
    "    \n",
    "\n",
    "\n",
    "solution = RK4(t_initial=0, \n",
    "               x1_initial=60, \n",
    "               x2_initial=25, \n",
    "               h = 0.01, n = 200)\n",
    "\n",
    "# unpacking\n",
    "time,y = np.hsplit(solution,2)\n",
    "jedi = [i[0] for j in y for i in j]\n",
    "inquisitors = [i[1] for j in y for i in j]\n",
    "\n",
    "\n",
    "# Plotting\n",
    "fig = plt.figure(figsize=(30,8))\n",
    "ax1 = fig.add_subplot(121)\n",
    "ax1.set (xlabel = \"Time (years)\", ylabel = 'Population')\n",
    "ax1.plot(time, jedi, label ='Jedi', color = 'green')\n",
    "ax1.plot(time, inquisitors, label ='Inquisitors', color = 'red')\n",
    "plt.legend()\n",
    "plt.show()\n"
   ]
  },
  {
   "cell_type": "code",
   "execution_count": null,
   "metadata": {},
   "outputs": [],
   "source": []
  }
 ],
 "metadata": {
  "kernelspec": {
   "display_name": "Python 3",
   "language": "python",
   "name": "python3"
  },
  "language_info": {
   "codemirror_mode": {
    "name": "ipython",
    "version": 3
   },
   "file_extension": ".py",
   "mimetype": "text/x-python",
   "name": "python",
   "nbconvert_exporter": "python",
   "pygments_lexer": "ipython3",
   "version": "3.7.6"
  },
  "nbTranslate": {
   "displayLangs": [
    "*"
   ],
   "hotkey": "alt-t",
   "langInMainMenu": true,
   "sourceLang": "en",
   "targetLang": "fr",
   "useGoogleTranslate": true
  }
 },
 "nbformat": 4,
 "nbformat_minor": 1
}
